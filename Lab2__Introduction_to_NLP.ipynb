{
  "cells": [
    {
      "cell_type": "markdown",
      "metadata": {
        "id": "view-in-github",
        "colab_type": "text"
      },
      "source": [
        "<a href=\"https://colab.research.google.com/github/axcel342/NLP_Labs/blob/main/Lab2__Introduction_to_NLP.ipynb\" target=\"_parent\"><img src=\"https://colab.research.google.com/assets/colab-badge.svg\" alt=\"Open In Colab\"/></a>"
      ]
    },
    {
      "cell_type": "markdown",
      "metadata": {
        "id": "mea-CemjMt15"
      },
      "source": [
        "# **LAB 2: Introduction to NLP**"
      ]
    },
    {
      "cell_type": "markdown",
      "metadata": {
        "id": "HNe9J3sPMyU-"
      },
      "source": [
        "**Natural Language Processing (NLP)** is a field of linguistics and machine learning focused on understanding everything related to human language. The aim of NLP tasks is not only to understand single words individually, but to be able to understand the context of those words."
      ]
    },
    {
      "cell_type": "markdown",
      "metadata": {
        "id": "KUPIYDoTM3yo"
      },
      "source": [
        "# **Objectives:**\n",
        "This lab is designed to introduce students to foundational Natural Language Processing (NLP) concepts and techniques. By the end of this lab, students will be familiar with several key NLP tasks and will have implemented basic examples for each. These tasks include:\n",
        "\n",
        "1. Tokenization\n",
        "2. Part-of-Speech (POS) Tagging\n",
        "3. Word Sense Disambiguation\n",
        "4. Dependency Parsing\n",
        "5. Syntactic Parsing\n",
        "6. Text Classification\n",
        "7. Coreference Resolution\n",
        "8. Named Entity Recognition (NER)\n",
        "9. Natural Language Generation"
      ]
    },
    {
      "cell_type": "markdown",
      "metadata": {
        "id": "5qlzf5zCOw4g"
      },
      "source": [
        "# **Libraries Used:**\n",
        "\n",
        "**Natural Language Toolkit** or [**NLTK**](https://www.nltk.org/) is one of the most famous libraries for Natural Language Processing, and is used to perform a veriety of NLP tasks. To go deep into the details of NLTK, you can consult this amazing book [Natural Language Processing with Python](https://www.nltk.org/book/)\n",
        "\n",
        "There are some other libraries as well, which include [**SpaCy**](https://spacy.io/), [**HuggingFace Transformers**](https://huggingface.co/docs/transformers/main/en/index) and [**AllenNLP**](https://github.com/allenai/allennlp), but out main focus will be on this library.\n",
        "\n",
        "\n"
      ]
    },
    {
      "cell_type": "markdown",
      "metadata": {
        "id": "CCXnD1uqtTr6"
      },
      "source": [
        "# 1.  **Tokenization**\n",
        "\n",
        "\n",
        "Tokenization is the process of splitting a text into individual components, such as words or sentences, called tokens. It is essential for further processing of text data.\n",
        "## **Example:**\n",
        "\n",
        "**Input Text**: \"I love working with large language models.\"\n",
        "\n",
        "**Word Tokenization**: [\"I\", \"love\", \"working\", \"with\", \"large\", \"language\", \"models\", \".\"]\n",
        "\n",
        "**Character Tokenization**: [\"I\", \" \", \"l\", \"o\", \"v\", \"e\", \" \", \"w\", \"o\", \"r\", \"k\", \"i\", \"n\", \"g\", \" \", \"w\", \"i\", \"t\", \"h\", \" \", \"l\", \"a\", \"r\", \"g\", \"e\", \" \", \"l\", \"a\", \"n\", \"g\", \"u\", \"a\", \"g\", \"e\", \" \", \"m\", \"o\", \"d\", \"e\", \"l\", \"s\", \".\"]\n",
        "\n",
        "The choice of tokenization depends on the use case.\n",
        "\n",
        "## **Example Code:**"
      ]
    },
    {
      "cell_type": "code",
      "execution_count": null,
      "metadata": {
        "colab": {
          "base_uri": "https://localhost:8080/"
        },
        "id": "WyO0WR1ZVXOr",
        "outputId": "f878523d-a000-4d2d-952a-809c1ad8afb8"
      },
      "outputs": [
        {
          "output_type": "stream",
          "name": "stderr",
          "text": [
            "[nltk_data] Downloading package punkt_tab to /root/nltk_data...\n",
            "[nltk_data]   Unzipping tokenizers/punkt_tab.zip.\n",
            "[nltk_data] Downloading package punkt to /root/nltk_data...\n",
            "[nltk_data]   Unzipping tokenizers/punkt.zip.\n"
          ]
        },
        {
          "output_type": "execute_result",
          "data": {
            "text/plain": [
              "True"
            ]
          },
          "metadata": {},
          "execution_count": 1
        }
      ],
      "source": [
        "# Import Libraries\n",
        "import nltk\n",
        "nltk.download('punkt_tab')\n",
        "from nltk.tokenize import word_tokenize, sent_tokenize\n",
        "\n",
        "# Download the required tokenizer models\n",
        "nltk.download('punkt')"
      ]
    },
    {
      "cell_type": "code",
      "execution_count": null,
      "metadata": {
        "colab": {
          "base_uri": "https://localhost:8080/"
        },
        "id": "mbG0mjeD5Q_K",
        "outputId": "082a08d2-8f94-4a39-a70b-7a2f9932f4fe"
      },
      "outputs": [
        {
          "output_type": "stream",
          "name": "stdout",
          "text": [
            "Sentences: ['I love working with large language models.', 'They are fascinating tools.']\n",
            "Words: ['I', 'love', 'working', 'with', 'large', 'language', 'models', '.', 'They', 'are', 'fascinating', 'tools', '.']\n"
          ]
        }
      ],
      "source": [
        "# Sample Text\n",
        "text = \"I love working with large language models. They are fascinating tools.\"\n",
        "\n",
        "# Sentence Tokenization\n",
        "sentences = sent_tokenize(text)\n",
        "print(\"Sentences:\", sentences)\n",
        "\n",
        "# Word Tokenization\n",
        "words = word_tokenize(text)\n",
        "print(\"Words:\", words)"
      ]
    },
    {
      "cell_type": "markdown",
      "metadata": {
        "id": "uh_QBO6X81Yv"
      },
      "source": [
        "*Key points:*\n",
        "\n",
        "\n",
        "*  `nltk.download('punkt')` is necessary to download the models for tokenization.\n"
      ]
    },
    {
      "cell_type": "markdown",
      "metadata": {
        "id": "Klz4sgna9K2q"
      },
      "source": [
        "# 2.  **Part-of-Speech (POS) Tagging**\n",
        "\n",
        "\n",
        "Part-of-Speech (POS) tagging involves assigning a part of speech (e.g., noun, verb, adjective) to each token.\n",
        "\n",
        "It helps in understanding the grammatical structure of a sentence, which is vital for downstream tasks like parsing and entity recognition.\n",
        "\n",
        "## **Example:**\n",
        "\n",
        "**Input Sentence:**\n",
        "\"I love working with large language models.\"\n",
        "\n",
        "**Word Tokenization:** [\"I\", \"love\", \"working\", \"with\", \"large\", \"language\", \"models\", \".\"]\n",
        "\n",
        "**POS Tagging Output:**\n",
        "* I - Pronoun (PRP)\n",
        "* love - Verb (VBP)\n",
        "* working - Verb (VBG)\n",
        "* with - Preposition (IN)\n",
        "* large - Adjective (JJ)\n",
        "* language - Noun (NN)\n",
        "* models - Noun (NNS)\n",
        "* . - Punctuation (.)\n",
        "\n",
        "\n",
        "## **Example Code:**"
      ]
    },
    {
      "cell_type": "code",
      "execution_count": null,
      "metadata": {
        "colab": {
          "base_uri": "https://localhost:8080/"
        },
        "id": "9SELCyUfz9Sr",
        "outputId": "b39386de-6189-4576-e904-e3963e0b59b9"
      },
      "outputs": [
        {
          "output_type": "stream",
          "name": "stderr",
          "text": [
            "[nltk_data] Downloading package averaged_perceptron_tagger_eng to\n",
            "[nltk_data]     /root/nltk_data...\n",
            "[nltk_data]   Unzipping taggers/averaged_perceptron_tagger_eng.zip.\n"
          ]
        },
        {
          "output_type": "execute_result",
          "data": {
            "text/plain": [
              "True"
            ]
          },
          "metadata": {},
          "execution_count": 3
        }
      ],
      "source": [
        "from nltk import pos_tag\n",
        "# Download the model for POS tagging\n",
        "nltk.download('averaged_perceptron_tagger_eng')"
      ]
    },
    {
      "cell_type": "code",
      "execution_count": null,
      "metadata": {
        "colab": {
          "base_uri": "https://localhost:8080/"
        },
        "id": "o2pIJybS_0-T",
        "outputId": "3ceb60a3-72ac-4417-cfd2-08ba021360c3"
      },
      "outputs": [
        {
          "output_type": "stream",
          "name": "stdout",
          "text": [
            "POS Tags: [('I', 'PRP'), ('have', 'VBP'), ('to', 'TO'), ('fix', 'VB'), ('my', 'PRP$'), ('cycle', 'NN'), ('.', '.')]\n"
          ]
        }
      ],
      "source": [
        "# Sample Text\n",
        "words = [\"I\", \"have\",\"to\",\"fix\",\"my\",\"cycle\",\".\"]\n",
        "\n",
        "# POS Tagging\n",
        "pos_tags = pos_tag(words)\n",
        "print(\"POS Tags:\", pos_tags)"
      ]
    },
    {
      "cell_type": "markdown",
      "metadata": {
        "id": "t_nFyA4CAn7v"
      },
      "source": [
        "*Key points:*\n",
        "\n",
        "\n",
        "* `pos_tag`: Assigns POS tags to each word in the tokenized list.\n",
        "\n",
        "* Requires tokenized input.\n",
        "\n",
        "\n"
      ]
    },
    {
      "cell_type": "markdown",
      "metadata": {
        "id": "WjaUC6_3CFyO"
      },
      "source": [
        "# 3.  **Word Sense Disambiguation (WSD)**\n",
        "Word sense disambiguation determines the correct meaning of a word based on context.\n",
        "\n",
        "## **Example:**\n",
        "**Sentence 1:**\n",
        "\"The bark of the tree was rough.\"\n",
        "\n",
        "**Sentence 2:**\n",
        "\"The dog started to bark loudly.\"\n",
        "\n",
        "In Sentence 1, \"bark\" refers to the outer layer of a tree, while in Sentence 2, \"bark\" refers to the sound a dog makes.\n",
        "\n",
        "\n",
        "## **How WSD Works:**\n",
        "\n",
        "**Contextual Clues:** The surrounding words provide hints about the meaning of the ambiguous word. The surrounding words help distinguish whether \"bark\" refers to the tree part (noun) or the dog’s sound (verb).\n",
        "\n",
        "**Sense Selection:** It chooses the word sense (meaning) that best matches the context using methods like rule-based (e.g., Lesk) or machine learning models.\n",
        "\n",
        "\n",
        "\n",
        "\n",
        "\n",
        "\n",
        "## **Example Code:**"
      ]
    },
    {
      "cell_type": "code",
      "execution_count": null,
      "metadata": {
        "colab": {
          "base_uri": "https://localhost:8080/"
        },
        "id": "0ufooy80hEoH",
        "outputId": "38840f39-9d7a-4092-fb41-c7ff9068e81e"
      },
      "outputs": [
        {
          "output_type": "stream",
          "name": "stderr",
          "text": [
            "[nltk_data] Downloading package wordnet to /root/nltk_data...\n"
          ]
        },
        {
          "output_type": "execute_result",
          "data": {
            "text/plain": [
              "True"
            ]
          },
          "metadata": {},
          "execution_count": 5
        }
      ],
      "source": [
        "from nltk.corpus import wordnet\n",
        "from nltk.wsd import lesk\n",
        "\n",
        "# Download WordNet data\n",
        "nltk.download('wordnet')"
      ]
    },
    {
      "cell_type": "code",
      "execution_count": null,
      "metadata": {
        "colab": {
          "base_uri": "https://localhost:8080/"
        },
        "id": "-1onuTMEDPSU",
        "outputId": "4c59ebad-06f5-4dce-e5f3-ae82dd23d003"
      },
      "outputs": [
        {
          "output_type": "stream",
          "name": "stdout",
          "text": [
            "Definitions for 'bark':\n",
            "- tough protective covering of the woody stems and roots of trees and other woody plants\n",
            "- a noise resembling the bark of a dog\n",
            "- a sailing ship with 3 (or more) masts\n",
            "- the sound made by a dog\n",
            "- speak in an unfriendly tone\n",
            "- cover with bark\n",
            "- remove the bark of a tree\n",
            "- make barking sounds\n",
            "- tan (a skin) with bark tannins\n"
          ]
        }
      ],
      "source": [
        "word = \"bark\"\n",
        "\n",
        "# Get all possible definitions for the word\n",
        "definitions = wordnet.synsets(word)\n",
        "\n",
        "print(f\"Definitions for '{word}':\")\n",
        "for syn in definitions:\n",
        "    print(f\"- {syn.definition()}\")"
      ]
    },
    {
      "cell_type": "markdown",
      "metadata": {
        "id": "YoiISxPtGqdB"
      },
      "source": [
        "Now, this code prints all possible definition of the word given as input. Let's define a sentence for disambiguation:"
      ]
    },
    {
      "cell_type": "code",
      "execution_count": null,
      "metadata": {
        "colab": {
          "base_uri": "https://localhost:8080/"
        },
        "id": "62MhtkXTHD7X",
        "outputId": "bf674681-7877-4978-9a4d-102a4243cccd"
      },
      "outputs": [
        {
          "output_type": "stream",
          "name": "stdout",
          "text": [
            "Chosen sense of 'bark': Synset('bark.n.02')\n",
            "Definition: a noise resembling the bark of a dog\n"
          ]
        }
      ],
      "source": [
        "# Define a sentence\n",
        "sentence = \"The dog started to bark loudly.\"\n",
        "\n",
        "# Perform WSD using Lesk algorithm\n",
        "sense = lesk(nltk.word_tokenize(sentence), \"bark\")\n",
        "\n",
        "# Print out the sense and its definition\n",
        "print(f\"Chosen sense of 'bark': {sense}\")\n",
        "print(f\"Definition: {sense.definition()}\")"
      ]
    },
    {
      "cell_type": "markdown",
      "metadata": {
        "id": "Oso4NfY7Di6X"
      },
      "source": [
        "*Key points:*\n",
        "* `wordnet.synset` function retrieves all possible meanings of a word, which can be narrowed down based on its context.\n",
        "* `lesk()` function applies the Lesk algorithm. It is a simple but effective method for WSD. It works by choosing the sense of a word based on the overlap between the context of the word in the sentence and the definitions of its possible senses in a lexical resource like WordNet. It requires a tokenized input."
      ]
    },
    {
      "cell_type": "markdown",
      "metadata": {
        "id": "myV3Bbf5ILbN"
      },
      "source": [
        "# 4.  **Dependency Parsing**\n",
        "\n",
        "Dependency parsing determines the grammatical relationships between words in a sentence, like which word depends on which other word in the sentence. It helps understand the syntactic structure and dependencies.\n",
        "\n",
        "## **Example:**\n",
        "**Input Sentence:**\n",
        "\"I love working with large language models.\"\n",
        "\n",
        "**Dependency Parsing Output:**\n",
        "* \"I\" → Subject of \"love\"\n",
        "* \"love\" → Main verb (root)\n",
        "* \"working\" → Verb phrase dependent on \"love\"\n",
        "* \"with\" → Preposition connecting \"working\" to \"large\"\n",
        "* \"large\" → Adjective modifying \"language\"\n",
        "* \"language\" → Noun modified by \"large\"\n",
        "* \"models\" → Noun object of \"language\"\n",
        "\n",
        "## **Example Code:**"
      ]
    },
    {
      "cell_type": "code",
      "execution_count": null,
      "metadata": {
        "id": "Ri8k6Z5QIznW"
      },
      "outputs": [],
      "source": [
        "import spacy\n",
        "\n",
        "# Load the spaCy model\n",
        "nlp = spacy.load(\"en_core_web_sm\")"
      ]
    },
    {
      "cell_type": "code",
      "execution_count": null,
      "metadata": {
        "colab": {
          "base_uri": "https://localhost:8080/"
        },
        "id": "qvJyjD4oK9Yc",
        "outputId": "623980dc-1d00-4375-8e25-633f771d34fe"
      },
      "outputs": [
        {
          "output_type": "stream",
          "name": "stdout",
          "text": [
            "Dependency Parsing:\n",
            "NLP --> nsubj --> is\n",
            "is --> ROOT --> is\n",
            "fascinating --> acomp --> is\n",
            ". --> punct --> is\n"
          ]
        }
      ],
      "source": [
        "# Process sentence\n",
        "sentence = \"NLP is fascinating.\"\n",
        "doc = nlp(sentence)\n",
        "\n",
        "# Print dependency relations\n",
        "print(\"Dependency Parsing:\")\n",
        "for token in doc:\n",
        "    print(f\"{token.text} --> {token.dep_} --> {token.head.text}\")\n",
        "\n",
        "# nsubj = nominal subject | ROOT = main verb | acomp = adjectival compliment | punct = punctuation"
      ]
    },
    {
      "cell_type": "markdown",
      "metadata": {
        "id": "TLAbsTJzBm99"
      },
      "source": [
        "You can also visualise the results as follows:"
      ]
    },
    {
      "cell_type": "code",
      "execution_count": null,
      "metadata": {
        "colab": {
          "base_uri": "https://localhost:8080/",
          "height": 498
        },
        "id": "Jh0ks_p8BgBO",
        "outputId": "30b05fb0-54d0-4141-8071-3bfed8f6f0f0"
      },
      "outputs": [
        {
          "output_type": "stream",
          "name": "stderr",
          "text": [
            "/usr/local/lib/python3.11/dist-packages/spacy/displacy/__init__.py:106: UserWarning: [W011] It looks like you're calling displacy.serve from within a Jupyter notebook or a similar environment. This likely means you're already running a local web server, so there's no need to make displaCy start another one. Instead, you should be able to replace displacy.serve with displacy.render to show the visualization.\n",
            "  warnings.warn(Warnings.W011)\n"
          ]
        },
        {
          "output_type": "display_data",
          "data": {
            "text/plain": [
              "<IPython.core.display.HTML object>"
            ],
            "text/html": [
              "<span class=\"tex2jax_ignore\"><!DOCTYPE html>\n",
              "<html lang=\"en\">\n",
              "    <head>\n",
              "        <title>displaCy</title>\n",
              "    </head>\n",
              "\n",
              "    <body style=\"font-size: 16px; font-family: -apple-system, BlinkMacSystemFont, 'Segoe UI', Helvetica, Arial, sans-serif, 'Apple Color Emoji', 'Segoe UI Emoji', 'Segoe UI Symbol'; padding: 4rem 2rem; direction: ltr\">\n",
              "<figure style=\"margin-bottom: 6rem\">\n",
              "<svg xmlns=\"http://www.w3.org/2000/svg\" xmlns:xlink=\"http://www.w3.org/1999/xlink\" xml:lang=\"en\" id=\"381d4d8af3f742aca4fc7853ebfa65fa-0\" class=\"displacy\" width=\"575\" height=\"224.5\" direction=\"ltr\" style=\"max-width: none; height: 224.5px; color: #000000; background: #ffffff; font-family: Arial; direction: ltr\">\n",
              "<text class=\"displacy-token\" fill=\"currentColor\" text-anchor=\"middle\" y=\"134.5\">\n",
              "    <tspan class=\"displacy-word\" fill=\"currentColor\" x=\"50\">NLP</tspan>\n",
              "    <tspan class=\"displacy-tag\" dy=\"2em\" fill=\"currentColor\" x=\"50\">PROPN</tspan>\n",
              "</text>\n",
              "\n",
              "<text class=\"displacy-token\" fill=\"currentColor\" text-anchor=\"middle\" y=\"134.5\">\n",
              "    <tspan class=\"displacy-word\" fill=\"currentColor\" x=\"225\">is</tspan>\n",
              "    <tspan class=\"displacy-tag\" dy=\"2em\" fill=\"currentColor\" x=\"225\">AUX</tspan>\n",
              "</text>\n",
              "\n",
              "<text class=\"displacy-token\" fill=\"currentColor\" text-anchor=\"middle\" y=\"134.5\">\n",
              "    <tspan class=\"displacy-word\" fill=\"currentColor\" x=\"400\">fascinating.</tspan>\n",
              "    <tspan class=\"displacy-tag\" dy=\"2em\" fill=\"currentColor\" x=\"400\">ADJ</tspan>\n",
              "</text>\n",
              "\n",
              "<g class=\"displacy-arrow\">\n",
              "    <path class=\"displacy-arc\" id=\"arrow-381d4d8af3f742aca4fc7853ebfa65fa-0-0\" stroke-width=\"2px\" d=\"M70,89.5 C70,2.0 225.0,2.0 225.0,89.5\" fill=\"none\" stroke=\"currentColor\"/>\n",
              "    <text dy=\"1.25em\" style=\"font-size: 0.8em; letter-spacing: 1px\">\n",
              "        <textPath xlink:href=\"#arrow-381d4d8af3f742aca4fc7853ebfa65fa-0-0\" class=\"displacy-label\" startOffset=\"50%\" side=\"left\" fill=\"currentColor\" text-anchor=\"middle\">nsubj</textPath>\n",
              "    </text>\n",
              "    <path class=\"displacy-arrowhead\" d=\"M70,91.5 L62,79.5 78,79.5\" fill=\"currentColor\"/>\n",
              "</g>\n",
              "\n",
              "<g class=\"displacy-arrow\">\n",
              "    <path class=\"displacy-arc\" id=\"arrow-381d4d8af3f742aca4fc7853ebfa65fa-0-1\" stroke-width=\"2px\" d=\"M245,89.5 C245,2.0 400.0,2.0 400.0,89.5\" fill=\"none\" stroke=\"currentColor\"/>\n",
              "    <text dy=\"1.25em\" style=\"font-size: 0.8em; letter-spacing: 1px\">\n",
              "        <textPath xlink:href=\"#arrow-381d4d8af3f742aca4fc7853ebfa65fa-0-1\" class=\"displacy-label\" startOffset=\"50%\" side=\"left\" fill=\"currentColor\" text-anchor=\"middle\">acomp</textPath>\n",
              "    </text>\n",
              "    <path class=\"displacy-arrowhead\" d=\"M400.0,91.5 L408.0,79.5 392.0,79.5\" fill=\"currentColor\"/>\n",
              "</g>\n",
              "</svg>\n",
              "</figure>\n",
              "</body>\n",
              "</html></span>"
            ]
          },
          "metadata": {}
        },
        {
          "output_type": "stream",
          "name": "stdout",
          "text": [
            "\n",
            "Using the 'dep' visualizer\n",
            "Serving on http://0.0.0.0:5000 ...\n",
            "\n",
            "Shutting down server on port 5000.\n"
          ]
        }
      ],
      "source": [
        "from spacy import displacy\n",
        "# Visualize the dependency parsing\n",
        "displacy.serve(doc, style=\"dep\")"
      ]
    },
    {
      "cell_type": "markdown",
      "metadata": {
        "id": "bGvIQZr9L9V_"
      },
      "source": [
        "*Key points:*\n",
        "* `token.text`: The actual word being analyzed\n",
        "* `token.dep_`: The dependency label describing the grammatical role of the word (e.g., nsubj for subject, prep for preposition).\n",
        "* `token.head.text`: Points to the word the token depends on.\n",
        "\n"
      ]
    },
    {
      "cell_type": "markdown",
      "metadata": {
        "id": "SlbZNg_uQFb9"
      },
      "source": [
        "# 5.  **Syntactic Parsing**\n",
        "Syntactic parsing, is the process of analyzing the grammatical structure of a sentence. It creates a parse tree, which represents the hierarchical structure of a sentence according to a given grammar. This helps in understanding how words and phrases relate to one another.\n",
        "\n",
        "## **Important Concepts:**\n",
        "* **Grammar Rules (CFG - Context-Free Grammar)**: A set of formal rules that specify how sentences can be constructed.\n",
        "\n",
        "* **Parse Tree**: A tree-like structure representing the grammatical hierarchy of a sentence.\n",
        "\n",
        "* **Parser Types:**\n",
        "\n",
        "  (i) Top-down parsers: Start from the root and break down into parts.\n",
        "\n",
        "  (ii) Bottom-up parsers: Start from the words and build up to the sentence.\n",
        "\n",
        "## **Example Code:**\n",
        "\n",
        "\n",
        "\n",
        "\n",
        "\n"
      ]
    },
    {
      "cell_type": "code",
      "execution_count": null,
      "metadata": {
        "colab": {
          "base_uri": "https://localhost:8080/"
        },
        "id": "adqWgtmyQUBu",
        "outputId": "44cf3ab2-2896-4523-c922-9371e8401a21"
      },
      "outputs": [
        {
          "output_type": "stream",
          "name": "stdout",
          "text": [
            "Parse Tree(s):\n",
            "(S (NP (Det the) (N dog)) (VP (V chased) (NP (Det the) (N cat))))\n",
            "              S               \n",
            "      ________|_____           \n",
            "     |              VP        \n",
            "     |         _____|___       \n",
            "     NP       |         NP    \n",
            "  ___|___     |      ___|___   \n",
            "Det      N    V    Det      N \n",
            " |       |    |     |       |  \n",
            "the     dog chased the     cat\n",
            "\n"
          ]
        }
      ],
      "source": [
        "from nltk import CFG\n",
        "from nltk.parse import RecursiveDescentParser\n",
        "\n",
        "# Define a grammar for parsing\n",
        "\n",
        "grammar = CFG.fromstring(\"\"\"\n",
        "    S -> NP VP\n",
        "    NP -> Det N\n",
        "    VP -> V NP\n",
        "    Det -> 'the' | 'a'\n",
        "    N -> 'dog' | 'cat' | 'mat'\n",
        "    V -> 'chased' | 'sat'\n",
        "\"\"\")\n",
        "\n",
        "# Explanation:\n",
        "# S -> Sentence which represents the root node.\n",
        "# NP -> Noun Phrase which represents the subject (e.g., \"the dog\")\n",
        "# VP -> Verb Phrase which represents the predicate (e.g., \"chased the cat\")\n",
        "# Det -> Determiner (e.g., \"the\")\n",
        "# N -> Noun (e.g., \"dog\", \"cat\")\n",
        "# V -> Verb (e.g., \"chased\")\n",
        "\n",
        "\n",
        "# Create a parser using Recursive Descent Parsing\n",
        "parser = RecursiveDescentParser(grammar)\n",
        "\n",
        "# Define the sentence to parse\n",
        "sentence = ['the', 'dog', 'chased', 'the', 'cat']\n",
        "\n",
        "# Parse the sentence and display results\n",
        "\n",
        "print(\"Parse Tree(s):\")\n",
        "for tree in parser.parse(sentence):\n",
        "    print(tree)\n",
        "    tree.pretty_print()\n"
      ]
    },
    {
      "cell_type": "markdown",
      "metadata": {
        "id": "S9SLYwZLz2n9"
      },
      "source": [
        "*Key points:*\n",
        "* Grammar rules define the structure of valid sentences.\n",
        "\n",
        "* The `RecursiveDescentParser()` constructs parse trees based on the defined grammar.\n",
        "\n",
        "\n",
        "* `pretty_print()` shows visual representation of the tree."
      ]
    },
    {
      "cell_type": "markdown",
      "metadata": {
        "id": "3QZL0XPfQUjU"
      },
      "source": [
        "# 6.  **Text Classification**\n",
        "\n",
        "Text Classification is the process of categorizing text into pre-defined groups.\n",
        "\n",
        "Spam/Ham Classification, Article/Blog Categorization and Sentiment Analysis are some examples. We will discuss sentiment analysis in detail in this lab.\n",
        "\n",
        "## **Sentiment Analysis**\n",
        "Sentiment analysis determines the emotional tone of a text (positive, negative, or neutral). It is commonly used in customer feedback analysis and social media monitoring.\n",
        "\n",
        "## **Example**\n",
        "**Input Text:** My brother is happy.\n",
        "\n",
        "This conveys a positive sentiment because it describes a happy emotional state.\n",
        "\n",
        "## **Example Code:**"
      ]
    },
    {
      "cell_type": "code",
      "execution_count": null,
      "metadata": {
        "colab": {
          "base_uri": "https://localhost:8080/"
        },
        "id": "lbaKZRVbQZ4m",
        "outputId": "39a0d17f-50ab-4bb7-ebd4-68d12fec3b51"
      },
      "outputs": [
        {
          "output_type": "stream",
          "name": "stdout",
          "text": [
            "Sentiment: Sentiment(polarity=-0.8, subjectivity=0.9)\n"
          ]
        }
      ],
      "source": [
        "from textblob import TextBlob\n",
        "\n",
        "text = \"I hate mathematics\"\n",
        "\n",
        "# Analyze sentiment\n",
        "blob = TextBlob(text)\n",
        "print(\"Sentiment:\", blob.sentiment)"
      ]
    },
    {
      "cell_type": "markdown",
      "metadata": {
        "id": "8lwGmkYogFgB"
      },
      "source": [
        "*Key points:*\n",
        "* `TextBlob.sentiment`: Returns **polarity** (positive/negative score) and **subjectivity** (opinion vs fact).\n",
        "* **Polarity**: A float value between -1.0 (negative sentiment) and 1.0 (positive sentiment). The higher the polarity, the more positive the sentiment. For example:\n",
        "\n",
        "      Polarity = 0.75: Strong positive sentiment.\n",
        "      Polarity = -0.5: Moderate negative sentiment.\n",
        "      Polarity = 0.0: Neutral sentiment (neither positive nor negative).\n",
        "\n",
        "\n",
        "\n",
        "\n",
        "\n",
        "\n",
        "* **Subjectivity**: A float value between 0.0 (objective, factual) and 1.0 (subjective, opinion). Higher subjectivity means the text is more opinion-based or personal. For example:\n",
        "      Subjectivity = 0.1: Very objective (factual).\n",
        "      Subjectivity = 0.9: Very subjective (opinion-based).\n",
        "      Subjectivity = 0.5: Balanced between factual and opinion-based."
      ]
    },
    {
      "cell_type": "markdown",
      "metadata": {
        "id": "5TkrwBHiR__u"
      },
      "source": [
        "# 7. **Coreference Resolution**\n",
        "\n",
        "Coreference resolution is the task of identifying all the expressions (e.g., pronouns, names) in a text that refer to the same entity, and linking them together.\n",
        "\n",
        "It is a crucial task in NLP as it enables a system to maintain a consistent representation of entities throughout a document, enabling more accurate information extraction and text understanding.\n",
        "\n",
        "## **Example:**\n",
        "\n",
        "\n",
        "**Input Text:** \"Marie was born in Paris. She loves the museums.\"\n",
        "\n",
        "**Coreference Resolution Output:** \"Marie was born in Paris. **Marie** loves the museums.\"\n",
        "\n",
        "\n",
        "In this example, Marie and She are coreferent.\n",
        "\n",
        "![image.png](data:image/png;base64,iVBORw0KGgoAAAANSUhEUgAAAncAAADZCAYAAABCQxbVAAAAAXNSR0IArs4c6QAAAARnQU1BAACxjwv8YQUAAAAJcEhZcwAAEnQAABJ0Ad5mH3gAADpSSURBVHhe7d13kCTZYef3b5Y3XdXV3pvx3s+sgVsY7sISIAiK1Am4o3QhHXkKXVyIilCEIu4PMKQISaG7ixAVoo4UKRqAuMMRR3gsgN3F7s5id2bHe9vee2/K5tMfbaYnp93MdPXUVP8+Ebs99d6rV1mZlS9/aarSMsYYRERERCQvuJwFIiIiIvL8UrgTERERySMKdyIiIiJ5ROFOREREJI8o3ImIiIjkEYU7ERERkTyicCciIiKSRxTuRERERPKIwp2IiIhIHlG4ExEREckjCnciIiIieUThTkRERCSPKNyJiIiI5BGFOxEREZE8onAnIiIikkcU7kRERETyiMKdiIiISB5RuBMRERHJIwp3IiIiInlE4U5EREQkjyjciYiIiOQRhTsRERGRPKJwJyIiIpJHFO5ERERE8ojCnYiIiEgeUbgTERERySMKdyIiIvLEjDGY+b9zjxfKH/67wPl4Oc7nOv8ucD5ejrPNxvY1995zjWUWloaIiIjIY5qYjdM+OMzI9CwZ23640hiwrAd/F8qWctazwvOWWuhjuTocz1+wXFvndDmfg2P6HNPj93ioKorSUFqM25U7x8tyPtwZY0hlMlxo7eBaezeTMwkMcx8ea34GG2OwLGtxr2ElS9uDBcvk7YU2C1bv01rymchen2XRCEcbajhQV4XX7X6kv2yyjWFgfJKLrR20D42STKUeVK61QrDMSrtcm6WeVZ8LHH0GfT52VpZxrLGWwlAQl2Vt6vx3MsZgG0P/+CQXWtrpHB4jlU47mz3wOPPKsuY+wau14dn3aYD60mJe2tVIZWH0mSwTw9w0jk7PcKGlg7bBEWYSiYcbPc7njkc/e8t6zD4ty1qc1hU5591qbZf2CZQUhDm5vZ7dVeXPZMOWsW0GJ6a42NJBx/AoiSXj00PvfaV59RifO1jn/N+kPg0Q8vnYUVHKie31FIaCWPPr22ZJZzK8c+s+t7p7eXnXdhpKiygqCD+Tz8KzMBVPMDgxxa3uXu529/ObJw6xu6p808ej5eR0uEumM5y510L70AixcJCicIiA14PX7Z5vYc0PswszcuGtLH28XJv1lrFKm6X16ylbKGeFvh6tsw2k7QwziSSj0zPMJFJsryjlxLZ6fJ6FeZAdtjF0j4xzo7OboM9LY1kJxeEQoYAfdw58cDdDMp1hOpFkcHKS9sFRbNvmxPZ6SqMFi0trM9nG0D44wq3uXiLBAA2lxXPLxO/DtUWWiW0MiVSa4alpmvsHiSfTnNrRQHFBaNMGVAMMzu/w+DweGsqKKS0IUxDwb5mNmgESqTQTs7O0DY7QNzbBofpqtpeXOptmhQG6hke53tlDyOejsayYonCI8JYcn6ZoHxzGNobjjXWURQs2ZV3oGR3nzP1WdlWWcbCuetODZS4xwORsnMutnaRtm0/s24nH5dqU5bCSnA13tjH89emzlITD1JcWbZmN12psY7jbM0A0FODzR/Zn7YNjgLbBYd673cTXXjhGKODbsivtAmMMI1Mz/ODCVX73peNEggFnk6wywO2uXj5sauP3Xj5B0K9lYoDBiSn+04eX+frHThEJ+LO2Tiw1Oj3DTy/d4Csnj1AQ8G3Ka+a6VDrDDy5c45V9OykvjDirN5QxhvahEd69dZ+vvXiMcMCvdWH+KPL3z1/lP3vpONEsj0/JdJofXrjGb544TMDrcVZvWbYxfNjURjyV4pP7dz/Tz2VO7mamMzZvXLtNcShIg4LdIpdlsbe6nMnZOPf7Bp3VG2ZiJs619u75gVMhAuZO8RRHwnzh6AF+cvkGM4mks0lWjU5N09w/xNc/9oKC3TwLKIuE+a1TR3jrxl2mN2GZTCWSvHH9Dq8d3kckuDlh8nng9bh57fBefnHtNj2j487qDTU+G+dSaydfe/EYBQp2sDA+FYT5wrGDvH7lVlbHJ2MMb9+6z+H6GvwKdg9xWRYv7WxkNpFiYnbWWb2pci7cGWMYn5llZGqaxvJSDZ4OlmVRX1rETy5dx3ZeuLoBjDH89PINjjbWEvL5nNVbmgVUxqIcqK2ifWjEWZ01xhj+4dwVTmyfOx2vNeIBy7KoikXZX1PJ9c4eZ/WGMsbwwd1mDtdXU5blo1PPo8JQkK+eOsy55nZSmYyzekPYxvD6lZsc31ZHOOB3Vm95lYVR9tVU0Do4/NAFQRvFAMNTM/SOjrOzskxj0Qp2VJTSOTS69rXGWZRz4Q7L4lpnN6WRAmeNzAt6vRQVhGkd3PiAMTgxhd/rob6k6JHrrGUuTDSUFjMwPpmVwXM5XcNjFIZDVMUKnVUyr7GshM6hUabiiawNqLPJFIl0mt2VFdqoraAgEKA0EmZoctpZtSGGJqbwe+euAdYyeJRlzX3ZaGhiylm1MYyhqW+AF3Y04LJyLz7kAsuyKI0UZGX7/DhybukYY7jV1Tf3zR9npcD8h6e2qJCu4Y3fMxiYmOJATdWDb2XJIwJeL+Oz8Q2f98sxxtAxPMoLOxq0SFbh93rYX1vJ1faurH12pxNJKqJRnU1Yw7byUi63djiLN0Tf+AT7ayqdxbJEwOthKpHI2vZzeGqG7eWl2VrN8kJBwM/A+MSmHQBYTk6Gu9lkMuvfBn3eRYIBZpIbf11FMp2mJBJyFssSbreLVDq9KeEOLGaTSSqiOg24ltriIrpHx5f/KYkNYBtDyO/VRm0NxeEQfeOTzuINkUilKQoHncWyhMftJpnOzmlx5q8r07V2q/PO55fN2UYsL+fCHbDpv+X2PAp4PVnZK/C4XXjcuq5rNW7L2tSfvPC43bjdm/d6z6uCoJ9kapXf/HtKFuDzaKO2Fr/XQ3K13158Ch63C69by2A1bsvK6sERt0tbh7W4LItn/cMwObnF0Ldj15bN8JvNvvPFZs6jzXyt55nF2j9kLtlnzS+LrMli13lDq8GWl5PhTkRERESejMKdiIiISB5RuBMRERHJIwp3IiIiInlE4U5EREQkjyjciYiIiOQRhTsRERGRPLLlwt1aP4O1RvWy1upT5HmSSKWzduN3eToaarLHzN9RYPE/Z4N1MkbLSZ69LRXu+scmeOfmHdLLbLiMMVxu7aB/bPyxV8w73b20DQw5i0WeS69fus7l1k5nseSAvzt9lv7xCWexPCVjDN99/zx/9fYH/NXb7/N3733IpeZ20hnb2XRVxsCZe81cydK9dUXWa0uFu8GJKX59u4nOodFHAlzatvnllZsMTUw5atZWVRSjqCDsLBZ5Lo3PxJlJbPx9i+XpHairJhrUvVU3mgGa+wb4zKG9fOH4YT6xfzdn7jbzyys3nU1XZVnQWFZCVVGhs0pkU22pcAewv7aKtsGhR86lfnCnmdJoZPG2OcYYRqemudHRzd3uPuKp1GIg7B0dZ2x6ltudvUzMzOJxuxbvNWqAiZk4Nzt6uN87oNNby0ikUnQOPwjYs8kUvaPjS+rT9I7OHUFNpNJca+/i/TtNNPcNYM8vN2MMY9MzfHivlTN3mxmefPxQLisxZDIZbnX18v6dJvqWHM02wEwiyfmmtsX5vnDLr6GJKSZmZrnd1cu19i6m4gl6RsYYmpzig7vNXG3ryto9R7eKsN+/ePet9sFhJmbjnLvfyrmmNmaTKUdreRw+j4fywiiVsSj1pcV8/RMvcvZ+C8yPN4MTk5y528L5pjYmZ+OLp19vdvYwMD7JmbvN9I6O43K5Fu9BnLFt7vX0897t+9zs7Fn2rJFINmypcGcBhaEQo1MzDx25iydTnL3bzN6aysXyruFR/v7MBSxr7ojfv3/vHMaeq/3ZxWt89/1zDE1OkrFt2geGaR8cxgAdg8P85VvvkcpkaB8Y4ueXr5OxH+/Qfr6bTab4q1/9ejEUtA0M8We/fHcxuN3v6edyazuZTIb/983TXGvvwut287fvnuGt67cxxtA/PsH/9O1/YGJ2lsnZOP/793/O4Pik45XkSRjgnVt3udLaSTKd4X/53k9p7R8EYGJmlv/t+6/TPTJKPJXmX/37H3C3pw8DnGtq5S/efI+fXrrOTDJFx9AIPzh3hb948z1clsVb12/zxtVbzpeTx/Dnb5xmcGIuUP/5G6f5Nz/8BTOJJFdaOvi3P/7lY59GlJUFfT4SqbmdkZudPfzP3/sJ6UyGgfFJ/p9fvINtbDCG/+OHv+BPfvYWAxNTJNMZTt+6x+WWTowxvHXtNj+7dB2/x8Mvrtzgz998T9sD2RRbKtwxf9SopjjG5eb2xYtmb3f18unD+xb3tgDaBob5nZdPsr+uho/u3UEsHJw74jfvtaMH+Ni+3Q+djs1kbK63dfGHn/0kRxpr+czhffg9XiZn44ttBApDQcJ+P+0DwwDc6+kjkUovHn270NLGtvIyMrbNofpavv7xFzm1s5F/9Ttf4l53P6lMhqa+Qb586gifObyPV4/s57/69EeZ0HzeMHuqKvm9j57kkwd28z98+TX++u0PSKYz/Or6HT579ABfOXWUTx7YzR//3ld47/b9xSPhBcEAf/SlV3lx1zYsoGt4hH/x+U/z4q7tfP3jL3KxRdciPamlO6TMHxX655/7FK8c2M1//erHKQwGGdD1eBsinbG51NpBfVkxxhjaBob55u9+mY/t28nnjx8kEgzQMTgC86div/riMb588jD1pUWLfRigdWCIb7zyEqd2NvIvv/gb1JcW65IH2RRbKtwZIGMMhxpreev6nblTpsbQNz7OkcbaxdMdAB/Zu4OA18udrl6utHYwm0iSmj+l5Pd6KQwFsZY+AUjbGUanZ7jd1cOVtk6utHYwMTtLz5JTjgKWZfHynh18eL8FY+BGZw+fPXaAd27cxRjDheZ2GspK8Hk8fGTvDjqGRnjv9n3eu3V/7vS4gZ2VZfzk4jXeunabeCrF7uoKtleUOl9KnoCFRW1pEW6XC8uyqCspxufxMDUb53pHF7uqyrEsC8uyKCoIkck8iB2ndm7D5Vq4uAEO1NcQDvixLPB7PSRSOnW4UYoLwkSDASzLwmVZFAQDxHVq9ond6OjmH//JX/K7/+bP+IN/9y1udHTz9Y+/iGVZfO74QYI+Hxdb2nnnxl36xyaYjCdgfjyrLophWdb8+aE5FlBfWsxf/ep9mvsHydiGzx87SEEwsORVRbJjS4U75le4kM/HC7u20dQ3wORsHBcWHrf7wXppDOebWnnnxl3SGZuQ34/H/eConjPULeV2uQj5/IR8PkJ+Pwfra6kvKXY22/ION9TS3DfIlbYOdlZWcHJHIze7ernR0cO+2iqCPi/xVJq/eecDLrd2EvB6iQQDuFxzM78iVsj/+vXfxutx8933L/Ctd88yMjXtfBl5Yo9+yA2GtG0vXl/KfBDMmAenmZzPehDzZOM9Om+dR/dk/Q7W1/C3/+Kf8t0/+mf8xX/7T/hvXv0EsXAIe/706rffPctMIkkkGMDnfbA9WIllWbw6f5T7RkcPf/POB/zs0nVddyebYsuFuwWndjXSMTjCOzfusqNy7kjEgmQ6w4Xmdl47up9DDTXsqamkMBxYdjBdymVZhP1+dtdUsKemkj01leytqaQg6Hc23fJCPh9VRYV8/8PLfGL/LkI+Hwdqq/jF1Rt88sAeALqHR6koLOQrp47wwq5tnNzZuHjqvHNoBL/XyycP7OH3P/kye2squdw6d52LPD17SWBLZzIMT04T8vuoLS56KEQn02k8S8KeyPNs4Yi0ZT3YLZlJJLnW3sU/+dTLfGL/bk7tbKQiFnU881HGGO739LOjsozfeuEov//Jl2kfGGZoQtcGS/Zt2VE54PWSsW1aB4ZoKC95KLZ53C4igQBX27roGRnjalsnLX1DxNc4peR1uymPRXjr6m26hkfpHhnj7L0WfUNwGZZlsau6gnQmQ0UsiuWyOLqtjs6hUfZUVyye8mvpH+BuTz83O3v4zumzjE/PYoyha2iU775/nqbeAZr7BrnX0095YWT1w6qyLgbD2bstXG3v4n7vAH/zzhleO7qPoM/Hpw7u4a1rt7nV2UtT7wA/On+FxvJSzXfJW36PB6/bzdm7LTT3DfLurXvc6eojOf9li9W8f6eJM3dbaB8c5kZHD/FUipBfO/uSfe5vfvOb33QWPkvGGM43t9NQtvGnMl2WRTQYoDgSxmVZRIIB9tVWUxgOYQEul0UkGKQg4GdPdQX945N0D49RGo2wt7aSoM9HYTiIx+2mPBqZO5U7329B0E/Y76eqKIbf56Glf4jR6Rl2VZZTMH9dzEabjCfYVVm2oX33j09SGAoS8HqdVRvKsiASDLCzsoLSaAGWZRH0+6gvKaayqBDLsgj4vBSHw1xsaSeZSvPx/bvnf6qgkJqSGCG/j+vt3fSMjnGksY79tVW4NnBerOZu7wC7q8o35fXah0aoK5m7Bm4zeNwu9tVWMzA2QUv/EMe21/HSru24XC5i4RDVxTGutXfRMzrO0cY6jm2vx+1y4XG5KY6EKQjMbbxclotoMEBZNDLXsQUhv4+GspKHX3CDGAPXO7o53FCzoevEgulEkngqTUnk2fympQX4vB62VZTi93rxeTzUlMQWPxcet4vKWJSAL7vr7npcbO3k5PZ6Z/FT6xubIBYOEczCe/R5PNQUx3A51jO3y8WBumpa+gdp6R+iuqiQkzsaKQj4KY4UEPB62FVVgc/jwbLm2lfEIhSGQuyqKqdjeJS73f3YxvDFE4eIhUNZ+Xwudb9vkN1V5c7iDdEyMMSOitKsv4f1utrWyTs377FvE8f/9bjc1sXRxtpnNk2WybHzWBnb5k9/eZpP7NvprBKH7tFxPn9k/4auZNc6uqkvLSYW0g+lrsQYw48uXudLxw9mPXAZA6fvNPGR3dvwzu9MyPIytuE7vz7HNz7+woauEwsGxicZm5nN2kYzXxhj+PO33ucPfuNjzqqndrmtk4ayEorDIWeVzDPG8LPLN/ni8YPOqqdmjOGN63d49dDerKxjT+L0rXs09Q7wjVdeeugXL561/+/tM/z+Ky9mfRuxkmfzqiIiIiJP6eP7dvFffvqjORXscoHCnYiIiDyXrPmfApKHKdyJiIiI5BGFOxEREZE8onAnIiIikkcU7kRERETyiMKdiIiISB7JyXCXYz+9l5M0j54ts4l38dSyXi+TM7+9tdVl9ROb1c7zhNaDLS8nw10yk9EGbQ2zyWRWvv6dztik0xmNn6vI2IaMvXlzKJ3JYNsP7vUqy5uOJx65u8BGMkBKN31fUyKLt1tMZWzSWgarytgmq/Momc5ga/u8qmQ6Ddbcz7Q8K9kbCZ+QZVkEvF4NoqswwPhsgmAWbhHm9bgZnZnR3vEq0nYGr8u1SSuuIeDzMjQ57awQh5HpWWKh7Nzqj/nbE84kEmi7trqpeJJYKOAs3hB+j5uxmRlnsSyRymTwZHEnJ+jzMjQxpU3EKmYSKSIB/zPdjmbvE/AUdleVMz4bdxbLAmNoHRymvrRowzdkZZEC7nT36dzHKmaTKWKbePuj2qIYl1o7dTR7FQa409PH3upKZ9WGCfl8DE1Ob+op+edR39g4e2uysxzKohHu9gw4i2WJ2WSKSDA74dqyLBpKi7nU1jl3b0R5hDEwMDHJ9orSZ3p2POfCncuyONZYy+D4lDZmKxibmcW2DY1ZuAF7aaSAwckp+scnnVUyf/3bza5eaotjWTkt7mRZFvVlxXQMjzA0OeWslnnj07NMzMbZXlHqrNowId/cGYW2wWFnlcwzxtA5PMquyuzcf7cyFmVkepresXFnlSyOTz1UFxVmbfu5rbyE9qERRqZ1BHU5Zv7gy86Ksg0/+PI4ci7cAcRCISJBPz2j49pHdrCNoXN4jC+fOOSs2hBut4svnzjM2aY2ZpJJZ/WWd7enn+HJaepKi5xVWeOyLH7nxeNcaOkgo2vvHmGAi60dnNxe76zaUJZl8cq+XZxralfQXoYxhjP3WykMhQh6s3OfT5dl8YWjB/nwfhvxZMpZveXd7u5jZGqG+tLirAULl2XxxeMHudTSoWvvHGxjuNTWid/joSDgd1ZvqpwMdx6Pm88e3kfrwAh9o+NZ2wN5npj5ayk+uNvKjopSaopjWVl5rfmjd3ury/nJxesk07r2kcVQPcrlti6+dPwQXrfb2SSryqMFVBRG+cH5q6QyGZ0RWbJO/PjCdTxuV1aOZDsVhoL8xqE9vHHtDol0WmPTvIxtc7G1k47hUV7a1ZjVL7aURsLsrankRxevz60LzgZbkG0MHUMjXGnv5ksnDuHzZG98siyLmqIY4YCfH124RipjaxnML4MbHT009w/y8b07NuXMzmosk8Oj00wyyelb9xmcmKK8MEIsHMTnmdsjfLazbfPYxjCdSDI0Oc10IsGh+hoO1lXjzvIHxxjD/b5B7vX2U1EYpaGsmFgoiGeTQ82zZIwhnkzRNz5B2+AIxhhe2NlINEvXs6wlY9vc7u6jfWiEyvllUhgK4s7ihjQXZWybidk4ncNj9I6OUV1UyKH6mk0bTI0xdI6Mcbm1k9JImO3lpRQXhPDOj01bhW0MM/Ek3aNjtA0OEwkGeHnXtk35PNrGcL93gKb+QcqjEepLiygKh7b0+JSxbV7evY1IYHPGJ9u2udk1Nx7VFBdSX1JENBTEba2y/C3H5dwrrbLrSSVP0pfzOSuVr6Mvg8EYmE2l6BkZo3VwmIKAn1M7GvDnwFiQ0+GO+Q/wTCLBWzfucaO7j3gyic/tfnTmL7yL1crNknpn+cK/l1pP+XJ9LvW4z11SPveTGzaVhVFe2rWdw/XVeNyrrDhZkM7YtA0O8cG9VjqGR3FZFj63+5FZs/BWls6CdbzFxfLlFoOzfKHO+dyVyp+mT2t+5yLo83GkoYaXdm0jEvBn5Wjp40pnMjT1DXLmfisdw2P43C48bvcj0+987wvW897Xeu5q5c42G9lnxrZJpNNUFxXy0s5t7K+t3JQwsRzbGHpGxvj13Waa+4ewYDHgrfZeVip3Loel5Qv/Xmo95U/T52rPNRjiqTSFwSAnt9dxakcjXs+Dz+Bmydg2rQPDfHCvhfbhUdyWhXd+XXBO/9L3zTre40rPXal8oc753JXKn7bPeCpF0OfjcH01L+3a9sx2OtOZDHd7+jnb1EbH8ChBr3d+nXS+m5Xe5UL5grXe/XLPXal8wdJyZ5vHee6SUjO3DkRDAU5sq+OFHY34s3Q5wpPI+XDHwqw1cyn5kfmO47OwYLl265Vj/c01tZ7ZN28WPiLLvY1HLNfoaaY7B/p71vN/OXPLxFr9m5vLVT3Ne8h2f4/R10LTZx22171uLNfgaSZ9I/t7yr5yYVk81rVfyzV90knfyL54sv6sZzzvF9jGzH1VFGuFN7KM5ab7cZblUhvZF+vpb77eyo11wOm5CHciIiIisj7P5nyGiIiIiGSFwp2IiIhIHlG4ExEREckjCnciIiIieUThTkRERCSPKNyJiIiI5BGFu1UYY/iP71/QLYZERETkuaFwtwrbGN65eXf5HzMUERERyUEKdyIiIiJ5ROFOREREJI8o3K3CsizcLgtj65o7EREReT4o3K0hGgoxFU84i0VERERyksLdGlwuyNi2s1hEREQkJynciYiIiOQRhTsRERGRPKJwtxoDQa+PVCbjrBERERHJSQp3qzKEAz6m4wndpUJERESeCwp3IiIiInlE4U5EREQkjyjciYiIiOQRhbtVWJZFNBhkJpl0VomIiIjkJIW7NXhcbtKZDGA5q7LGGMPI1DTv3bqvu2OIiIjIY1G4W5fHD3bLfbt2ubKlFuoN8PPLN6gpKSLg9WKMWfdzlytLZ2xO37rHoy1EREQk3yjcbbBUJsO19i6utXVxt7sPA8wmk1xp7eBqWyddw6PYxtA5NMLl1k6aewcYn5nlSlsnV9o6GZ6cpn9sgo6hUeKpFC4L2gaHudrWxd2efowx9I1NcL2jm+a+QRLpNNfau7jS2kn38CgGuNHZw53uPi63djI6PcPw5CS3Ontp6h3AthXxRERE8pnC3ZrWPmq2wDaGs/da8Xk81JcVc6e7j+a+Af7sjdMURwpoKCvlYnM749OznG9qw+t2URwJ8/PLN6gqKqSupJi/P3OBoM9HyOejpCDMZDzOvZ4+GstLaRsYYmB8kjN3mzHGUBGL8PcfXCDk89FYXsrZ+62MT8/wvTMXKQj4KQwFudLaSdDnIxzwUxopwHI9/lFIEREReX4o3K3CAEWRMBOzs+s+MxtPJtlTXUEsHOK1owdwYVEcDlNXUkQsHKS6uJDpRIJoKEhNSRFp2yZj2/SNTtAzMkYkEMBg8Hs9REMBLrV0kErbdAwN47IsWvqHCHg9bCsvxev20DE4zHQ8QdfwKCGfj9lkiqqiQmpLiiiJhLGNTcDnJez3EQsH1/s2RERE5DmlcLcGC4vHOZO5tKnX7SIU8GEWrn+zLCzLhQEsay4vGgNhv5/KoiiVRYV87thBCgL+xT5crrmje5WxQg431nKksRbLmotoBoPP66WyqJCKWJQXdm2juCDEQwfnFidIsU5ERGQrULjbYIWhIJdaO+gaHuWnl64TT6ZIptPc7emnc3CE3tExosHAYvviSJhEOs3I5DSJVJrukVFc8+ENA0cb6xgYnyCdyTAyOb34PMuyCHi91JcW0z0yRiqTYXhyCmMeBLqFEGhhkUyn6RkZI2Pbi32IiIhI/rHMei8o24JsY3j90g3CAT+vHNi9rmNf6YxN5/AI6UyGgM9HbXGMZDpN5/AoxkBROERJtIDRqWkiwQBet5uZRJKekTEMUFwQpiQSpmdkjMqiQgAGxycZm54h4PNRX1rEyNQ0sXAIt8tFKpOhc2iUjG0TDQUoj0boG5ugqqiQtG0zORsnFgrSNzbBxMwsO6rK8biU6UVERPKVwt0qbGN469ptXJaLTx3a8+CImoiIiEiO0iGcVViWRSQYYDIed1aJiIiI5CSFOxEREZE8onAnIiIikkcU7tZg6UdERERE5DmicLeGgmCA6UTCWSwiIiKSkxTuVmMMXrebVDqto3ciIiLyXFC4ExEREckjCnciIiIieUThbg0etwvdsEtERESeFwp3q7Asi2gwyMTMrLNKREREJCcp3K3BsvRjKCIiIvL8ULgTERERySMKd+tinAUiIiIiOUnhbg0Br4f9tdVg6dSsiIiI5D7LGKPDUmswxsxfeyciIiKS23Tkbh0U7EREROR5oXAnIiIikkcU7kRERETyiMKdiIiISB5RuBMRERHJIwp3IiIiInnkufoplJUndblvs67Udj1ysD/LWraXzbDwUzArz/+llpvK9TxvJc++v1z8tvT6lsly071a+7Vku7/197Xw3nNl2ay+HFjmvfJY7/dRG9nf0/f1LJfD2vPeablpfdw+FmxkXzxRf89y3kvuyvlwl8pkGJma5lZ3H60Dw8STqUc+/s434KxfsGo7a5kG8wzzv2G8Wv3SdstULDz1kWlztn/oaQZjIBoMsr2ilN1V5ZRGwpu2MhtjmE2m6B4dp7l/kKHJaWzb3rTXf9Yyto3H7aayMMKOijIqYhFCPp+z2aYywNRsfHGZjEzN5FTIyTZjDBnbpjRSwK6qcupKYoR8vmfy/uOpNH1j4zT1DTIwMUU6k3km0/GsZGybAr+P7ZVl7CgvJRoMbPr7n0kkt+z4ZNs2brebyliUHeWlVMaiBH1eZzPZonI63CVSaX557TZTiQSlkTCRQACfx43btTXOJs9tyAzxVIrJeJyRyRli4RCfObgHv9fjbL6hjDHc6x3gVncf28pKqCoqJBr04/d6cW2RwTOdsYmnUozPzNI1MkbP6DindjRQWxxzNt0UxhhudPXS0j/EjopSygsjRAIB/F7PllkmxhiSmQyTs3G6R8ZoGxzhxZ2NVMaizqZZY4DOoVE+bGqjsayY2uIY0VCQoG/rrBsGSKUzzCST9I2Oc6enn51V5RyoqdyUcGVgbnzq7GFbeSnVRYUUBP0Etvr4tL2BmuLCTVkGkttyNtzNplJ8+71zVBcVPrONaS5q7h/C7XLxpeMHsxZyjTHc6ennRmcPXzl5GJ8nu0HyeTE5G+eHF6/z6qE9VBRuXphYcKW9i7vdfXz1hWP4PG5n9ZY0Nj3D3394md88fpiKwoJN2aj1jo3z7q37fPXU0azvZD0vbGP4yaUbHKytorG8JKsByxjDvb4BrrZ18ZWTR7QM5k3FE/zDuSu8dnjfpu7sSG7KTjp4SqlMhjev36GuOEZNUaGzekvbXl5KOpPhemfPSmeJn4oxhuGpae73DfClE4cU7JaIBAN84eh+3r55n8l4wlmdVX1jE/SOjvPbLyrYLRULh/jaC0c5c7+F8dm4s3rDjU3P8vbNe3z2yH6FiiVclsVnDu7hfEs77YPDzuoNszA+3e7u4zdPHManZbCoIODnS8cP8c6t+0xswroguS3nwp0BRqdnmI7HqYxFN2VP/HliWVBXUsQb126TydjO6qeWMYafXrrBCzsaCHh1/YZTUTjE0cZa2gdHnuBC7ieTtm2+f/4qJ7fX43Ur2DkVF4Q5Ul/D1fZuZ9WGMsD795r56O7tFIVDzuotL+T38dVTR7ja0UMynXFWbwgDvH7lJi/ubCTg8z56DfMWV1QwNz61ZTFgy/Mh98KdMVxu7aQsGlGwW4HP46YyVkhT36Cz6qkNjk9SVBCiojCqgXMZlmVRU1TI4MRkVo6cLqdzaJSa4hil0YizSubVlRYxODHJ2PSss2rDzCSSWFjUlRQ7q2T+S2A+j4eKwgh9Y+PO6g3RPzZBUUGYqlihxqdlWEBVLDr3RStnpWwpORfuAO72DhANBp3FMs+yLKpjUXrHxjf86NHQ1DQHaqsdX/uVpXwez6ad9jAGukbGOLm9XhuzVXjdbg7V13C5rdNZtWFmEknKCyNaNdawvbyEK+1dzuINMTAxxZ6qCmexLBHwepmMxzVebHE5F+6MMSTTabzunJu0nFIQDBBPpZzFTy2VzlAYDDiLZQmP20Xatjc8WK8kmU5TXKDTgGupikXpH590Fm8Y2xiCPq/OKKyhMBhkYHzKWbwhkum0xqc1eNyurFyyI8+XnExQfo9HA+gaAl5PVg67e9wuPB639vpW4bIsPFn6pvJyPO6t8/M/TyPs95NKp7MWuq35I4SyOr/XQ9rOTrhYGJ9kZS7Lwqsvwm152mKIiMiG0s7hM5alHRx5fijciYiIiOQRhTsRERGRPKJwJyIiIpJHFO5ERERE8ojCnYiIiEgeUbgTERERySMKdyIiIiJ5ZMuGO3uZ3wGamI1n7QdQBUanZ8hk6cdNZXMk0xmm4glnsYiI5JAtFe6MMbT2D/Kd0x/yndNn+YezlxiZmob5sHfmTlPWfll9q7ON4eeXbzI+k70bu8vGc+7q9I2Nc76pzVEqIiK5ZEuFu3u9/bxz4y6fO36Qf/TxF3lx13a+/e5Z+scmMMbM3avVrP7j3qtUyWoMzCaS2PbDc/Bxj5SaVZaBMWbFOnkywxNT/Osf/mJxOaUzGRLz9zReadmZVeq2ioV375wLq31+VzI3P52lc9bT39L6x52ulcpFJLdtqXB3p6uPV4/up7ggjNvloro4xpdPHqG5f3CxzUwyycXmdi40tRFPzm3EmN9YNfcNcuZOM+2Dw8ue1pX1mdtYGW529PCTi9c539RGKp0hY9vc7Ox5KBjEkyk+vN+6+Jzr7V38+PxV7vX0Ly4DYwz3ewf46cXr/PrWfWYSySWvJk/jzL0W+sYneP9OMxOzcZhffp1DI7x+6Qbv32kimc4sts/YNu/fvs/PLl2nb2x8S4Y82xha+4doHRjipxeucfZeC+lMhtGpad64cpM3r96auwQEmE2maO57MP7YxnCvp3/xcTyV5u3rd/jR+au0DQwvzk9joHd0nNcvXuf9203EUymMgZGpae729D0IccbwwZ0m0hmbqXiC7uFRmvoG+MmFa1xoaiNj2wxOTPHLyzf51fU7i6fcDTAdT/Cra7f52cVrtPQPbsllKfK82lLhrqqokKutXUzPb/wtCxorSvnInh0AjE3P8KNzVwgHfcwkk/zgw8uk0hnSmQy/uHKTez19VMSiXGhu40ZHt6N3Wa9MJsO33j3L2zfvsK28hDvdvXz7vQ+xjeHsvRautXcvhrkrbZ3c7OwhmUrzd6c/5FJLB9vKS/nZpeucv9+KMYbTt+7zvTMXaSgvYWB8kj/9+du6tm+D+D1uXJaF3+vBZc3dMfR6exc/On+VyqJCrrV18fMrNwAYn5nlj//jj5mYjVMZi/KXb/6avrEJR4/5L2Pb/J8/fZNf375PTUmMs/da+Dc/foO/evsDoqEgs8kU//ZHv2Q2kWRseoZ3bt5dfO7CWAMwMRPnf/zW98jYNg3lxXzr9Bnu9Q5gDNzs7Oav336fquJChiYn+eu3PyCVSdM+MMzPL99YPNRnG8Of/OxXxFMp+scm+L9ff5uz91qoKY7x1o07/F8/+xV/+84HFEfCjE/P8Ge/fJdkOs3Y1DT/+ke/BMuivDDK3733IVfaOhenU0Ry25YKd8e21VNZVMjrl67zww8vc6+n/6G9UbfLzW+9eIy91ZV8bO8uCsMhphNJukfG8HncvHb0ANsrSnntyAGaegd09O4JNfUNkLYz/MFrr3Cgrob//KMvkEynudLayacP7uWH5y5jjME2hpudPfzWC0e51dXLRDzO1z/xIgfqq/nGJ17iW6fPkrFt3r11ly+fOsLBumq+8sJRTuxofOhokjy5Y9vrKY0UcHJHAwUBPwDRYIA//OwrHNtWxz/6+AsMjE1ijOEXV27yWy8c43NHD3BsewNfOHFoMahsNWXRCL/30VMcbazjDz/7CmPTM3zjEy/x4q5tfPHEIerLShianHI+DZacBm0bHKIyFuHTh/ZypKGWf/qpjzKbTDIVj/Otd8/yz159hSONdXzpxGEyGZvbXX1zz3cOS0uOcNeUxPgvPvYix7bV8S+/+BnGpmf4g9de4eSOBr7ywlEKQ0EmZxMMTEzSWF7Cpw7s4eSOBv75a5/E5/E4OhaRXLWlwp3X4+b49nq++uIxTuxo5GpbJ98+/eHiabxI0E/A68WyLCwLwgEfxhgGxieJJ9NcbmnnYnM7t7t6GF5hYJa19YyMc7ihDq/bjWXNLZejjXVcammnsbwEr8dD7+g4yXQat8tFLByibWAQv8fDr67f4c2rt7jQ3EY6k2E6keQrp47yvTMXOXOvhZGpaT66dwcBn9f5svKELMuaO8w9r7G8FLfLhWVZuF2uxSDePTJK3+g4b167zZtXb9HSN0jv6NhDfW0VsXAQr8eDZVl4XG6qi2JEgv75scWiuCC85mnOXVUVTMeTfO/MJdoGhykIBjjcUMvgxCQul8X5plbevHqLt67fIWNsukdGnV08orggjOWamwaP201daTF+79x0WpZFLByaC4HFRfSOjPOfzl6kZWAIr8fN3ppKZ3cikqO2TLizjWFkchrmN0i1pUV87eUTHG6o4VxT66N7u4vmLtIvjoSpiMWoLCqkuriILxw/zIPNnayXmZ+jbtfDc88C0raNZVl87tgB7nb30TE0QlVRdL7O0FhWwrbyUhrLS9lRWc4fffk1wgE/hxvr+O8+/yk8Lhenb93jW++ewTi+uCHZ53a52FYxt3way0s53FjLP37lZWezrWeZgWKZokcEfF7++Pe+zNHGWu739vMf3j/H/d656/GCPt/ifN5WUcrnjh3kpd3bF5/7tJ/+cMDPf/+br3KwvoaWvkG++/55bnf1OpuJSI7aMuEuncnw1o07i9/0Y/6IRENZCTPx5CrDoUVxQYhUxqamJEZtSRE1xUVUxKJzRzTksVhAeTTKvZ6BxW/O2sZwp7uXo411AGwrL6VnZIwfnrvK/tpqLMuipjhG18goOyvL2FVdwc7KMhpKi8lkbN6/00QsHOLUzm187aXjDE5M0TE07HhleRLWumIIuCyLgkCAgNfLruoKdlVXsL2ijMpY1NlUlnC5LOwl14faxpBKpwFo7h1gYGKSPTWVvHbkAB/ZvYM3rt4iFg4xODFJXWkRu6or2F1VQWNZKbFwiHDAz0wyuTicPenlCd3Do4xNz7CvtopXj+zn1SP7dc2dyHNky4Q7r8fD4foafnjuCldaO+kYHOZySzs/Pn+VI421i6cllrLm/1dbXMT49Azv3bpH28AQl1rauaqB7vEszFoLdlSWMT4zw9+fucCtzh5ev3Sd2WSKUzsbAYgEAyTSaWYSCaqLYwAcbaxjfHqW7394mTtdvbxx9Ra/unEXj9vF3e4+/sOvz3Orq4fTt+/PBchChYqNEA74mEkkudDUysRsfMWwZ1kWnz2yn2+/d5ZfXbvNna5evv/hZVoHhpxN8561cCr7occP1y8oDAWZTaV4/fJ1rrV38YNzV+hacnr13/3iXc7ea+FmZw9n77dytLGOonCY33npBH/z9hmutHZwobmNb58+QzyZor60mHgixenb97jS2sn3zlycG9vmp+mR6Vp89LCMbfOd9z7kw3stXO/o5t2b96grKXY2E8C2DW9eu60vcUlOcX/zm9/8prPwWTLGcL65nYayjR1ILKAkEmZPdSUD4xP0jk4Q9Hv5zKF9FBaEsICwP0BhODg3AFoWAa+XaCiA3+tlZ1U5xob2wWGioQAH62twOU4tbrbJeIJdlWWPhNKn0T8+SWEoSMC78desRYMByqIFBH0+jm2rxxjDre5eKmNRvnDi8OIF2y7LoqqokJM7GomGggB4PG5e2LWNdMbmVmcvFUWFfHTvTjxuN0caa/F5PNzs6sXtsvjayycJBfwrbrg2wt3eAXZXlS9+gzSb2odGqCspwu3a/H0xr9vN3poqrrR2UVNcSCwcIhYOEQ0GYD4wxMJBSiIFRENBPrZ3J53Do7T2D3G4oZYdlZszj5j/3sD1jm4ON9Rs6DqxYDqRJJ5KUxIJO6scLApDQUqjBYufwcJQiPLCyOK8CAX8lEQKCPl9HN/WQOvAEL2j47y4axuHGmopi0YoioT5yO4d3OrqpWt4lJd2b+NwYx0ul0VDeQn1pcVcb+8inkrx+eOHCPt9eNwuTu1s5H7PAENT03z64N7FU+U+r4eSgjCx+fEOIBKcW3YL86tgfrqKC8Lsr6vmTncfvaPjnNrZwLFtdeuerxdbOzm5vd5Z/NT6xiaIhUMEc+iaWgPEUylKowWb9llfy/2+QXZXlTuLZQuxzFpX9W6yjG3zp788zSf27XRWiUP36DifP7J/3QPuelzr6Ka+tJjYfKiSRxlj+NHF63zp+MGsBy5j4PSdJj6yextet9tZLUtkbMN3fn2Ob3z8hQ1dJxYMjE8yNjOrjeYajDH8+Vvv8we/8TFn1VO73NZJQ1kJxeGQs0rmGWP42eWbfPH4QWeVbCHZ3TKJiIiIyKZSuBMRERHJIwp3IiIiInlE4U5EREQkjyjciYiIiOQRhTsRERGRPKJwJyIiIpJHcjLc2bn103s5KWs/T2iy2HeeMNmc/8vYzNd6ns3dBVqetbn7R2eHyWbneUTrguRkuEuk09qgrWEmmczKr6GnbZt0JqOhYRW2bW/qDkg6k9GtjdZhOp7AncUfejZAcv6+r7KyRCr10O3WNlLatklltAxWk7Ft0vP37ZatK+fCnWVZROfvLSrLM8Do9CwFAb+z6qn5vR6GJ6e1d7yKVMbG5/Fk5S4IywkH/PSNTTiLxWFocpqSglDWlovb5WI6kdCO5xqm4sms3UEi5PMyMjXtLJYlkpkMvizu5MjzIefCHcCeqgrGZ+LKFysxhpaBIRpKizd8Q1YWKeBmV+/KdxQXZpLJTbs9m2VBXXGM883tChWrMMCt7l7211bNnbrLgpDfy9DEtMalNfSMjrG/tspZvCHKoxFud/drGaxiNpEiEtz4HX95vuRcuHNZFocbahianJq/wEKchqdmKPD7qSmOOaueWkkkTCqToX1wWAPoMjK2zeXWTupLizY8WK+kuqiQqXiC7tExZ5XMG5yYJJOxqS2OZe2UYNDrxed1c7u7z1kl8zK2TffIGNvLS51VG6I0EiZtZ2gbGNL4tAzbNlxp76SupEg7g1tczoU7gFgoSHFBmJaBIX1AHWzbpmt4lC8eP5SVa+7cLhdfPHaQS62dzCSSzuotzRjD1fYu0hmbmuLYph3cdLlc/PYLR7nc1kUqk3FWb3m2bTjX1M7J7Q1ZDdyWZfHR3Tu43tFNr06TP8I2hrdu3KW8MIrf63FWbwiXy8Xnjxzgclu3xicHA1xu6ySVMdQWb97Op+SmnAx3LpeLzxzcw3QiRcfQCCld4I8xhulEgnNNHRyqr6YsEnY22TCRYICjDbX8/OotRqamsc3W/u6VMXNf8rnT00fn8BivHt6blWC9mmgoyPbyUn504Rpj0zOb+oWOXGWMYXxmlp9cuk5FLEJ1caGzyYYL+X28dngf799tZnBiinRGX3QxxjCbTHHmXgtp2+b4trqsrh8FwQBHGqr5+ZWbc+PTFv/ygJn/Esud7j66RsZ49dAePO6c3LTLJrJMDh8aS6TTnGtq43Z3H5WxKGXRAoJe75baI0lnMozPxukeGcftsnh593YaSouzOngyP2D0jI5zta0Tn8fD7qpyKmNRvEsu1F26HIwxjzxebxvW2c5Zttzjlf4ubceSvpyPF8osy8K25wJ16+Awzf2DVMUKOdxQQ8jnW2y7mYwxdA6Pcq2jm6DPx97qCsqjETxu17LTv/QxK7xHZxvW2c5Zttzjlf4ubccT9JUxhsHxSe729jMxG+dAbTXbykuyvk4sNTQ5xYWWdoyBvdUVVMaiBLxeWMf7WW8b1tnOWbbc45XKlz7mMfvK2DYTs3Hu9Q7QOTzKrsoyDtXXbMpyMMbQMzbBtfYuPG734rrg93o2fP4tcJY7H6+nzUYuCwNMxRO0DgzTOjhERWGUow21BH1zn0PZ2nI63C1IJFO8f6+Fu70DJNJpPC7XmgPIcivD0hXL+RfmfxvIzK1UC8eqrGVOvjmf+8hfDBZzj7Ee7mOhbuHfC6+3XN/2/IasNBLmxLZ6dleV43Zt3h6ZAYxt0z06zoWWDrpGxnBbFl6Pe8l0suo1TgufroU2Sx8vPPfB3+WX2cLzVupjwUqPl/u7HOfrzyZTBH0+9lVXcHxbHUG/DxxtngXbGNoHh7nU2kXX6Bg+twuP273ie3x43j08T+HBclywVh9Oztd1fjYefv25v0sfL9fvo9Mz12fGtkmkMlQURji5vZ4dlWVzbR403xRzs84wODHFueZ22odGsADPQzs/S58xZz3zYrm/y7VbjfO5rLhcnZ+HR19nub/MHy0qCAY4Ul/DkcZaXLCp64aZn5Cu4VEutHbSPTKG22Xhds3t7DyY3pXXWed7YpVxZOljllmWD/5tAOuhx8utD8vN76WPl3K+vjGGRCq9uJN3Yns9Aa8HrOW2WLIVPRfhbmESN2JCrfl+Fv4+DWdf2ehzoexZrrRmyWnZ5abvSWWzrw3r04DlenbzfiVL14kNe69Z6utp+nT2sbhMrM0NEqt5npbF03D2lSvLwixJS49Mn7PxY3oe+oJnO/8lNz0X4U5ERERE1mfzzvGJiIiISNYp3ImIiIjkEYU7ERERkTyicCciIiKSRxTuRERERPKIwp2IiIhIHlG4ExEREckjCnciIiIieUThTkRERCSPKNyJiIiI5BGFOxEREZE8onAnIiIikkcU7kRERETyiMKdiIiISB5RuBMRERHJIwp3IiIiInlE4U5EREQkjyjciYiIiOQRhTsRERGRPKJwJyIiIpJHFO5ERERE8ojCnYiIiEgeUbgTERERySMKdyIiIiJ5ROFOREREJI8o3ImIiIjkEYU7ERERkTyicCciIiKSRxTuRERERPKIwp2IiIhIHlG4ExEREckjCnciIiIieUThTkRERCSPKNyJiIiI5BGFOxEREZE8onAnIiIikkcU7kRERETyiMKdiIiISB5RuBMRERHJIwp3IiIiInlE4U5EREQkjyjciYiIiOSR/x+jPs5Dvs97DwAAAABJRU5ErkJggg==)\n",
        "\n",
        "<font size=2> Image Courtesy: [CoreNLP](https://stanfordnlp.github.io/CoreNLP/#coreference) <font>\n",
        "\n",
        "\n",
        "\n",
        "## Example Code:"
      ]
    },
    {
      "cell_type": "code",
      "execution_count": null,
      "metadata": {
        "colab": {
          "base_uri": "https://localhost:8080/"
        },
        "id": "IFVODFcJfoMn",
        "outputId": "14a0b17e-3536-4629-be56-6844bf76bb34"
      },
      "outputs": [
        {
          "output_type": "stream",
          "name": "stdout",
          "text": [
            "  Preparing metadata (setup.py) ... \u001b[?25l\u001b[?25hdone\n",
            "\u001b[2K   \u001b[90m━━━━━━━━━━━━━━━━━━━━━━━━━━━━━━━━━━━━━━━━\u001b[0m \u001b[32m480.6/480.6 kB\u001b[0m \u001b[31m15.3 MB/s\u001b[0m eta \u001b[36m0:00:00\u001b[0m\n",
            "\u001b[2K   \u001b[90m━━━━━━━━━━━━━━━━━━━━━━━━━━━━━━━━━━━━━━━━\u001b[0m \u001b[32m116.3/116.3 kB\u001b[0m \u001b[31m8.8 MB/s\u001b[0m eta \u001b[36m0:00:00\u001b[0m\n",
            "\u001b[2K   \u001b[90m━━━━━━━━━━━━━━━━━━━━━━━━━━━━━━━━━━━━━━━━\u001b[0m \u001b[32m179.3/179.3 kB\u001b[0m \u001b[31m14.4 MB/s\u001b[0m eta \u001b[36m0:00:00\u001b[0m\n",
            "\u001b[2K   \u001b[90m━━━━━━━━━━━━━━━━━━━━━━━━━━━━━━━━━━━━━━━━\u001b[0m \u001b[32m143.5/143.5 kB\u001b[0m \u001b[31m11.8 MB/s\u001b[0m eta \u001b[36m0:00:00\u001b[0m\n",
            "\u001b[2K   \u001b[90m━━━━━━━━━━━━━━━━━━━━━━━━━━━━━━━━━━━━━━━━\u001b[0m \u001b[32m194.8/194.8 kB\u001b[0m \u001b[31m15.4 MB/s\u001b[0m eta \u001b[36m0:00:00\u001b[0m\n",
            "\u001b[?25h  Building wheel for fastcoref (setup.py) ... \u001b[?25l\u001b[?25hdone\n",
            "\u001b[31mERROR: pip's dependency resolver does not currently take into account all the packages that are installed. This behaviour is the source of the following dependency conflicts.\n",
            "gcsfs 2024.10.0 requires fsspec==2024.10.0, but you have fsspec 2024.9.0 which is incompatible.\u001b[0m\u001b[31m\n",
            "\u001b[0m"
          ]
        }
      ],
      "source": [
        "# Installing the library\n",
        "!pip install fastcoref -q\n",
        "\n",
        "# Import coref library\n",
        "from fastcoref import FCoref"
      ]
    },
    {
      "cell_type": "code",
      "execution_count": null,
      "metadata": {
        "colab": {
          "base_uri": "https://localhost:8080/",
          "height": 429,
          "referenced_widgets": [
            "8d96e79a7dbf4e9c979bb684e08cc2cb",
            "b6935fc1141c4e7fbad216eb59c0f3e4",
            "5023e880f29a45549caba52dafe8126a",
            "9b07ea4848904279b54235e5ec0b255a",
            "11e0c61a801c48909b5dd96d4fee88a4",
            "73f00c083b2046eca5fa52fe92cb9120",
            "8ca5fb255e6d4ae4b759ef3b444d3da4",
            "8ca1c2e3c1724992888c9a5d8655fe2c",
            "12c3c0131fae4937ad632433a3467174",
            "ade974d1032d42e7a307847089c888cb",
            "784cf4d849404860af02ad1149f84bc0",
            "cfa67d0820f54e0c83007003365a5603",
            "33e4ffe3b04f4335914118821f5853c0",
            "fa8bd99dca5e4a5994bf2694ce6e4e2a",
            "e7c6f2643b0e46d5847eabeb91e993c9",
            "ba058cdac8fa4b2eb6aea604860a1be4",
            "47eb496d9a2848a983973a17a76a09e5",
            "b0c0a021fef9465b8341107e8dc9d8c8",
            "12579bdbb56e47bb86096988629cdc6a",
            "6dd5248b6c094886b3342f475825068d",
            "d40f0ecbc295442cb295c2c7fc37b529",
            "605a82ccaac64c0e84128aa70f92fe35",
            "fd9a9869b520459485a944db86d988d2",
            "daa895f8111d4ef189c13d58044c0a1c",
            "9ae0a3d89a2146d28ecd4571daca5353",
            "5d82246fbee74887ab3164ce664b24d0",
            "ab6971a2c46b440b856a09ce3f2bd330",
            "a2f46d4a746243a682e64a4c9ddc9642",
            "dfbde63a633248c491f6277121af978a",
            "400c03988e1a4303b335d6a3d127a93f",
            "edd1e9e417d6469d9cac8975e17125be",
            "2689f12c8f404962b5280f2e1bd3435d",
            "a231bdc3d377420894c083961782d65d",
            "41bdc87920c0440d903c0958c229cac1",
            "383b3f5e94ec42e99a724a8908c83c20",
            "73e721d4d894482c834fe81998b40bf5",
            "6e6d8cee7f03424ca6738fca8ccf9e45",
            "f9d4d69a8aa3459e9ef57fce77ebd636",
            "671c9f1ffdc646f6851056756c675f6d",
            "ac8f671b319543829389fc0f9bdb708d",
            "07bb9835ecea48f6ad511532560168ab",
            "75ba5584d6cc4b65aee60cd6a5f21d5e",
            "8e56cb8314674c14840669725dd583a0",
            "365e9d10f98f4521bdbb2bc9cee6d060",
            "72164d758afd476ea218c2035015209f",
            "796e205f29f4472cb6d39c6bfbbafa5d",
            "b5227959ddf0427ebecbf1e8ec2c8bd4",
            "73fa7a5ef7a448938a0289153deadf3f",
            "8812adbddd0c47debd6dc8c148bad854",
            "b66d0ae4df45418e9194f3d1dd9b4658",
            "b45dae346f054d899e99b00c27742052",
            "4778955287254446a24e7df8027736dd",
            "9d1fbd633e7e4be1adda45d7c8304fdf",
            "0af1d518663d4c87b738abc9e87c3220",
            "33f13f078d4b43bfb41678d541ca967c",
            "714b5fc96f5c41319784b6cca7b1c5c4",
            "2362d34320784889baaa50095f1b3163",
            "67ba61e9741940f78594eb15454e6072",
            "34de51856b9f4fe59bde7d2f38ef57d0",
            "25d14159adf348299d47e29d7de6c19f",
            "c27a9cd8589e4bc8856ce17efc8fff5d",
            "1f2fd74e00da415798b09d7e4d6012a8",
            "5513b57163eb4f038730286be2fbfebe",
            "bfc5d58e40254a0fa05eefcb0df1d249",
            "19dd9e4809684e1c847d639cb7c39aea",
            "fcac1239a19945ab9a39f3bfe907fe81",
            "98154ab9b73042258bc381f8ed1f0294",
            "00e9b358e06747628cf077b7fca2ee5b",
            "2dddd23a63ff418bb42ac7a5bb44ec35",
            "a866bb44a4824ec1a20046bf2a6359f3",
            "bf8e399398794bae9bf5ffa5acbf8b9b",
            "5d2a19b2332a402abc79c8c06beab7f9",
            "264e320572dc4b90b8decf60a81aad49",
            "e346e1a68d29455c8889b091f481f454",
            "067d5e4ee8f4454f8281bfe1d228725f",
            "0596cc16b81144c8a23a10627552f66d",
            "d3faa0e434204193b187f79f31d0264c",
            "f22a92a5f2c74d5ab1dbd74e7d427aea",
            "2c955c0773f544f2903a1eebc25bfa80",
            "094bb1d830ce434398a989c7617b41c8",
            "56c3f84d8b7e41578f3581e5d95d6f8d",
            "d2125834b0d04d8d9273d40ce93d2e9b",
            "d64c4b5db72941baaee8503efa045cf8",
            "aab449f3951b41fb990df72e0e957fb8",
            "7d643a94777a4ffcbaa1f638f70641ec",
            "8228bf6561084004a59e9009830449d8",
            "76bf78f6bd0646269e5a9e95829563ee",
            "ecda058fe58a4119afea62f51f89e118",
            "edd291ae2d3441c09432cbea13d69bd2",
            "13c8d45e08644e60bb38f0be43580ab4",
            "caf976b4cecc4e5885a87636711287ec",
            "ad483769675a45b19b396d49aef977a6",
            "4a0a3103b3564641bf14b1d3062b3ff8",
            "6d29a484e3684bca890123bd3e3c4578",
            "1382a38340924250bffaaafe00904508",
            "bdc44b8ee50c4379814e4abccf1eb1c8",
            "26364d11bfc04576b43e0ac444cd3df3",
            "ce283ef8be2d42d3bea2180305b079ee",
            "690acd936c9a4728ad912365c9354d63"
          ]
        },
        "id": "gxslPp9Q89Sp",
        "outputId": "15df458b-7d2f-45f6-9ae2-1bb881affc32"
      },
      "outputs": [
        {
          "output_type": "stream",
          "name": "stderr",
          "text": [
            "/usr/local/lib/python3.11/dist-packages/huggingface_hub/utils/_auth.py:94: UserWarning: \n",
            "The secret `HF_TOKEN` does not exist in your Colab secrets.\n",
            "To authenticate with the Hugging Face Hub, create a token in your settings tab (https://huggingface.co/settings/tokens), set it as secret in your Google Colab and restart your session.\n",
            "You will be able to reuse this secret in all of your notebooks.\n",
            "Please note that authentication is recommended but still optional to access public models or datasets.\n",
            "  warnings.warn(\n"
          ]
        },
        {
          "output_type": "display_data",
          "data": {
            "text/plain": [
              "config.json:   0%|          | 0.00/819 [00:00<?, ?B/s]"
            ],
            "application/vnd.jupyter.widget-view+json": {
              "version_major": 2,
              "version_minor": 0,
              "model_id": "8d96e79a7dbf4e9c979bb684e08cc2cb"
            }
          },
          "metadata": {}
        },
        {
          "output_type": "display_data",
          "data": {
            "text/plain": [
              "tokenizer_config.json:   0%|          | 0.00/393 [00:00<?, ?B/s]"
            ],
            "application/vnd.jupyter.widget-view+json": {
              "version_major": 2,
              "version_minor": 0,
              "model_id": "cfa67d0820f54e0c83007003365a5603"
            }
          },
          "metadata": {}
        },
        {
          "output_type": "display_data",
          "data": {
            "text/plain": [
              "vocab.json:   0%|          | 0.00/798k [00:00<?, ?B/s]"
            ],
            "application/vnd.jupyter.widget-view+json": {
              "version_major": 2,
              "version_minor": 0,
              "model_id": "fd9a9869b520459485a944db86d988d2"
            }
          },
          "metadata": {}
        },
        {
          "output_type": "display_data",
          "data": {
            "text/plain": [
              "merges.txt:   0%|          | 0.00/456k [00:00<?, ?B/s]"
            ],
            "application/vnd.jupyter.widget-view+json": {
              "version_major": 2,
              "version_minor": 0,
              "model_id": "41bdc87920c0440d903c0958c229cac1"
            }
          },
          "metadata": {}
        },
        {
          "output_type": "display_data",
          "data": {
            "text/plain": [
              "tokenizer.json:   0%|          | 0.00/1.36M [00:00<?, ?B/s]"
            ],
            "application/vnd.jupyter.widget-view+json": {
              "version_major": 2,
              "version_minor": 0,
              "model_id": "72164d758afd476ea218c2035015209f"
            }
          },
          "metadata": {}
        },
        {
          "output_type": "display_data",
          "data": {
            "text/plain": [
              "special_tokens_map.json:   0%|          | 0.00/239 [00:00<?, ?B/s]"
            ],
            "application/vnd.jupyter.widget-view+json": {
              "version_major": 2,
              "version_minor": 0,
              "model_id": "714b5fc96f5c41319784b6cca7b1c5c4"
            }
          },
          "metadata": {}
        },
        {
          "output_type": "display_data",
          "data": {
            "text/plain": [
              "pytorch_model.bin:   0%|          | 0.00/362M [00:00<?, ?B/s]"
            ],
            "application/vnd.jupyter.widget-view+json": {
              "version_major": 2,
              "version_minor": 0,
              "model_id": "98154ab9b73042258bc381f8ed1f0294"
            }
          },
          "metadata": {}
        },
        {
          "output_type": "display_data",
          "data": {
            "text/plain": [
              "Map:   0%|          | 0/1 [00:00<?, ? examples/s]"
            ],
            "application/vnd.jupyter.widget-view+json": {
              "version_major": 2,
              "version_minor": 0,
              "model_id": "f22a92a5f2c74d5ab1dbd74e7d427aea"
            }
          },
          "metadata": {}
        },
        {
          "output_type": "display_data",
          "data": {
            "text/plain": [
              "Inference:   0%|          | 0/1 [00:00<?, ?it/s]"
            ],
            "application/vnd.jupyter.widget-view+json": {
              "version_major": 2,
              "version_minor": 0,
              "model_id": "edd291ae2d3441c09432cbea13d69bd2"
            }
          },
          "metadata": {}
        }
      ],
      "source": [
        "# Initialize the coreference resolution model\n",
        "model = FCoref() # use FCoref(device='cuda:0') if GPU available\n",
        "\n",
        "# Input text\n",
        "text = \"Alex said that he wants to go home. Later, Peter gave him car keys saying it shall be returned on Monday.\"\n",
        "\n",
        "# Perform coreference resolution\n",
        "preds = model.predict(texts=[text])"
      ]
    },
    {
      "cell_type": "code",
      "execution_count": null,
      "metadata": {
        "colab": {
          "base_uri": "https://localhost:8080/"
        },
        "id": "I_TfEMh1F7Qd",
        "outputId": "b5e31e58-a42d-4b76-841b-1ca76f8a9449"
      },
      "outputs": [
        {
          "output_type": "stream",
          "name": "stdout",
          "text": [
            "[['Alex', 'he', 'him'], ['car keys', 'it']]\n",
            "\n",
            "Resolved Text: Alex said that Alex wants to go home. Later, Peter gave Alex car keys saying car keys shall be returned on Monday.\n"
          ]
        }
      ],
      "source": [
        "# Print clusters\n",
        "print(preds[0].get_clusters(as_strings=True))\n",
        "\n",
        "# Print resolved text\n",
        "resolved_text = text\n",
        "for cluster in preds[0].get_clusters():\n",
        "    main_ref = cluster[0]  # Use the first element of the cluster as the reference\n",
        "    for mention in cluster[1:]:\n",
        "        resolved_text = resolved_text.replace(mention, main_ref)\n",
        "\n",
        "print(\"\\nResolved Text:\", resolved_text)"
      ]
    },
    {
      "cell_type": "markdown",
      "source": [
        "*Key Points*\n",
        "* `FCoref()` function from fastcoref library is used to instantiate a coreference resolution model, which predicts coreference clusters.\n",
        "* `preds[0].get_clusters()` extracts the clusters of coreferent mentions.\n",
        "* `resolved_text` is basically the input text, but with the coreferent entities replaced by their corresponding main entity."
      ],
      "metadata": {
        "id": "ccorTa3dvZSO"
      }
    },
    {
      "cell_type": "markdown",
      "metadata": {
        "id": "lWFBmuOZ54Bk"
      },
      "source": [
        "# 8. **Named Entity Recognition (NER)**\n",
        "\n",
        "Named Entity Recognition (NER) is the process of identifying and categorizing named entities in a text, such as people, organizations, locations, and dates.\n",
        "\n",
        "## **Example:**\n",
        "\n",
        "**Input Text:** \"Google was founded by Larry Page and Sergey Brin while they were Ph.D. students at Stanford University.\"\n",
        "\n",
        "**NER Output:**\n",
        "\n",
        "\"Google\" → Organization |\n",
        "\"Larry Page\" → Person |\n",
        "\"Sergey Brin\" → Person |\n",
        "\"Stanford University\" → Organization\n",
        "\n",
        "\n",
        "## **Example Code:**"
      ]
    },
    {
      "cell_type": "code",
      "execution_count": null,
      "metadata": {
        "colab": {
          "base_uri": "https://localhost:8080/"
        },
        "id": "U-mogLyxH6VY",
        "outputId": "5ad41f34-1f33-4bb6-9fb7-97efef6270c9"
      },
      "outputs": [
        {
          "output_type": "stream",
          "name": "stderr",
          "text": [
            "[nltk_data] Downloading package maxent_ne_chunker_tab to\n",
            "[nltk_data]     /root/nltk_data...\n",
            "[nltk_data]   Unzipping chunkers/maxent_ne_chunker_tab.zip.\n",
            "[nltk_data] Downloading package words to /root/nltk_data...\n",
            "[nltk_data]   Unzipping corpora/words.zip.\n"
          ]
        }
      ],
      "source": [
        "# Import Libraries\n",
        "nltk.download('maxent_ne_chunker_tab')\n",
        "nltk.download('words')\n",
        "from nltk import word_tokenize, ne_chunk, pos_tag"
      ]
    },
    {
      "cell_type": "code",
      "execution_count": null,
      "metadata": {
        "colab": {
          "base_uri": "https://localhost:8080/"
        },
        "id": "OH8eRdIaCoQd",
        "outputId": "c83a804c-5a00-4717-f07a-f745212b8765"
      },
      "outputs": [
        {
          "output_type": "stream",
          "name": "stdout",
          "text": [
            "(S\n",
            "  (PERSON Google/NNP)\n",
            "  was/VBD\n",
            "  founded/VBN\n",
            "  by/IN\n",
            "  (PERSON Larry/NNP Page/NNP)\n",
            "  and/CC\n",
            "  (PERSON Sergey/NNP Brin/NNP)\n",
            "  while/IN\n",
            "  they/PRP\n",
            "  were/VBD\n",
            "  Ph.D./NNP\n",
            "  students/NNS\n",
            "  at/IN\n",
            "  (ORGANIZATION Stanford/NNP University/NNP)\n",
            "  ./.)\n"
          ]
        }
      ],
      "source": [
        "# Input Text\n",
        "text = \"Google was founded by Larry Page and Sergey Brin while they were Ph.D. students at Stanford University.\"\n",
        "\n",
        "# Tokenize the Sentence\n",
        "tokens = word_tokenize(text)\n",
        "\n",
        "# Compute POS Tags\n",
        "pos_tags = pos_tag(tokens)\n",
        "\n",
        "# Perform NER\n",
        "named_entities = ne_chunk(pos_tags)\n",
        "print(named_entities)"
      ]
    },
    {
      "cell_type": "code",
      "source": [
        "# Visualising/Printing as a Tree\n",
        "named_entities.pretty_print()"
      ],
      "metadata": {
        "colab": {
          "base_uri": "https://localhost:8080/"
        },
        "id": "Yl5g5n6E6CCq",
        "outputId": "467a6f8b-eae8-41cc-911b-057e12a9be21"
      },
      "execution_count": null,
      "outputs": [
        {
          "output_type": "stream",
          "name": "stdout",
          "text": [
            "                                                                           S                                                                                                                         \n",
            "    _______________________________________________________________________|___________________________________________________________________________________________________                       \n",
            "   |         |        |     |       |        |        |         |          |         |    |    PERSON             PERSON                     PERSON                       ORGANIZATION               \n",
            "   |         |        |     |       |        |        |         |          |         |    |      |           _______|_______           ________|_______            ____________|_____________         \n",
            "was/VBD founded/VBN by/IN and/CC while/IN they/PRP were/VBD Ph.D./NNP students/NNS at/IN ./. Google/NNP Larry/NNP        Page/NNP Sergey/NNP        Brin/NNP Stanford/NNP              University/NNP\n",
            "\n"
          ]
        }
      ]
    },
    {
      "cell_type": "markdown",
      "source": [
        "We can visualize the them in a more user-friendly way without POS tags, by extracting only the Named Entities or NEs (Tree objects) from the parsed result"
      ],
      "metadata": {
        "id": "xAKyzvGO69Na"
      }
    },
    {
      "cell_type": "code",
      "execution_count": null,
      "metadata": {
        "colab": {
          "base_uri": "https://localhost:8080/"
        },
        "id": "l0_8PO4hQFGp",
        "outputId": "8dc3f107-59f1-4eee-c296-c0f4b955e32c"
      },
      "outputs": [
        {
          "output_type": "stream",
          "name": "stdout",
          "text": [
            "Named Entities:\n",
            "Google (PERSON)\n",
            "Larry Page (PERSON)\n",
            "Sergey Brin (PERSON)\n",
            "Stanford University (ORGANIZATION)\n"
          ]
        }
      ],
      "source": [
        "from nltk.tree import Tree\n",
        "\n",
        "# Extract named entities from the output tree\n",
        "entities = []\n",
        "for subtree in named_entities:\n",
        "    if isinstance(subtree, Tree):  # Check if it is a named entity\n",
        "        entity = \" \".join([token for token, pos in subtree.leaves()])\n",
        "        entity_type = subtree.label()\n",
        "        entities.append((entity, entity_type))\n",
        "\n",
        "# Display named entities in a clear format\n",
        "print(\"Named Entities:\")\n",
        "for entity, entity_type in entities:\n",
        "    print(f\"{entity} ({entity_type})\")"
      ]
    },
    {
      "cell_type": "markdown",
      "source": [
        "*Key Points*\n",
        "* Tokenization and POS Tagging are necessary prior to NER\n",
        "* `nltk.download('maxent_ne_chunker')` is necessary for `ne_chunk()` to perform NER, as it provides the required model.\n",
        "* `ne_chunk` outputs a tree structure, where subtrees are NEs and leaves are non-entity tokens. The **S** represents sentence.\n",
        "* The Entities and Entity Types can be extracted by traversing through the nodes of the output tree\n"
      ],
      "metadata": {
        "id": "OifZyMW_2orp"
      }
    },
    {
      "cell_type": "markdown",
      "metadata": {
        "id": "fEQ3x-WfH-5x"
      },
      "source": [
        "# 9. **Natural Language Generation**\n",
        "\n",
        "Natural Language Generation (NLG) is a process driven by artificial intelligence that produces natural written or spoken language from structured and unstructured data.\n",
        "\n",
        "It is used in automated reporting, conversational AI (e.g., chatbots), summarization, and storytelling. Let's discuss summarization in detail in this lab.\n",
        "## **Text Summarization**\n",
        "There are two different kinds of summarization techniques:\n",
        "\n",
        "1.   Extractive Summarization: Selects and combines important sentences from the original text to create a concise summary without changing the content.\n",
        "\n",
        "2.   Abstractive Summarization: Generates a concise summary by  paraphrasing the original text which represents the core meaning of the text.\n",
        "\n",
        "\n",
        "Since NLG involves the generation of new words/sentences particularly, so our main focus is to implement abstractive summarization in this lab.\n",
        "\n",
        "## **Example Code:**\n"
      ]
    },
    {
      "cell_type": "code",
      "source": [
        "# Import the transformers pipline\n",
        "from transformers import pipeline"
      ],
      "metadata": {
        "id": "La495sNdrnvW"
      },
      "execution_count": null,
      "outputs": []
    },
    {
      "cell_type": "code",
      "source": [
        "# Input text\n",
        "input_text = \"\"\"\n",
        "In its latest report, scientists highlight that greenhouse gas emissions must be reduced by 45% by 2030 to limit temperature\n",
        "rise to 1.5 degrees Celsius above pre-industrial levels. Failure to achieve this target could result in severe consequences,\n",
        "including rising sea levels, extreme weather events, and biodiversity loss.\n",
        "\"\"\"\n",
        "\n",
        "# Initialize the summarization pipeline\n",
        "summarizer = pipeline(\"summarization\", model=\"t5-base\")\n",
        "\n",
        "# Pass the input text to the summarizer\n",
        "abstractive_summary = summarizer(input_text, max_length=50, min_length=25, do_sample=False)\n",
        "\n",
        "# Display results\n",
        "print(\"\\nAbstractive Summary:\")\n",
        "print(abstractive_summary[0]['summary_text'])"
      ],
      "metadata": {
        "colab": {
          "base_uri": "https://localhost:8080/",
          "height": 229,
          "referenced_widgets": [
            "4bdb140b18054b1d9f92b55ba1e7a58c",
            "d434fff30a9a4bdc854a5d7f6c76b5fa",
            "231fe47452364fd9a01256d1ae678c71",
            "a4f03f8a65cc4615a5d158cfd9b9a649",
            "627f9f8a424a4d9ead414f9517552269",
            "746b99b465b54396bd5fb151059acbb2",
            "519ab71bc3c74c6497963df64f694635",
            "ec67a582a84f49a88a102c534df4412b",
            "b9c7c32fad23490bb724f599db74517c",
            "0ff5c03f4a12412e9ce87b7a1e5ea418",
            "4c43affb03dc4693be2df277f223565c",
            "39db9b7b69b840a9a656f247ed8d433f",
            "ca9d6a5e6f6746c0823c048a40cdc028",
            "4f8410a2ba614e348dd925f5ac2a3704",
            "5d86860043a747699008cd8457a0ecc7",
            "96d442e88dbc433e87f7e910c3ce3f48",
            "821e33efc0ea4c98b45f243b421c6b0d",
            "00f3ad8440614d7792bbadc80cf3833d",
            "6c241a53d7b0484c86e30d03b284b1dc",
            "d88d5a24be564c0c80e165b10cfbf911",
            "677438ec6704476dab300f0c7a211e44",
            "3981337c191f49dabd985a2448d630c7",
            "c2297945eb5f48f79d31c4affd356416",
            "63c0498971574015953afa33b614ddf4",
            "62fcfbd93f2b43d69306434f846ad8ce",
            "459692f5c06845ba9991b5f9643d6ae9",
            "ece95d2030e048b98bdf0a7bde0b2539",
            "ffe3c5e43bbd4d0292273c76ce035083",
            "2dbb10ccd19f4c2b8c67ef04cdcedbb8",
            "889c9f97515e40818cd8f3b473b670b9",
            "b4c10920e5294a648d99346131915306",
            "7d631a96043e4aedb1c3bf7e095cc81d",
            "76d8a8a4b70b4f0188707b45468563c5",
            "1faa99db74494ec9b073852afedd59d5",
            "4b97a2afd8024c319d425890b71dabcd",
            "051a7c72fe6d409488bfee0dfa40589d",
            "7518d6c7f3b54123ba9fc3d4fe49237b",
            "c7e48132d8b047478ad6c63c63cd1361",
            "9d539b3ce3da49e1b9187fd64312289b",
            "dd05ea60f49d46a79987c44e70c46848",
            "be2cb5761b6745339d60317998510bd4",
            "a517104783ad40b3981807b4dce39e10",
            "ce38186ff0e84e44a2c0fa4b4390e989",
            "bef7c5bd42ce4f30b5f77e07952a29a3",
            "e1c92a7cd3d14a50941e587db4d07193",
            "a666b87e9a264b578f9e915eb3844558",
            "25cdbae7afe04d198d23ae80c84b4725",
            "f52a033ed54e435a847d00c39e55be38",
            "1d109a166e4741fd94ef1204098acc7c",
            "ec73b752ea284357a340d98fe9651cbe",
            "0abc8680a38a45f18157d93d16b01cbb",
            "89c112e4e669493ebd31787081f667d1",
            "9aec643858c74bcdb8059ead05203806",
            "f22b09fab0fb48818978adaaae32dfc7",
            "47af8eab520547e39df35ad756300613"
          ]
        },
        "id": "5NhmAOVnfpC_",
        "outputId": "33bbc9d1-28f5-4dfc-c016-b598f04b16e2"
      },
      "execution_count": null,
      "outputs": [
        {
          "output_type": "display_data",
          "data": {
            "text/plain": [
              "config.json:   0%|          | 0.00/1.21k [00:00<?, ?B/s]"
            ],
            "application/vnd.jupyter.widget-view+json": {
              "version_major": 2,
              "version_minor": 0,
              "model_id": "4bdb140b18054b1d9f92b55ba1e7a58c"
            }
          },
          "metadata": {}
        },
        {
          "output_type": "display_data",
          "data": {
            "text/plain": [
              "model.safetensors:   0%|          | 0.00/892M [00:00<?, ?B/s]"
            ],
            "application/vnd.jupyter.widget-view+json": {
              "version_major": 2,
              "version_minor": 0,
              "model_id": "39db9b7b69b840a9a656f247ed8d433f"
            }
          },
          "metadata": {}
        },
        {
          "output_type": "display_data",
          "data": {
            "text/plain": [
              "generation_config.json:   0%|          | 0.00/147 [00:00<?, ?B/s]"
            ],
            "application/vnd.jupyter.widget-view+json": {
              "version_major": 2,
              "version_minor": 0,
              "model_id": "c2297945eb5f48f79d31c4affd356416"
            }
          },
          "metadata": {}
        },
        {
          "output_type": "display_data",
          "data": {
            "text/plain": [
              "spiece.model:   0%|          | 0.00/792k [00:00<?, ?B/s]"
            ],
            "application/vnd.jupyter.widget-view+json": {
              "version_major": 2,
              "version_minor": 0,
              "model_id": "1faa99db74494ec9b073852afedd59d5"
            }
          },
          "metadata": {}
        },
        {
          "output_type": "display_data",
          "data": {
            "text/plain": [
              "tokenizer.json:   0%|          | 0.00/1.39M [00:00<?, ?B/s]"
            ],
            "application/vnd.jupyter.widget-view+json": {
              "version_major": 2,
              "version_minor": 0,
              "model_id": "e1c92a7cd3d14a50941e587db4d07193"
            }
          },
          "metadata": {}
        },
        {
          "output_type": "stream",
          "name": "stdout",
          "text": [
            "\n",
            "Abstractive Summary:\n",
            "greenhouse gas emissions must be reduced by 45% by 2030 to limit temperature rise . failure to achieve this target could result in rising sea levels, extreme weather events .\n"
          ]
        }
      ]
    },
    {
      "cell_type": "markdown",
      "source": [
        "*Key Points*\n",
        "*\n",
        "* `pipeline()` function from the Transformers library is used to instantiate/initialize a pre-trained model for a specific task. In this case, it's set up for summarization, with `t5-base` as the model being used for generating summaries.\n",
        "* `summarizer()` function takes input and generates a summary, having output length between `min_length` and `max_length`.\n",
        "* `do_sample = False` ensures that the generated summary is predictable and accurate."
      ],
      "metadata": {
        "id": "Vj54qmuQ_Pco"
      }
    },
    {
      "cell_type": "markdown",
      "metadata": {
        "id": "a3gNnOt0_UoK"
      },
      "source": [
        "# **Deliverables**"
      ]
    },
    {
      "cell_type": "markdown",
      "metadata": {
        "id": "8AKGKqSZ3ew1"
      },
      "source": [
        "# **Task:** **News Article Analysis**\n",
        "\n",
        "*Develop a system that processes a corpus of text (4-5 sentences) from your favourite news article to extract meaningful insights by utilizing various NLP techniques.*\n",
        "\n",
        "\n",
        "\n"
      ]
    },
    {
      "cell_type": "markdown",
      "metadata": {
        "id": "q6u4JRYV_whZ"
      },
      "source": [
        "## **1. Tokenization**"
      ]
    },
    {
      "cell_type": "code",
      "execution_count": null,
      "metadata": {
        "id": "SVGVLF3U_1wb"
      },
      "outputs": [],
      "source": [
        "# Insert Code Here"
      ]
    },
    {
      "cell_type": "markdown",
      "metadata": {
        "id": "Moc_1q50_1SL"
      },
      "source": [
        "## **2. Part-of-Speech (POS) Tagging**\n",
        "\n"
      ]
    },
    {
      "cell_type": "code",
      "execution_count": null,
      "metadata": {
        "id": "nybDZJa-ARtV"
      },
      "outputs": [],
      "source": [
        "# Insert Code Here"
      ]
    },
    {
      "cell_type": "markdown",
      "metadata": {
        "id": "1eTY5wEw_8I0"
      },
      "source": [
        "## **3. Word Sense Disambiguation (WSD)**"
      ]
    },
    {
      "cell_type": "code",
      "execution_count": null,
      "metadata": {
        "id": "diZZbOIGAUJJ"
      },
      "outputs": [],
      "source": [
        "# Insert Code Here"
      ]
    },
    {
      "cell_type": "markdown",
      "metadata": {
        "id": "txGdFpRk_9dd"
      },
      "source": [
        "## **4. Dependency Parsing**"
      ]
    },
    {
      "cell_type": "code",
      "execution_count": null,
      "metadata": {
        "id": "ulGv-vdEAW8r"
      },
      "outputs": [],
      "source": [
        "# Insert Code Here"
      ]
    },
    {
      "cell_type": "markdown",
      "metadata": {
        "id": "xeWUM9dqACpl"
      },
      "source": [
        "## **5. Syntactic Parsing**"
      ]
    },
    {
      "cell_type": "code",
      "execution_count": null,
      "metadata": {
        "id": "FdDObembAZWx"
      },
      "outputs": [],
      "source": [
        "# Insert Code Here"
      ]
    },
    {
      "cell_type": "markdown",
      "metadata": {
        "id": "Kkg4b2O9AEtx"
      },
      "source": [
        "## **6. Text Classification**\n",
        "*Perform sentiment analysis.*"
      ]
    },
    {
      "cell_type": "code",
      "execution_count": null,
      "metadata": {
        "id": "jHT1Ua8wAq9I"
      },
      "outputs": [],
      "source": [
        "# Insert Code Here"
      ]
    },
    {
      "cell_type": "markdown",
      "metadata": {
        "id": "83Y-JpFaAGN3"
      },
      "source": [
        "## **7. Coreference Resolution**"
      ]
    },
    {
      "cell_type": "code",
      "execution_count": null,
      "metadata": {
        "id": "mW-avxgPArZn"
      },
      "outputs": [],
      "source": [
        "# Insert Code Here"
      ]
    },
    {
      "cell_type": "markdown",
      "metadata": {
        "id": "Fl-dyBtMAHmb"
      },
      "source": [
        "## **8. Named Entity Recognition (NER)**"
      ]
    },
    {
      "cell_type": "code",
      "execution_count": null,
      "metadata": {
        "id": "7zviTta1AodH"
      },
      "outputs": [],
      "source": [
        "# Insert Code Here"
      ]
    },
    {
      "cell_type": "markdown",
      "metadata": {
        "id": "iKtLOulvAL2g"
      },
      "source": [
        "## **9. Natural Language Generation**\n",
        "*Perform abstractive summarization.*"
      ]
    },
    {
      "cell_type": "code",
      "execution_count": null,
      "metadata": {
        "id": "R7AXIGDLA1Sw"
      },
      "outputs": [],
      "source": [
        "# Insert Code Here"
      ]
    }
  ],
  "metadata": {
    "colab": {
      "provenance": [],
      "include_colab_link": true
    },
    "kernelspec": {
      "display_name": "Python 3",
      "name": "python3"
    },
    "language_info": {
      "name": "python"
    },
    "widgets": {
      "application/vnd.jupyter.widget-state+json": {
        "8d96e79a7dbf4e9c979bb684e08cc2cb": {
          "model_module": "@jupyter-widgets/controls",
          "model_name": "HBoxModel",
          "model_module_version": "1.5.0",
          "state": {
            "_dom_classes": [],
            "_model_module": "@jupyter-widgets/controls",
            "_model_module_version": "1.5.0",
            "_model_name": "HBoxModel",
            "_view_count": null,
            "_view_module": "@jupyter-widgets/controls",
            "_view_module_version": "1.5.0",
            "_view_name": "HBoxView",
            "box_style": "",
            "children": [
              "IPY_MODEL_b6935fc1141c4e7fbad216eb59c0f3e4",
              "IPY_MODEL_5023e880f29a45549caba52dafe8126a",
              "IPY_MODEL_9b07ea4848904279b54235e5ec0b255a"
            ],
            "layout": "IPY_MODEL_11e0c61a801c48909b5dd96d4fee88a4"
          }
        },
        "b6935fc1141c4e7fbad216eb59c0f3e4": {
          "model_module": "@jupyter-widgets/controls",
          "model_name": "HTMLModel",
          "model_module_version": "1.5.0",
          "state": {
            "_dom_classes": [],
            "_model_module": "@jupyter-widgets/controls",
            "_model_module_version": "1.5.0",
            "_model_name": "HTMLModel",
            "_view_count": null,
            "_view_module": "@jupyter-widgets/controls",
            "_view_module_version": "1.5.0",
            "_view_name": "HTMLView",
            "description": "",
            "description_tooltip": null,
            "layout": "IPY_MODEL_73f00c083b2046eca5fa52fe92cb9120",
            "placeholder": "​",
            "style": "IPY_MODEL_8ca5fb255e6d4ae4b759ef3b444d3da4",
            "value": "config.json: 100%"
          }
        },
        "5023e880f29a45549caba52dafe8126a": {
          "model_module": "@jupyter-widgets/controls",
          "model_name": "FloatProgressModel",
          "model_module_version": "1.5.0",
          "state": {
            "_dom_classes": [],
            "_model_module": "@jupyter-widgets/controls",
            "_model_module_version": "1.5.0",
            "_model_name": "FloatProgressModel",
            "_view_count": null,
            "_view_module": "@jupyter-widgets/controls",
            "_view_module_version": "1.5.0",
            "_view_name": "ProgressView",
            "bar_style": "success",
            "description": "",
            "description_tooltip": null,
            "layout": "IPY_MODEL_8ca1c2e3c1724992888c9a5d8655fe2c",
            "max": 819,
            "min": 0,
            "orientation": "horizontal",
            "style": "IPY_MODEL_12c3c0131fae4937ad632433a3467174",
            "value": 819
          }
        },
        "9b07ea4848904279b54235e5ec0b255a": {
          "model_module": "@jupyter-widgets/controls",
          "model_name": "HTMLModel",
          "model_module_version": "1.5.0",
          "state": {
            "_dom_classes": [],
            "_model_module": "@jupyter-widgets/controls",
            "_model_module_version": "1.5.0",
            "_model_name": "HTMLModel",
            "_view_count": null,
            "_view_module": "@jupyter-widgets/controls",
            "_view_module_version": "1.5.0",
            "_view_name": "HTMLView",
            "description": "",
            "description_tooltip": null,
            "layout": "IPY_MODEL_ade974d1032d42e7a307847089c888cb",
            "placeholder": "​",
            "style": "IPY_MODEL_784cf4d849404860af02ad1149f84bc0",
            "value": " 819/819 [00:00&lt;00:00, 51.5kB/s]"
          }
        },
        "11e0c61a801c48909b5dd96d4fee88a4": {
          "model_module": "@jupyter-widgets/base",
          "model_name": "LayoutModel",
          "model_module_version": "1.2.0",
          "state": {
            "_model_module": "@jupyter-widgets/base",
            "_model_module_version": "1.2.0",
            "_model_name": "LayoutModel",
            "_view_count": null,
            "_view_module": "@jupyter-widgets/base",
            "_view_module_version": "1.2.0",
            "_view_name": "LayoutView",
            "align_content": null,
            "align_items": null,
            "align_self": null,
            "border": null,
            "bottom": null,
            "display": null,
            "flex": null,
            "flex_flow": null,
            "grid_area": null,
            "grid_auto_columns": null,
            "grid_auto_flow": null,
            "grid_auto_rows": null,
            "grid_column": null,
            "grid_gap": null,
            "grid_row": null,
            "grid_template_areas": null,
            "grid_template_columns": null,
            "grid_template_rows": null,
            "height": null,
            "justify_content": null,
            "justify_items": null,
            "left": null,
            "margin": null,
            "max_height": null,
            "max_width": null,
            "min_height": null,
            "min_width": null,
            "object_fit": null,
            "object_position": null,
            "order": null,
            "overflow": null,
            "overflow_x": null,
            "overflow_y": null,
            "padding": null,
            "right": null,
            "top": null,
            "visibility": null,
            "width": null
          }
        },
        "73f00c083b2046eca5fa52fe92cb9120": {
          "model_module": "@jupyter-widgets/base",
          "model_name": "LayoutModel",
          "model_module_version": "1.2.0",
          "state": {
            "_model_module": "@jupyter-widgets/base",
            "_model_module_version": "1.2.0",
            "_model_name": "LayoutModel",
            "_view_count": null,
            "_view_module": "@jupyter-widgets/base",
            "_view_module_version": "1.2.0",
            "_view_name": "LayoutView",
            "align_content": null,
            "align_items": null,
            "align_self": null,
            "border": null,
            "bottom": null,
            "display": null,
            "flex": null,
            "flex_flow": null,
            "grid_area": null,
            "grid_auto_columns": null,
            "grid_auto_flow": null,
            "grid_auto_rows": null,
            "grid_column": null,
            "grid_gap": null,
            "grid_row": null,
            "grid_template_areas": null,
            "grid_template_columns": null,
            "grid_template_rows": null,
            "height": null,
            "justify_content": null,
            "justify_items": null,
            "left": null,
            "margin": null,
            "max_height": null,
            "max_width": null,
            "min_height": null,
            "min_width": null,
            "object_fit": null,
            "object_position": null,
            "order": null,
            "overflow": null,
            "overflow_x": null,
            "overflow_y": null,
            "padding": null,
            "right": null,
            "top": null,
            "visibility": null,
            "width": null
          }
        },
        "8ca5fb255e6d4ae4b759ef3b444d3da4": {
          "model_module": "@jupyter-widgets/controls",
          "model_name": "DescriptionStyleModel",
          "model_module_version": "1.5.0",
          "state": {
            "_model_module": "@jupyter-widgets/controls",
            "_model_module_version": "1.5.0",
            "_model_name": "DescriptionStyleModel",
            "_view_count": null,
            "_view_module": "@jupyter-widgets/base",
            "_view_module_version": "1.2.0",
            "_view_name": "StyleView",
            "description_width": ""
          }
        },
        "8ca1c2e3c1724992888c9a5d8655fe2c": {
          "model_module": "@jupyter-widgets/base",
          "model_name": "LayoutModel",
          "model_module_version": "1.2.0",
          "state": {
            "_model_module": "@jupyter-widgets/base",
            "_model_module_version": "1.2.0",
            "_model_name": "LayoutModel",
            "_view_count": null,
            "_view_module": "@jupyter-widgets/base",
            "_view_module_version": "1.2.0",
            "_view_name": "LayoutView",
            "align_content": null,
            "align_items": null,
            "align_self": null,
            "border": null,
            "bottom": null,
            "display": null,
            "flex": null,
            "flex_flow": null,
            "grid_area": null,
            "grid_auto_columns": null,
            "grid_auto_flow": null,
            "grid_auto_rows": null,
            "grid_column": null,
            "grid_gap": null,
            "grid_row": null,
            "grid_template_areas": null,
            "grid_template_columns": null,
            "grid_template_rows": null,
            "height": null,
            "justify_content": null,
            "justify_items": null,
            "left": null,
            "margin": null,
            "max_height": null,
            "max_width": null,
            "min_height": null,
            "min_width": null,
            "object_fit": null,
            "object_position": null,
            "order": null,
            "overflow": null,
            "overflow_x": null,
            "overflow_y": null,
            "padding": null,
            "right": null,
            "top": null,
            "visibility": null,
            "width": null
          }
        },
        "12c3c0131fae4937ad632433a3467174": {
          "model_module": "@jupyter-widgets/controls",
          "model_name": "ProgressStyleModel",
          "model_module_version": "1.5.0",
          "state": {
            "_model_module": "@jupyter-widgets/controls",
            "_model_module_version": "1.5.0",
            "_model_name": "ProgressStyleModel",
            "_view_count": null,
            "_view_module": "@jupyter-widgets/base",
            "_view_module_version": "1.2.0",
            "_view_name": "StyleView",
            "bar_color": null,
            "description_width": ""
          }
        },
        "ade974d1032d42e7a307847089c888cb": {
          "model_module": "@jupyter-widgets/base",
          "model_name": "LayoutModel",
          "model_module_version": "1.2.0",
          "state": {
            "_model_module": "@jupyter-widgets/base",
            "_model_module_version": "1.2.0",
            "_model_name": "LayoutModel",
            "_view_count": null,
            "_view_module": "@jupyter-widgets/base",
            "_view_module_version": "1.2.0",
            "_view_name": "LayoutView",
            "align_content": null,
            "align_items": null,
            "align_self": null,
            "border": null,
            "bottom": null,
            "display": null,
            "flex": null,
            "flex_flow": null,
            "grid_area": null,
            "grid_auto_columns": null,
            "grid_auto_flow": null,
            "grid_auto_rows": null,
            "grid_column": null,
            "grid_gap": null,
            "grid_row": null,
            "grid_template_areas": null,
            "grid_template_columns": null,
            "grid_template_rows": null,
            "height": null,
            "justify_content": null,
            "justify_items": null,
            "left": null,
            "margin": null,
            "max_height": null,
            "max_width": null,
            "min_height": null,
            "min_width": null,
            "object_fit": null,
            "object_position": null,
            "order": null,
            "overflow": null,
            "overflow_x": null,
            "overflow_y": null,
            "padding": null,
            "right": null,
            "top": null,
            "visibility": null,
            "width": null
          }
        },
        "784cf4d849404860af02ad1149f84bc0": {
          "model_module": "@jupyter-widgets/controls",
          "model_name": "DescriptionStyleModel",
          "model_module_version": "1.5.0",
          "state": {
            "_model_module": "@jupyter-widgets/controls",
            "_model_module_version": "1.5.0",
            "_model_name": "DescriptionStyleModel",
            "_view_count": null,
            "_view_module": "@jupyter-widgets/base",
            "_view_module_version": "1.2.0",
            "_view_name": "StyleView",
            "description_width": ""
          }
        },
        "cfa67d0820f54e0c83007003365a5603": {
          "model_module": "@jupyter-widgets/controls",
          "model_name": "HBoxModel",
          "model_module_version": "1.5.0",
          "state": {
            "_dom_classes": [],
            "_model_module": "@jupyter-widgets/controls",
            "_model_module_version": "1.5.0",
            "_model_name": "HBoxModel",
            "_view_count": null,
            "_view_module": "@jupyter-widgets/controls",
            "_view_module_version": "1.5.0",
            "_view_name": "HBoxView",
            "box_style": "",
            "children": [
              "IPY_MODEL_33e4ffe3b04f4335914118821f5853c0",
              "IPY_MODEL_fa8bd99dca5e4a5994bf2694ce6e4e2a",
              "IPY_MODEL_e7c6f2643b0e46d5847eabeb91e993c9"
            ],
            "layout": "IPY_MODEL_ba058cdac8fa4b2eb6aea604860a1be4"
          }
        },
        "33e4ffe3b04f4335914118821f5853c0": {
          "model_module": "@jupyter-widgets/controls",
          "model_name": "HTMLModel",
          "model_module_version": "1.5.0",
          "state": {
            "_dom_classes": [],
            "_model_module": "@jupyter-widgets/controls",
            "_model_module_version": "1.5.0",
            "_model_name": "HTMLModel",
            "_view_count": null,
            "_view_module": "@jupyter-widgets/controls",
            "_view_module_version": "1.5.0",
            "_view_name": "HTMLView",
            "description": "",
            "description_tooltip": null,
            "layout": "IPY_MODEL_47eb496d9a2848a983973a17a76a09e5",
            "placeholder": "​",
            "style": "IPY_MODEL_b0c0a021fef9465b8341107e8dc9d8c8",
            "value": "tokenizer_config.json: 100%"
          }
        },
        "fa8bd99dca5e4a5994bf2694ce6e4e2a": {
          "model_module": "@jupyter-widgets/controls",
          "model_name": "FloatProgressModel",
          "model_module_version": "1.5.0",
          "state": {
            "_dom_classes": [],
            "_model_module": "@jupyter-widgets/controls",
            "_model_module_version": "1.5.0",
            "_model_name": "FloatProgressModel",
            "_view_count": null,
            "_view_module": "@jupyter-widgets/controls",
            "_view_module_version": "1.5.0",
            "_view_name": "ProgressView",
            "bar_style": "success",
            "description": "",
            "description_tooltip": null,
            "layout": "IPY_MODEL_12579bdbb56e47bb86096988629cdc6a",
            "max": 393,
            "min": 0,
            "orientation": "horizontal",
            "style": "IPY_MODEL_6dd5248b6c094886b3342f475825068d",
            "value": 393
          }
        },
        "e7c6f2643b0e46d5847eabeb91e993c9": {
          "model_module": "@jupyter-widgets/controls",
          "model_name": "HTMLModel",
          "model_module_version": "1.5.0",
          "state": {
            "_dom_classes": [],
            "_model_module": "@jupyter-widgets/controls",
            "_model_module_version": "1.5.0",
            "_model_name": "HTMLModel",
            "_view_count": null,
            "_view_module": "@jupyter-widgets/controls",
            "_view_module_version": "1.5.0",
            "_view_name": "HTMLView",
            "description": "",
            "description_tooltip": null,
            "layout": "IPY_MODEL_d40f0ecbc295442cb295c2c7fc37b529",
            "placeholder": "​",
            "style": "IPY_MODEL_605a82ccaac64c0e84128aa70f92fe35",
            "value": " 393/393 [00:00&lt;00:00, 23.8kB/s]"
          }
        },
        "ba058cdac8fa4b2eb6aea604860a1be4": {
          "model_module": "@jupyter-widgets/base",
          "model_name": "LayoutModel",
          "model_module_version": "1.2.0",
          "state": {
            "_model_module": "@jupyter-widgets/base",
            "_model_module_version": "1.2.0",
            "_model_name": "LayoutModel",
            "_view_count": null,
            "_view_module": "@jupyter-widgets/base",
            "_view_module_version": "1.2.0",
            "_view_name": "LayoutView",
            "align_content": null,
            "align_items": null,
            "align_self": null,
            "border": null,
            "bottom": null,
            "display": null,
            "flex": null,
            "flex_flow": null,
            "grid_area": null,
            "grid_auto_columns": null,
            "grid_auto_flow": null,
            "grid_auto_rows": null,
            "grid_column": null,
            "grid_gap": null,
            "grid_row": null,
            "grid_template_areas": null,
            "grid_template_columns": null,
            "grid_template_rows": null,
            "height": null,
            "justify_content": null,
            "justify_items": null,
            "left": null,
            "margin": null,
            "max_height": null,
            "max_width": null,
            "min_height": null,
            "min_width": null,
            "object_fit": null,
            "object_position": null,
            "order": null,
            "overflow": null,
            "overflow_x": null,
            "overflow_y": null,
            "padding": null,
            "right": null,
            "top": null,
            "visibility": null,
            "width": null
          }
        },
        "47eb496d9a2848a983973a17a76a09e5": {
          "model_module": "@jupyter-widgets/base",
          "model_name": "LayoutModel",
          "model_module_version": "1.2.0",
          "state": {
            "_model_module": "@jupyter-widgets/base",
            "_model_module_version": "1.2.0",
            "_model_name": "LayoutModel",
            "_view_count": null,
            "_view_module": "@jupyter-widgets/base",
            "_view_module_version": "1.2.0",
            "_view_name": "LayoutView",
            "align_content": null,
            "align_items": null,
            "align_self": null,
            "border": null,
            "bottom": null,
            "display": null,
            "flex": null,
            "flex_flow": null,
            "grid_area": null,
            "grid_auto_columns": null,
            "grid_auto_flow": null,
            "grid_auto_rows": null,
            "grid_column": null,
            "grid_gap": null,
            "grid_row": null,
            "grid_template_areas": null,
            "grid_template_columns": null,
            "grid_template_rows": null,
            "height": null,
            "justify_content": null,
            "justify_items": null,
            "left": null,
            "margin": null,
            "max_height": null,
            "max_width": null,
            "min_height": null,
            "min_width": null,
            "object_fit": null,
            "object_position": null,
            "order": null,
            "overflow": null,
            "overflow_x": null,
            "overflow_y": null,
            "padding": null,
            "right": null,
            "top": null,
            "visibility": null,
            "width": null
          }
        },
        "b0c0a021fef9465b8341107e8dc9d8c8": {
          "model_module": "@jupyter-widgets/controls",
          "model_name": "DescriptionStyleModel",
          "model_module_version": "1.5.0",
          "state": {
            "_model_module": "@jupyter-widgets/controls",
            "_model_module_version": "1.5.0",
            "_model_name": "DescriptionStyleModel",
            "_view_count": null,
            "_view_module": "@jupyter-widgets/base",
            "_view_module_version": "1.2.0",
            "_view_name": "StyleView",
            "description_width": ""
          }
        },
        "12579bdbb56e47bb86096988629cdc6a": {
          "model_module": "@jupyter-widgets/base",
          "model_name": "LayoutModel",
          "model_module_version": "1.2.0",
          "state": {
            "_model_module": "@jupyter-widgets/base",
            "_model_module_version": "1.2.0",
            "_model_name": "LayoutModel",
            "_view_count": null,
            "_view_module": "@jupyter-widgets/base",
            "_view_module_version": "1.2.0",
            "_view_name": "LayoutView",
            "align_content": null,
            "align_items": null,
            "align_self": null,
            "border": null,
            "bottom": null,
            "display": null,
            "flex": null,
            "flex_flow": null,
            "grid_area": null,
            "grid_auto_columns": null,
            "grid_auto_flow": null,
            "grid_auto_rows": null,
            "grid_column": null,
            "grid_gap": null,
            "grid_row": null,
            "grid_template_areas": null,
            "grid_template_columns": null,
            "grid_template_rows": null,
            "height": null,
            "justify_content": null,
            "justify_items": null,
            "left": null,
            "margin": null,
            "max_height": null,
            "max_width": null,
            "min_height": null,
            "min_width": null,
            "object_fit": null,
            "object_position": null,
            "order": null,
            "overflow": null,
            "overflow_x": null,
            "overflow_y": null,
            "padding": null,
            "right": null,
            "top": null,
            "visibility": null,
            "width": null
          }
        },
        "6dd5248b6c094886b3342f475825068d": {
          "model_module": "@jupyter-widgets/controls",
          "model_name": "ProgressStyleModel",
          "model_module_version": "1.5.0",
          "state": {
            "_model_module": "@jupyter-widgets/controls",
            "_model_module_version": "1.5.0",
            "_model_name": "ProgressStyleModel",
            "_view_count": null,
            "_view_module": "@jupyter-widgets/base",
            "_view_module_version": "1.2.0",
            "_view_name": "StyleView",
            "bar_color": null,
            "description_width": ""
          }
        },
        "d40f0ecbc295442cb295c2c7fc37b529": {
          "model_module": "@jupyter-widgets/base",
          "model_name": "LayoutModel",
          "model_module_version": "1.2.0",
          "state": {
            "_model_module": "@jupyter-widgets/base",
            "_model_module_version": "1.2.0",
            "_model_name": "LayoutModel",
            "_view_count": null,
            "_view_module": "@jupyter-widgets/base",
            "_view_module_version": "1.2.0",
            "_view_name": "LayoutView",
            "align_content": null,
            "align_items": null,
            "align_self": null,
            "border": null,
            "bottom": null,
            "display": null,
            "flex": null,
            "flex_flow": null,
            "grid_area": null,
            "grid_auto_columns": null,
            "grid_auto_flow": null,
            "grid_auto_rows": null,
            "grid_column": null,
            "grid_gap": null,
            "grid_row": null,
            "grid_template_areas": null,
            "grid_template_columns": null,
            "grid_template_rows": null,
            "height": null,
            "justify_content": null,
            "justify_items": null,
            "left": null,
            "margin": null,
            "max_height": null,
            "max_width": null,
            "min_height": null,
            "min_width": null,
            "object_fit": null,
            "object_position": null,
            "order": null,
            "overflow": null,
            "overflow_x": null,
            "overflow_y": null,
            "padding": null,
            "right": null,
            "top": null,
            "visibility": null,
            "width": null
          }
        },
        "605a82ccaac64c0e84128aa70f92fe35": {
          "model_module": "@jupyter-widgets/controls",
          "model_name": "DescriptionStyleModel",
          "model_module_version": "1.5.0",
          "state": {
            "_model_module": "@jupyter-widgets/controls",
            "_model_module_version": "1.5.0",
            "_model_name": "DescriptionStyleModel",
            "_view_count": null,
            "_view_module": "@jupyter-widgets/base",
            "_view_module_version": "1.2.0",
            "_view_name": "StyleView",
            "description_width": ""
          }
        },
        "fd9a9869b520459485a944db86d988d2": {
          "model_module": "@jupyter-widgets/controls",
          "model_name": "HBoxModel",
          "model_module_version": "1.5.0",
          "state": {
            "_dom_classes": [],
            "_model_module": "@jupyter-widgets/controls",
            "_model_module_version": "1.5.0",
            "_model_name": "HBoxModel",
            "_view_count": null,
            "_view_module": "@jupyter-widgets/controls",
            "_view_module_version": "1.5.0",
            "_view_name": "HBoxView",
            "box_style": "",
            "children": [
              "IPY_MODEL_daa895f8111d4ef189c13d58044c0a1c",
              "IPY_MODEL_9ae0a3d89a2146d28ecd4571daca5353",
              "IPY_MODEL_5d82246fbee74887ab3164ce664b24d0"
            ],
            "layout": "IPY_MODEL_ab6971a2c46b440b856a09ce3f2bd330"
          }
        },
        "daa895f8111d4ef189c13d58044c0a1c": {
          "model_module": "@jupyter-widgets/controls",
          "model_name": "HTMLModel",
          "model_module_version": "1.5.0",
          "state": {
            "_dom_classes": [],
            "_model_module": "@jupyter-widgets/controls",
            "_model_module_version": "1.5.0",
            "_model_name": "HTMLModel",
            "_view_count": null,
            "_view_module": "@jupyter-widgets/controls",
            "_view_module_version": "1.5.0",
            "_view_name": "HTMLView",
            "description": "",
            "description_tooltip": null,
            "layout": "IPY_MODEL_a2f46d4a746243a682e64a4c9ddc9642",
            "placeholder": "​",
            "style": "IPY_MODEL_dfbde63a633248c491f6277121af978a",
            "value": "vocab.json: 100%"
          }
        },
        "9ae0a3d89a2146d28ecd4571daca5353": {
          "model_module": "@jupyter-widgets/controls",
          "model_name": "FloatProgressModel",
          "model_module_version": "1.5.0",
          "state": {
            "_dom_classes": [],
            "_model_module": "@jupyter-widgets/controls",
            "_model_module_version": "1.5.0",
            "_model_name": "FloatProgressModel",
            "_view_count": null,
            "_view_module": "@jupyter-widgets/controls",
            "_view_module_version": "1.5.0",
            "_view_name": "ProgressView",
            "bar_style": "success",
            "description": "",
            "description_tooltip": null,
            "layout": "IPY_MODEL_400c03988e1a4303b335d6a3d127a93f",
            "max": 798293,
            "min": 0,
            "orientation": "horizontal",
            "style": "IPY_MODEL_edd1e9e417d6469d9cac8975e17125be",
            "value": 798293
          }
        },
        "5d82246fbee74887ab3164ce664b24d0": {
          "model_module": "@jupyter-widgets/controls",
          "model_name": "HTMLModel",
          "model_module_version": "1.5.0",
          "state": {
            "_dom_classes": [],
            "_model_module": "@jupyter-widgets/controls",
            "_model_module_version": "1.5.0",
            "_model_name": "HTMLModel",
            "_view_count": null,
            "_view_module": "@jupyter-widgets/controls",
            "_view_module_version": "1.5.0",
            "_view_name": "HTMLView",
            "description": "",
            "description_tooltip": null,
            "layout": "IPY_MODEL_2689f12c8f404962b5280f2e1bd3435d",
            "placeholder": "​",
            "style": "IPY_MODEL_a231bdc3d377420894c083961782d65d",
            "value": " 798k/798k [00:00&lt;00:00, 4.10MB/s]"
          }
        },
        "ab6971a2c46b440b856a09ce3f2bd330": {
          "model_module": "@jupyter-widgets/base",
          "model_name": "LayoutModel",
          "model_module_version": "1.2.0",
          "state": {
            "_model_module": "@jupyter-widgets/base",
            "_model_module_version": "1.2.0",
            "_model_name": "LayoutModel",
            "_view_count": null,
            "_view_module": "@jupyter-widgets/base",
            "_view_module_version": "1.2.0",
            "_view_name": "LayoutView",
            "align_content": null,
            "align_items": null,
            "align_self": null,
            "border": null,
            "bottom": null,
            "display": null,
            "flex": null,
            "flex_flow": null,
            "grid_area": null,
            "grid_auto_columns": null,
            "grid_auto_flow": null,
            "grid_auto_rows": null,
            "grid_column": null,
            "grid_gap": null,
            "grid_row": null,
            "grid_template_areas": null,
            "grid_template_columns": null,
            "grid_template_rows": null,
            "height": null,
            "justify_content": null,
            "justify_items": null,
            "left": null,
            "margin": null,
            "max_height": null,
            "max_width": null,
            "min_height": null,
            "min_width": null,
            "object_fit": null,
            "object_position": null,
            "order": null,
            "overflow": null,
            "overflow_x": null,
            "overflow_y": null,
            "padding": null,
            "right": null,
            "top": null,
            "visibility": null,
            "width": null
          }
        },
        "a2f46d4a746243a682e64a4c9ddc9642": {
          "model_module": "@jupyter-widgets/base",
          "model_name": "LayoutModel",
          "model_module_version": "1.2.0",
          "state": {
            "_model_module": "@jupyter-widgets/base",
            "_model_module_version": "1.2.0",
            "_model_name": "LayoutModel",
            "_view_count": null,
            "_view_module": "@jupyter-widgets/base",
            "_view_module_version": "1.2.0",
            "_view_name": "LayoutView",
            "align_content": null,
            "align_items": null,
            "align_self": null,
            "border": null,
            "bottom": null,
            "display": null,
            "flex": null,
            "flex_flow": null,
            "grid_area": null,
            "grid_auto_columns": null,
            "grid_auto_flow": null,
            "grid_auto_rows": null,
            "grid_column": null,
            "grid_gap": null,
            "grid_row": null,
            "grid_template_areas": null,
            "grid_template_columns": null,
            "grid_template_rows": null,
            "height": null,
            "justify_content": null,
            "justify_items": null,
            "left": null,
            "margin": null,
            "max_height": null,
            "max_width": null,
            "min_height": null,
            "min_width": null,
            "object_fit": null,
            "object_position": null,
            "order": null,
            "overflow": null,
            "overflow_x": null,
            "overflow_y": null,
            "padding": null,
            "right": null,
            "top": null,
            "visibility": null,
            "width": null
          }
        },
        "dfbde63a633248c491f6277121af978a": {
          "model_module": "@jupyter-widgets/controls",
          "model_name": "DescriptionStyleModel",
          "model_module_version": "1.5.0",
          "state": {
            "_model_module": "@jupyter-widgets/controls",
            "_model_module_version": "1.5.0",
            "_model_name": "DescriptionStyleModel",
            "_view_count": null,
            "_view_module": "@jupyter-widgets/base",
            "_view_module_version": "1.2.0",
            "_view_name": "StyleView",
            "description_width": ""
          }
        },
        "400c03988e1a4303b335d6a3d127a93f": {
          "model_module": "@jupyter-widgets/base",
          "model_name": "LayoutModel",
          "model_module_version": "1.2.0",
          "state": {
            "_model_module": "@jupyter-widgets/base",
            "_model_module_version": "1.2.0",
            "_model_name": "LayoutModel",
            "_view_count": null,
            "_view_module": "@jupyter-widgets/base",
            "_view_module_version": "1.2.0",
            "_view_name": "LayoutView",
            "align_content": null,
            "align_items": null,
            "align_self": null,
            "border": null,
            "bottom": null,
            "display": null,
            "flex": null,
            "flex_flow": null,
            "grid_area": null,
            "grid_auto_columns": null,
            "grid_auto_flow": null,
            "grid_auto_rows": null,
            "grid_column": null,
            "grid_gap": null,
            "grid_row": null,
            "grid_template_areas": null,
            "grid_template_columns": null,
            "grid_template_rows": null,
            "height": null,
            "justify_content": null,
            "justify_items": null,
            "left": null,
            "margin": null,
            "max_height": null,
            "max_width": null,
            "min_height": null,
            "min_width": null,
            "object_fit": null,
            "object_position": null,
            "order": null,
            "overflow": null,
            "overflow_x": null,
            "overflow_y": null,
            "padding": null,
            "right": null,
            "top": null,
            "visibility": null,
            "width": null
          }
        },
        "edd1e9e417d6469d9cac8975e17125be": {
          "model_module": "@jupyter-widgets/controls",
          "model_name": "ProgressStyleModel",
          "model_module_version": "1.5.0",
          "state": {
            "_model_module": "@jupyter-widgets/controls",
            "_model_module_version": "1.5.0",
            "_model_name": "ProgressStyleModel",
            "_view_count": null,
            "_view_module": "@jupyter-widgets/base",
            "_view_module_version": "1.2.0",
            "_view_name": "StyleView",
            "bar_color": null,
            "description_width": ""
          }
        },
        "2689f12c8f404962b5280f2e1bd3435d": {
          "model_module": "@jupyter-widgets/base",
          "model_name": "LayoutModel",
          "model_module_version": "1.2.0",
          "state": {
            "_model_module": "@jupyter-widgets/base",
            "_model_module_version": "1.2.0",
            "_model_name": "LayoutModel",
            "_view_count": null,
            "_view_module": "@jupyter-widgets/base",
            "_view_module_version": "1.2.0",
            "_view_name": "LayoutView",
            "align_content": null,
            "align_items": null,
            "align_self": null,
            "border": null,
            "bottom": null,
            "display": null,
            "flex": null,
            "flex_flow": null,
            "grid_area": null,
            "grid_auto_columns": null,
            "grid_auto_flow": null,
            "grid_auto_rows": null,
            "grid_column": null,
            "grid_gap": null,
            "grid_row": null,
            "grid_template_areas": null,
            "grid_template_columns": null,
            "grid_template_rows": null,
            "height": null,
            "justify_content": null,
            "justify_items": null,
            "left": null,
            "margin": null,
            "max_height": null,
            "max_width": null,
            "min_height": null,
            "min_width": null,
            "object_fit": null,
            "object_position": null,
            "order": null,
            "overflow": null,
            "overflow_x": null,
            "overflow_y": null,
            "padding": null,
            "right": null,
            "top": null,
            "visibility": null,
            "width": null
          }
        },
        "a231bdc3d377420894c083961782d65d": {
          "model_module": "@jupyter-widgets/controls",
          "model_name": "DescriptionStyleModel",
          "model_module_version": "1.5.0",
          "state": {
            "_model_module": "@jupyter-widgets/controls",
            "_model_module_version": "1.5.0",
            "_model_name": "DescriptionStyleModel",
            "_view_count": null,
            "_view_module": "@jupyter-widgets/base",
            "_view_module_version": "1.2.0",
            "_view_name": "StyleView",
            "description_width": ""
          }
        },
        "41bdc87920c0440d903c0958c229cac1": {
          "model_module": "@jupyter-widgets/controls",
          "model_name": "HBoxModel",
          "model_module_version": "1.5.0",
          "state": {
            "_dom_classes": [],
            "_model_module": "@jupyter-widgets/controls",
            "_model_module_version": "1.5.0",
            "_model_name": "HBoxModel",
            "_view_count": null,
            "_view_module": "@jupyter-widgets/controls",
            "_view_module_version": "1.5.0",
            "_view_name": "HBoxView",
            "box_style": "",
            "children": [
              "IPY_MODEL_383b3f5e94ec42e99a724a8908c83c20",
              "IPY_MODEL_73e721d4d894482c834fe81998b40bf5",
              "IPY_MODEL_6e6d8cee7f03424ca6738fca8ccf9e45"
            ],
            "layout": "IPY_MODEL_f9d4d69a8aa3459e9ef57fce77ebd636"
          }
        },
        "383b3f5e94ec42e99a724a8908c83c20": {
          "model_module": "@jupyter-widgets/controls",
          "model_name": "HTMLModel",
          "model_module_version": "1.5.0",
          "state": {
            "_dom_classes": [],
            "_model_module": "@jupyter-widgets/controls",
            "_model_module_version": "1.5.0",
            "_model_name": "HTMLModel",
            "_view_count": null,
            "_view_module": "@jupyter-widgets/controls",
            "_view_module_version": "1.5.0",
            "_view_name": "HTMLView",
            "description": "",
            "description_tooltip": null,
            "layout": "IPY_MODEL_671c9f1ffdc646f6851056756c675f6d",
            "placeholder": "​",
            "style": "IPY_MODEL_ac8f671b319543829389fc0f9bdb708d",
            "value": "merges.txt: 100%"
          }
        },
        "73e721d4d894482c834fe81998b40bf5": {
          "model_module": "@jupyter-widgets/controls",
          "model_name": "FloatProgressModel",
          "model_module_version": "1.5.0",
          "state": {
            "_dom_classes": [],
            "_model_module": "@jupyter-widgets/controls",
            "_model_module_version": "1.5.0",
            "_model_name": "FloatProgressModel",
            "_view_count": null,
            "_view_module": "@jupyter-widgets/controls",
            "_view_module_version": "1.5.0",
            "_view_name": "ProgressView",
            "bar_style": "success",
            "description": "",
            "description_tooltip": null,
            "layout": "IPY_MODEL_07bb9835ecea48f6ad511532560168ab",
            "max": 456356,
            "min": 0,
            "orientation": "horizontal",
            "style": "IPY_MODEL_75ba5584d6cc4b65aee60cd6a5f21d5e",
            "value": 456356
          }
        },
        "6e6d8cee7f03424ca6738fca8ccf9e45": {
          "model_module": "@jupyter-widgets/controls",
          "model_name": "HTMLModel",
          "model_module_version": "1.5.0",
          "state": {
            "_dom_classes": [],
            "_model_module": "@jupyter-widgets/controls",
            "_model_module_version": "1.5.0",
            "_model_name": "HTMLModel",
            "_view_count": null,
            "_view_module": "@jupyter-widgets/controls",
            "_view_module_version": "1.5.0",
            "_view_name": "HTMLView",
            "description": "",
            "description_tooltip": null,
            "layout": "IPY_MODEL_8e56cb8314674c14840669725dd583a0",
            "placeholder": "​",
            "style": "IPY_MODEL_365e9d10f98f4521bdbb2bc9cee6d060",
            "value": " 456k/456k [00:00&lt;00:00, 3.52MB/s]"
          }
        },
        "f9d4d69a8aa3459e9ef57fce77ebd636": {
          "model_module": "@jupyter-widgets/base",
          "model_name": "LayoutModel",
          "model_module_version": "1.2.0",
          "state": {
            "_model_module": "@jupyter-widgets/base",
            "_model_module_version": "1.2.0",
            "_model_name": "LayoutModel",
            "_view_count": null,
            "_view_module": "@jupyter-widgets/base",
            "_view_module_version": "1.2.0",
            "_view_name": "LayoutView",
            "align_content": null,
            "align_items": null,
            "align_self": null,
            "border": null,
            "bottom": null,
            "display": null,
            "flex": null,
            "flex_flow": null,
            "grid_area": null,
            "grid_auto_columns": null,
            "grid_auto_flow": null,
            "grid_auto_rows": null,
            "grid_column": null,
            "grid_gap": null,
            "grid_row": null,
            "grid_template_areas": null,
            "grid_template_columns": null,
            "grid_template_rows": null,
            "height": null,
            "justify_content": null,
            "justify_items": null,
            "left": null,
            "margin": null,
            "max_height": null,
            "max_width": null,
            "min_height": null,
            "min_width": null,
            "object_fit": null,
            "object_position": null,
            "order": null,
            "overflow": null,
            "overflow_x": null,
            "overflow_y": null,
            "padding": null,
            "right": null,
            "top": null,
            "visibility": null,
            "width": null
          }
        },
        "671c9f1ffdc646f6851056756c675f6d": {
          "model_module": "@jupyter-widgets/base",
          "model_name": "LayoutModel",
          "model_module_version": "1.2.0",
          "state": {
            "_model_module": "@jupyter-widgets/base",
            "_model_module_version": "1.2.0",
            "_model_name": "LayoutModel",
            "_view_count": null,
            "_view_module": "@jupyter-widgets/base",
            "_view_module_version": "1.2.0",
            "_view_name": "LayoutView",
            "align_content": null,
            "align_items": null,
            "align_self": null,
            "border": null,
            "bottom": null,
            "display": null,
            "flex": null,
            "flex_flow": null,
            "grid_area": null,
            "grid_auto_columns": null,
            "grid_auto_flow": null,
            "grid_auto_rows": null,
            "grid_column": null,
            "grid_gap": null,
            "grid_row": null,
            "grid_template_areas": null,
            "grid_template_columns": null,
            "grid_template_rows": null,
            "height": null,
            "justify_content": null,
            "justify_items": null,
            "left": null,
            "margin": null,
            "max_height": null,
            "max_width": null,
            "min_height": null,
            "min_width": null,
            "object_fit": null,
            "object_position": null,
            "order": null,
            "overflow": null,
            "overflow_x": null,
            "overflow_y": null,
            "padding": null,
            "right": null,
            "top": null,
            "visibility": null,
            "width": null
          }
        },
        "ac8f671b319543829389fc0f9bdb708d": {
          "model_module": "@jupyter-widgets/controls",
          "model_name": "DescriptionStyleModel",
          "model_module_version": "1.5.0",
          "state": {
            "_model_module": "@jupyter-widgets/controls",
            "_model_module_version": "1.5.0",
            "_model_name": "DescriptionStyleModel",
            "_view_count": null,
            "_view_module": "@jupyter-widgets/base",
            "_view_module_version": "1.2.0",
            "_view_name": "StyleView",
            "description_width": ""
          }
        },
        "07bb9835ecea48f6ad511532560168ab": {
          "model_module": "@jupyter-widgets/base",
          "model_name": "LayoutModel",
          "model_module_version": "1.2.0",
          "state": {
            "_model_module": "@jupyter-widgets/base",
            "_model_module_version": "1.2.0",
            "_model_name": "LayoutModel",
            "_view_count": null,
            "_view_module": "@jupyter-widgets/base",
            "_view_module_version": "1.2.0",
            "_view_name": "LayoutView",
            "align_content": null,
            "align_items": null,
            "align_self": null,
            "border": null,
            "bottom": null,
            "display": null,
            "flex": null,
            "flex_flow": null,
            "grid_area": null,
            "grid_auto_columns": null,
            "grid_auto_flow": null,
            "grid_auto_rows": null,
            "grid_column": null,
            "grid_gap": null,
            "grid_row": null,
            "grid_template_areas": null,
            "grid_template_columns": null,
            "grid_template_rows": null,
            "height": null,
            "justify_content": null,
            "justify_items": null,
            "left": null,
            "margin": null,
            "max_height": null,
            "max_width": null,
            "min_height": null,
            "min_width": null,
            "object_fit": null,
            "object_position": null,
            "order": null,
            "overflow": null,
            "overflow_x": null,
            "overflow_y": null,
            "padding": null,
            "right": null,
            "top": null,
            "visibility": null,
            "width": null
          }
        },
        "75ba5584d6cc4b65aee60cd6a5f21d5e": {
          "model_module": "@jupyter-widgets/controls",
          "model_name": "ProgressStyleModel",
          "model_module_version": "1.5.0",
          "state": {
            "_model_module": "@jupyter-widgets/controls",
            "_model_module_version": "1.5.0",
            "_model_name": "ProgressStyleModel",
            "_view_count": null,
            "_view_module": "@jupyter-widgets/base",
            "_view_module_version": "1.2.0",
            "_view_name": "StyleView",
            "bar_color": null,
            "description_width": ""
          }
        },
        "8e56cb8314674c14840669725dd583a0": {
          "model_module": "@jupyter-widgets/base",
          "model_name": "LayoutModel",
          "model_module_version": "1.2.0",
          "state": {
            "_model_module": "@jupyter-widgets/base",
            "_model_module_version": "1.2.0",
            "_model_name": "LayoutModel",
            "_view_count": null,
            "_view_module": "@jupyter-widgets/base",
            "_view_module_version": "1.2.0",
            "_view_name": "LayoutView",
            "align_content": null,
            "align_items": null,
            "align_self": null,
            "border": null,
            "bottom": null,
            "display": null,
            "flex": null,
            "flex_flow": null,
            "grid_area": null,
            "grid_auto_columns": null,
            "grid_auto_flow": null,
            "grid_auto_rows": null,
            "grid_column": null,
            "grid_gap": null,
            "grid_row": null,
            "grid_template_areas": null,
            "grid_template_columns": null,
            "grid_template_rows": null,
            "height": null,
            "justify_content": null,
            "justify_items": null,
            "left": null,
            "margin": null,
            "max_height": null,
            "max_width": null,
            "min_height": null,
            "min_width": null,
            "object_fit": null,
            "object_position": null,
            "order": null,
            "overflow": null,
            "overflow_x": null,
            "overflow_y": null,
            "padding": null,
            "right": null,
            "top": null,
            "visibility": null,
            "width": null
          }
        },
        "365e9d10f98f4521bdbb2bc9cee6d060": {
          "model_module": "@jupyter-widgets/controls",
          "model_name": "DescriptionStyleModel",
          "model_module_version": "1.5.0",
          "state": {
            "_model_module": "@jupyter-widgets/controls",
            "_model_module_version": "1.5.0",
            "_model_name": "DescriptionStyleModel",
            "_view_count": null,
            "_view_module": "@jupyter-widgets/base",
            "_view_module_version": "1.2.0",
            "_view_name": "StyleView",
            "description_width": ""
          }
        },
        "72164d758afd476ea218c2035015209f": {
          "model_module": "@jupyter-widgets/controls",
          "model_name": "HBoxModel",
          "model_module_version": "1.5.0",
          "state": {
            "_dom_classes": [],
            "_model_module": "@jupyter-widgets/controls",
            "_model_module_version": "1.5.0",
            "_model_name": "HBoxModel",
            "_view_count": null,
            "_view_module": "@jupyter-widgets/controls",
            "_view_module_version": "1.5.0",
            "_view_name": "HBoxView",
            "box_style": "",
            "children": [
              "IPY_MODEL_796e205f29f4472cb6d39c6bfbbafa5d",
              "IPY_MODEL_b5227959ddf0427ebecbf1e8ec2c8bd4",
              "IPY_MODEL_73fa7a5ef7a448938a0289153deadf3f"
            ],
            "layout": "IPY_MODEL_8812adbddd0c47debd6dc8c148bad854"
          }
        },
        "796e205f29f4472cb6d39c6bfbbafa5d": {
          "model_module": "@jupyter-widgets/controls",
          "model_name": "HTMLModel",
          "model_module_version": "1.5.0",
          "state": {
            "_dom_classes": [],
            "_model_module": "@jupyter-widgets/controls",
            "_model_module_version": "1.5.0",
            "_model_name": "HTMLModel",
            "_view_count": null,
            "_view_module": "@jupyter-widgets/controls",
            "_view_module_version": "1.5.0",
            "_view_name": "HTMLView",
            "description": "",
            "description_tooltip": null,
            "layout": "IPY_MODEL_b66d0ae4df45418e9194f3d1dd9b4658",
            "placeholder": "​",
            "style": "IPY_MODEL_b45dae346f054d899e99b00c27742052",
            "value": "tokenizer.json: 100%"
          }
        },
        "b5227959ddf0427ebecbf1e8ec2c8bd4": {
          "model_module": "@jupyter-widgets/controls",
          "model_name": "FloatProgressModel",
          "model_module_version": "1.5.0",
          "state": {
            "_dom_classes": [],
            "_model_module": "@jupyter-widgets/controls",
            "_model_module_version": "1.5.0",
            "_model_name": "FloatProgressModel",
            "_view_count": null,
            "_view_module": "@jupyter-widgets/controls",
            "_view_module_version": "1.5.0",
            "_view_name": "ProgressView",
            "bar_style": "success",
            "description": "",
            "description_tooltip": null,
            "layout": "IPY_MODEL_4778955287254446a24e7df8027736dd",
            "max": 1355880,
            "min": 0,
            "orientation": "horizontal",
            "style": "IPY_MODEL_9d1fbd633e7e4be1adda45d7c8304fdf",
            "value": 1355880
          }
        },
        "73fa7a5ef7a448938a0289153deadf3f": {
          "model_module": "@jupyter-widgets/controls",
          "model_name": "HTMLModel",
          "model_module_version": "1.5.0",
          "state": {
            "_dom_classes": [],
            "_model_module": "@jupyter-widgets/controls",
            "_model_module_version": "1.5.0",
            "_model_name": "HTMLModel",
            "_view_count": null,
            "_view_module": "@jupyter-widgets/controls",
            "_view_module_version": "1.5.0",
            "_view_name": "HTMLView",
            "description": "",
            "description_tooltip": null,
            "layout": "IPY_MODEL_0af1d518663d4c87b738abc9e87c3220",
            "placeholder": "​",
            "style": "IPY_MODEL_33f13f078d4b43bfb41678d541ca967c",
            "value": " 1.36M/1.36M [00:00&lt;00:00, 5.21MB/s]"
          }
        },
        "8812adbddd0c47debd6dc8c148bad854": {
          "model_module": "@jupyter-widgets/base",
          "model_name": "LayoutModel",
          "model_module_version": "1.2.0",
          "state": {
            "_model_module": "@jupyter-widgets/base",
            "_model_module_version": "1.2.0",
            "_model_name": "LayoutModel",
            "_view_count": null,
            "_view_module": "@jupyter-widgets/base",
            "_view_module_version": "1.2.0",
            "_view_name": "LayoutView",
            "align_content": null,
            "align_items": null,
            "align_self": null,
            "border": null,
            "bottom": null,
            "display": null,
            "flex": null,
            "flex_flow": null,
            "grid_area": null,
            "grid_auto_columns": null,
            "grid_auto_flow": null,
            "grid_auto_rows": null,
            "grid_column": null,
            "grid_gap": null,
            "grid_row": null,
            "grid_template_areas": null,
            "grid_template_columns": null,
            "grid_template_rows": null,
            "height": null,
            "justify_content": null,
            "justify_items": null,
            "left": null,
            "margin": null,
            "max_height": null,
            "max_width": null,
            "min_height": null,
            "min_width": null,
            "object_fit": null,
            "object_position": null,
            "order": null,
            "overflow": null,
            "overflow_x": null,
            "overflow_y": null,
            "padding": null,
            "right": null,
            "top": null,
            "visibility": null,
            "width": null
          }
        },
        "b66d0ae4df45418e9194f3d1dd9b4658": {
          "model_module": "@jupyter-widgets/base",
          "model_name": "LayoutModel",
          "model_module_version": "1.2.0",
          "state": {
            "_model_module": "@jupyter-widgets/base",
            "_model_module_version": "1.2.0",
            "_model_name": "LayoutModel",
            "_view_count": null,
            "_view_module": "@jupyter-widgets/base",
            "_view_module_version": "1.2.0",
            "_view_name": "LayoutView",
            "align_content": null,
            "align_items": null,
            "align_self": null,
            "border": null,
            "bottom": null,
            "display": null,
            "flex": null,
            "flex_flow": null,
            "grid_area": null,
            "grid_auto_columns": null,
            "grid_auto_flow": null,
            "grid_auto_rows": null,
            "grid_column": null,
            "grid_gap": null,
            "grid_row": null,
            "grid_template_areas": null,
            "grid_template_columns": null,
            "grid_template_rows": null,
            "height": null,
            "justify_content": null,
            "justify_items": null,
            "left": null,
            "margin": null,
            "max_height": null,
            "max_width": null,
            "min_height": null,
            "min_width": null,
            "object_fit": null,
            "object_position": null,
            "order": null,
            "overflow": null,
            "overflow_x": null,
            "overflow_y": null,
            "padding": null,
            "right": null,
            "top": null,
            "visibility": null,
            "width": null
          }
        },
        "b45dae346f054d899e99b00c27742052": {
          "model_module": "@jupyter-widgets/controls",
          "model_name": "DescriptionStyleModel",
          "model_module_version": "1.5.0",
          "state": {
            "_model_module": "@jupyter-widgets/controls",
            "_model_module_version": "1.5.0",
            "_model_name": "DescriptionStyleModel",
            "_view_count": null,
            "_view_module": "@jupyter-widgets/base",
            "_view_module_version": "1.2.0",
            "_view_name": "StyleView",
            "description_width": ""
          }
        },
        "4778955287254446a24e7df8027736dd": {
          "model_module": "@jupyter-widgets/base",
          "model_name": "LayoutModel",
          "model_module_version": "1.2.0",
          "state": {
            "_model_module": "@jupyter-widgets/base",
            "_model_module_version": "1.2.0",
            "_model_name": "LayoutModel",
            "_view_count": null,
            "_view_module": "@jupyter-widgets/base",
            "_view_module_version": "1.2.0",
            "_view_name": "LayoutView",
            "align_content": null,
            "align_items": null,
            "align_self": null,
            "border": null,
            "bottom": null,
            "display": null,
            "flex": null,
            "flex_flow": null,
            "grid_area": null,
            "grid_auto_columns": null,
            "grid_auto_flow": null,
            "grid_auto_rows": null,
            "grid_column": null,
            "grid_gap": null,
            "grid_row": null,
            "grid_template_areas": null,
            "grid_template_columns": null,
            "grid_template_rows": null,
            "height": null,
            "justify_content": null,
            "justify_items": null,
            "left": null,
            "margin": null,
            "max_height": null,
            "max_width": null,
            "min_height": null,
            "min_width": null,
            "object_fit": null,
            "object_position": null,
            "order": null,
            "overflow": null,
            "overflow_x": null,
            "overflow_y": null,
            "padding": null,
            "right": null,
            "top": null,
            "visibility": null,
            "width": null
          }
        },
        "9d1fbd633e7e4be1adda45d7c8304fdf": {
          "model_module": "@jupyter-widgets/controls",
          "model_name": "ProgressStyleModel",
          "model_module_version": "1.5.0",
          "state": {
            "_model_module": "@jupyter-widgets/controls",
            "_model_module_version": "1.5.0",
            "_model_name": "ProgressStyleModel",
            "_view_count": null,
            "_view_module": "@jupyter-widgets/base",
            "_view_module_version": "1.2.0",
            "_view_name": "StyleView",
            "bar_color": null,
            "description_width": ""
          }
        },
        "0af1d518663d4c87b738abc9e87c3220": {
          "model_module": "@jupyter-widgets/base",
          "model_name": "LayoutModel",
          "model_module_version": "1.2.0",
          "state": {
            "_model_module": "@jupyter-widgets/base",
            "_model_module_version": "1.2.0",
            "_model_name": "LayoutModel",
            "_view_count": null,
            "_view_module": "@jupyter-widgets/base",
            "_view_module_version": "1.2.0",
            "_view_name": "LayoutView",
            "align_content": null,
            "align_items": null,
            "align_self": null,
            "border": null,
            "bottom": null,
            "display": null,
            "flex": null,
            "flex_flow": null,
            "grid_area": null,
            "grid_auto_columns": null,
            "grid_auto_flow": null,
            "grid_auto_rows": null,
            "grid_column": null,
            "grid_gap": null,
            "grid_row": null,
            "grid_template_areas": null,
            "grid_template_columns": null,
            "grid_template_rows": null,
            "height": null,
            "justify_content": null,
            "justify_items": null,
            "left": null,
            "margin": null,
            "max_height": null,
            "max_width": null,
            "min_height": null,
            "min_width": null,
            "object_fit": null,
            "object_position": null,
            "order": null,
            "overflow": null,
            "overflow_x": null,
            "overflow_y": null,
            "padding": null,
            "right": null,
            "top": null,
            "visibility": null,
            "width": null
          }
        },
        "33f13f078d4b43bfb41678d541ca967c": {
          "model_module": "@jupyter-widgets/controls",
          "model_name": "DescriptionStyleModel",
          "model_module_version": "1.5.0",
          "state": {
            "_model_module": "@jupyter-widgets/controls",
            "_model_module_version": "1.5.0",
            "_model_name": "DescriptionStyleModel",
            "_view_count": null,
            "_view_module": "@jupyter-widgets/base",
            "_view_module_version": "1.2.0",
            "_view_name": "StyleView",
            "description_width": ""
          }
        },
        "714b5fc96f5c41319784b6cca7b1c5c4": {
          "model_module": "@jupyter-widgets/controls",
          "model_name": "HBoxModel",
          "model_module_version": "1.5.0",
          "state": {
            "_dom_classes": [],
            "_model_module": "@jupyter-widgets/controls",
            "_model_module_version": "1.5.0",
            "_model_name": "HBoxModel",
            "_view_count": null,
            "_view_module": "@jupyter-widgets/controls",
            "_view_module_version": "1.5.0",
            "_view_name": "HBoxView",
            "box_style": "",
            "children": [
              "IPY_MODEL_2362d34320784889baaa50095f1b3163",
              "IPY_MODEL_67ba61e9741940f78594eb15454e6072",
              "IPY_MODEL_34de51856b9f4fe59bde7d2f38ef57d0"
            ],
            "layout": "IPY_MODEL_25d14159adf348299d47e29d7de6c19f"
          }
        },
        "2362d34320784889baaa50095f1b3163": {
          "model_module": "@jupyter-widgets/controls",
          "model_name": "HTMLModel",
          "model_module_version": "1.5.0",
          "state": {
            "_dom_classes": [],
            "_model_module": "@jupyter-widgets/controls",
            "_model_module_version": "1.5.0",
            "_model_name": "HTMLModel",
            "_view_count": null,
            "_view_module": "@jupyter-widgets/controls",
            "_view_module_version": "1.5.0",
            "_view_name": "HTMLView",
            "description": "",
            "description_tooltip": null,
            "layout": "IPY_MODEL_c27a9cd8589e4bc8856ce17efc8fff5d",
            "placeholder": "​",
            "style": "IPY_MODEL_1f2fd74e00da415798b09d7e4d6012a8",
            "value": "special_tokens_map.json: 100%"
          }
        },
        "67ba61e9741940f78594eb15454e6072": {
          "model_module": "@jupyter-widgets/controls",
          "model_name": "FloatProgressModel",
          "model_module_version": "1.5.0",
          "state": {
            "_dom_classes": [],
            "_model_module": "@jupyter-widgets/controls",
            "_model_module_version": "1.5.0",
            "_model_name": "FloatProgressModel",
            "_view_count": null,
            "_view_module": "@jupyter-widgets/controls",
            "_view_module_version": "1.5.0",
            "_view_name": "ProgressView",
            "bar_style": "success",
            "description": "",
            "description_tooltip": null,
            "layout": "IPY_MODEL_5513b57163eb4f038730286be2fbfebe",
            "max": 239,
            "min": 0,
            "orientation": "horizontal",
            "style": "IPY_MODEL_bfc5d58e40254a0fa05eefcb0df1d249",
            "value": 239
          }
        },
        "34de51856b9f4fe59bde7d2f38ef57d0": {
          "model_module": "@jupyter-widgets/controls",
          "model_name": "HTMLModel",
          "model_module_version": "1.5.0",
          "state": {
            "_dom_classes": [],
            "_model_module": "@jupyter-widgets/controls",
            "_model_module_version": "1.5.0",
            "_model_name": "HTMLModel",
            "_view_count": null,
            "_view_module": "@jupyter-widgets/controls",
            "_view_module_version": "1.5.0",
            "_view_name": "HTMLView",
            "description": "",
            "description_tooltip": null,
            "layout": "IPY_MODEL_19dd9e4809684e1c847d639cb7c39aea",
            "placeholder": "​",
            "style": "IPY_MODEL_fcac1239a19945ab9a39f3bfe907fe81",
            "value": " 239/239 [00:00&lt;00:00, 3.88kB/s]"
          }
        },
        "25d14159adf348299d47e29d7de6c19f": {
          "model_module": "@jupyter-widgets/base",
          "model_name": "LayoutModel",
          "model_module_version": "1.2.0",
          "state": {
            "_model_module": "@jupyter-widgets/base",
            "_model_module_version": "1.2.0",
            "_model_name": "LayoutModel",
            "_view_count": null,
            "_view_module": "@jupyter-widgets/base",
            "_view_module_version": "1.2.0",
            "_view_name": "LayoutView",
            "align_content": null,
            "align_items": null,
            "align_self": null,
            "border": null,
            "bottom": null,
            "display": null,
            "flex": null,
            "flex_flow": null,
            "grid_area": null,
            "grid_auto_columns": null,
            "grid_auto_flow": null,
            "grid_auto_rows": null,
            "grid_column": null,
            "grid_gap": null,
            "grid_row": null,
            "grid_template_areas": null,
            "grid_template_columns": null,
            "grid_template_rows": null,
            "height": null,
            "justify_content": null,
            "justify_items": null,
            "left": null,
            "margin": null,
            "max_height": null,
            "max_width": null,
            "min_height": null,
            "min_width": null,
            "object_fit": null,
            "object_position": null,
            "order": null,
            "overflow": null,
            "overflow_x": null,
            "overflow_y": null,
            "padding": null,
            "right": null,
            "top": null,
            "visibility": null,
            "width": null
          }
        },
        "c27a9cd8589e4bc8856ce17efc8fff5d": {
          "model_module": "@jupyter-widgets/base",
          "model_name": "LayoutModel",
          "model_module_version": "1.2.0",
          "state": {
            "_model_module": "@jupyter-widgets/base",
            "_model_module_version": "1.2.0",
            "_model_name": "LayoutModel",
            "_view_count": null,
            "_view_module": "@jupyter-widgets/base",
            "_view_module_version": "1.2.0",
            "_view_name": "LayoutView",
            "align_content": null,
            "align_items": null,
            "align_self": null,
            "border": null,
            "bottom": null,
            "display": null,
            "flex": null,
            "flex_flow": null,
            "grid_area": null,
            "grid_auto_columns": null,
            "grid_auto_flow": null,
            "grid_auto_rows": null,
            "grid_column": null,
            "grid_gap": null,
            "grid_row": null,
            "grid_template_areas": null,
            "grid_template_columns": null,
            "grid_template_rows": null,
            "height": null,
            "justify_content": null,
            "justify_items": null,
            "left": null,
            "margin": null,
            "max_height": null,
            "max_width": null,
            "min_height": null,
            "min_width": null,
            "object_fit": null,
            "object_position": null,
            "order": null,
            "overflow": null,
            "overflow_x": null,
            "overflow_y": null,
            "padding": null,
            "right": null,
            "top": null,
            "visibility": null,
            "width": null
          }
        },
        "1f2fd74e00da415798b09d7e4d6012a8": {
          "model_module": "@jupyter-widgets/controls",
          "model_name": "DescriptionStyleModel",
          "model_module_version": "1.5.0",
          "state": {
            "_model_module": "@jupyter-widgets/controls",
            "_model_module_version": "1.5.0",
            "_model_name": "DescriptionStyleModel",
            "_view_count": null,
            "_view_module": "@jupyter-widgets/base",
            "_view_module_version": "1.2.0",
            "_view_name": "StyleView",
            "description_width": ""
          }
        },
        "5513b57163eb4f038730286be2fbfebe": {
          "model_module": "@jupyter-widgets/base",
          "model_name": "LayoutModel",
          "model_module_version": "1.2.0",
          "state": {
            "_model_module": "@jupyter-widgets/base",
            "_model_module_version": "1.2.0",
            "_model_name": "LayoutModel",
            "_view_count": null,
            "_view_module": "@jupyter-widgets/base",
            "_view_module_version": "1.2.0",
            "_view_name": "LayoutView",
            "align_content": null,
            "align_items": null,
            "align_self": null,
            "border": null,
            "bottom": null,
            "display": null,
            "flex": null,
            "flex_flow": null,
            "grid_area": null,
            "grid_auto_columns": null,
            "grid_auto_flow": null,
            "grid_auto_rows": null,
            "grid_column": null,
            "grid_gap": null,
            "grid_row": null,
            "grid_template_areas": null,
            "grid_template_columns": null,
            "grid_template_rows": null,
            "height": null,
            "justify_content": null,
            "justify_items": null,
            "left": null,
            "margin": null,
            "max_height": null,
            "max_width": null,
            "min_height": null,
            "min_width": null,
            "object_fit": null,
            "object_position": null,
            "order": null,
            "overflow": null,
            "overflow_x": null,
            "overflow_y": null,
            "padding": null,
            "right": null,
            "top": null,
            "visibility": null,
            "width": null
          }
        },
        "bfc5d58e40254a0fa05eefcb0df1d249": {
          "model_module": "@jupyter-widgets/controls",
          "model_name": "ProgressStyleModel",
          "model_module_version": "1.5.0",
          "state": {
            "_model_module": "@jupyter-widgets/controls",
            "_model_module_version": "1.5.0",
            "_model_name": "ProgressStyleModel",
            "_view_count": null,
            "_view_module": "@jupyter-widgets/base",
            "_view_module_version": "1.2.0",
            "_view_name": "StyleView",
            "bar_color": null,
            "description_width": ""
          }
        },
        "19dd9e4809684e1c847d639cb7c39aea": {
          "model_module": "@jupyter-widgets/base",
          "model_name": "LayoutModel",
          "model_module_version": "1.2.0",
          "state": {
            "_model_module": "@jupyter-widgets/base",
            "_model_module_version": "1.2.0",
            "_model_name": "LayoutModel",
            "_view_count": null,
            "_view_module": "@jupyter-widgets/base",
            "_view_module_version": "1.2.0",
            "_view_name": "LayoutView",
            "align_content": null,
            "align_items": null,
            "align_self": null,
            "border": null,
            "bottom": null,
            "display": null,
            "flex": null,
            "flex_flow": null,
            "grid_area": null,
            "grid_auto_columns": null,
            "grid_auto_flow": null,
            "grid_auto_rows": null,
            "grid_column": null,
            "grid_gap": null,
            "grid_row": null,
            "grid_template_areas": null,
            "grid_template_columns": null,
            "grid_template_rows": null,
            "height": null,
            "justify_content": null,
            "justify_items": null,
            "left": null,
            "margin": null,
            "max_height": null,
            "max_width": null,
            "min_height": null,
            "min_width": null,
            "object_fit": null,
            "object_position": null,
            "order": null,
            "overflow": null,
            "overflow_x": null,
            "overflow_y": null,
            "padding": null,
            "right": null,
            "top": null,
            "visibility": null,
            "width": null
          }
        },
        "fcac1239a19945ab9a39f3bfe907fe81": {
          "model_module": "@jupyter-widgets/controls",
          "model_name": "DescriptionStyleModel",
          "model_module_version": "1.5.0",
          "state": {
            "_model_module": "@jupyter-widgets/controls",
            "_model_module_version": "1.5.0",
            "_model_name": "DescriptionStyleModel",
            "_view_count": null,
            "_view_module": "@jupyter-widgets/base",
            "_view_module_version": "1.2.0",
            "_view_name": "StyleView",
            "description_width": ""
          }
        },
        "98154ab9b73042258bc381f8ed1f0294": {
          "model_module": "@jupyter-widgets/controls",
          "model_name": "HBoxModel",
          "model_module_version": "1.5.0",
          "state": {
            "_dom_classes": [],
            "_model_module": "@jupyter-widgets/controls",
            "_model_module_version": "1.5.0",
            "_model_name": "HBoxModel",
            "_view_count": null,
            "_view_module": "@jupyter-widgets/controls",
            "_view_module_version": "1.5.0",
            "_view_name": "HBoxView",
            "box_style": "",
            "children": [
              "IPY_MODEL_00e9b358e06747628cf077b7fca2ee5b",
              "IPY_MODEL_2dddd23a63ff418bb42ac7a5bb44ec35",
              "IPY_MODEL_a866bb44a4824ec1a20046bf2a6359f3"
            ],
            "layout": "IPY_MODEL_bf8e399398794bae9bf5ffa5acbf8b9b"
          }
        },
        "00e9b358e06747628cf077b7fca2ee5b": {
          "model_module": "@jupyter-widgets/controls",
          "model_name": "HTMLModel",
          "model_module_version": "1.5.0",
          "state": {
            "_dom_classes": [],
            "_model_module": "@jupyter-widgets/controls",
            "_model_module_version": "1.5.0",
            "_model_name": "HTMLModel",
            "_view_count": null,
            "_view_module": "@jupyter-widgets/controls",
            "_view_module_version": "1.5.0",
            "_view_name": "HTMLView",
            "description": "",
            "description_tooltip": null,
            "layout": "IPY_MODEL_5d2a19b2332a402abc79c8c06beab7f9",
            "placeholder": "​",
            "style": "IPY_MODEL_264e320572dc4b90b8decf60a81aad49",
            "value": "pytorch_model.bin: 100%"
          }
        },
        "2dddd23a63ff418bb42ac7a5bb44ec35": {
          "model_module": "@jupyter-widgets/controls",
          "model_name": "FloatProgressModel",
          "model_module_version": "1.5.0",
          "state": {
            "_dom_classes": [],
            "_model_module": "@jupyter-widgets/controls",
            "_model_module_version": "1.5.0",
            "_model_name": "FloatProgressModel",
            "_view_count": null,
            "_view_module": "@jupyter-widgets/controls",
            "_view_module_version": "1.5.0",
            "_view_name": "ProgressView",
            "bar_style": "success",
            "description": "",
            "description_tooltip": null,
            "layout": "IPY_MODEL_e346e1a68d29455c8889b091f481f454",
            "max": 362162101,
            "min": 0,
            "orientation": "horizontal",
            "style": "IPY_MODEL_067d5e4ee8f4454f8281bfe1d228725f",
            "value": 362162101
          }
        },
        "a866bb44a4824ec1a20046bf2a6359f3": {
          "model_module": "@jupyter-widgets/controls",
          "model_name": "HTMLModel",
          "model_module_version": "1.5.0",
          "state": {
            "_dom_classes": [],
            "_model_module": "@jupyter-widgets/controls",
            "_model_module_version": "1.5.0",
            "_model_name": "HTMLModel",
            "_view_count": null,
            "_view_module": "@jupyter-widgets/controls",
            "_view_module_version": "1.5.0",
            "_view_name": "HTMLView",
            "description": "",
            "description_tooltip": null,
            "layout": "IPY_MODEL_0596cc16b81144c8a23a10627552f66d",
            "placeholder": "​",
            "style": "IPY_MODEL_d3faa0e434204193b187f79f31d0264c",
            "value": " 362M/362M [00:04&lt;00:00, 72.9MB/s]"
          }
        },
        "bf8e399398794bae9bf5ffa5acbf8b9b": {
          "model_module": "@jupyter-widgets/base",
          "model_name": "LayoutModel",
          "model_module_version": "1.2.0",
          "state": {
            "_model_module": "@jupyter-widgets/base",
            "_model_module_version": "1.2.0",
            "_model_name": "LayoutModel",
            "_view_count": null,
            "_view_module": "@jupyter-widgets/base",
            "_view_module_version": "1.2.0",
            "_view_name": "LayoutView",
            "align_content": null,
            "align_items": null,
            "align_self": null,
            "border": null,
            "bottom": null,
            "display": null,
            "flex": null,
            "flex_flow": null,
            "grid_area": null,
            "grid_auto_columns": null,
            "grid_auto_flow": null,
            "grid_auto_rows": null,
            "grid_column": null,
            "grid_gap": null,
            "grid_row": null,
            "grid_template_areas": null,
            "grid_template_columns": null,
            "grid_template_rows": null,
            "height": null,
            "justify_content": null,
            "justify_items": null,
            "left": null,
            "margin": null,
            "max_height": null,
            "max_width": null,
            "min_height": null,
            "min_width": null,
            "object_fit": null,
            "object_position": null,
            "order": null,
            "overflow": null,
            "overflow_x": null,
            "overflow_y": null,
            "padding": null,
            "right": null,
            "top": null,
            "visibility": null,
            "width": null
          }
        },
        "5d2a19b2332a402abc79c8c06beab7f9": {
          "model_module": "@jupyter-widgets/base",
          "model_name": "LayoutModel",
          "model_module_version": "1.2.0",
          "state": {
            "_model_module": "@jupyter-widgets/base",
            "_model_module_version": "1.2.0",
            "_model_name": "LayoutModel",
            "_view_count": null,
            "_view_module": "@jupyter-widgets/base",
            "_view_module_version": "1.2.0",
            "_view_name": "LayoutView",
            "align_content": null,
            "align_items": null,
            "align_self": null,
            "border": null,
            "bottom": null,
            "display": null,
            "flex": null,
            "flex_flow": null,
            "grid_area": null,
            "grid_auto_columns": null,
            "grid_auto_flow": null,
            "grid_auto_rows": null,
            "grid_column": null,
            "grid_gap": null,
            "grid_row": null,
            "grid_template_areas": null,
            "grid_template_columns": null,
            "grid_template_rows": null,
            "height": null,
            "justify_content": null,
            "justify_items": null,
            "left": null,
            "margin": null,
            "max_height": null,
            "max_width": null,
            "min_height": null,
            "min_width": null,
            "object_fit": null,
            "object_position": null,
            "order": null,
            "overflow": null,
            "overflow_x": null,
            "overflow_y": null,
            "padding": null,
            "right": null,
            "top": null,
            "visibility": null,
            "width": null
          }
        },
        "264e320572dc4b90b8decf60a81aad49": {
          "model_module": "@jupyter-widgets/controls",
          "model_name": "DescriptionStyleModel",
          "model_module_version": "1.5.0",
          "state": {
            "_model_module": "@jupyter-widgets/controls",
            "_model_module_version": "1.5.0",
            "_model_name": "DescriptionStyleModel",
            "_view_count": null,
            "_view_module": "@jupyter-widgets/base",
            "_view_module_version": "1.2.0",
            "_view_name": "StyleView",
            "description_width": ""
          }
        },
        "e346e1a68d29455c8889b091f481f454": {
          "model_module": "@jupyter-widgets/base",
          "model_name": "LayoutModel",
          "model_module_version": "1.2.0",
          "state": {
            "_model_module": "@jupyter-widgets/base",
            "_model_module_version": "1.2.0",
            "_model_name": "LayoutModel",
            "_view_count": null,
            "_view_module": "@jupyter-widgets/base",
            "_view_module_version": "1.2.0",
            "_view_name": "LayoutView",
            "align_content": null,
            "align_items": null,
            "align_self": null,
            "border": null,
            "bottom": null,
            "display": null,
            "flex": null,
            "flex_flow": null,
            "grid_area": null,
            "grid_auto_columns": null,
            "grid_auto_flow": null,
            "grid_auto_rows": null,
            "grid_column": null,
            "grid_gap": null,
            "grid_row": null,
            "grid_template_areas": null,
            "grid_template_columns": null,
            "grid_template_rows": null,
            "height": null,
            "justify_content": null,
            "justify_items": null,
            "left": null,
            "margin": null,
            "max_height": null,
            "max_width": null,
            "min_height": null,
            "min_width": null,
            "object_fit": null,
            "object_position": null,
            "order": null,
            "overflow": null,
            "overflow_x": null,
            "overflow_y": null,
            "padding": null,
            "right": null,
            "top": null,
            "visibility": null,
            "width": null
          }
        },
        "067d5e4ee8f4454f8281bfe1d228725f": {
          "model_module": "@jupyter-widgets/controls",
          "model_name": "ProgressStyleModel",
          "model_module_version": "1.5.0",
          "state": {
            "_model_module": "@jupyter-widgets/controls",
            "_model_module_version": "1.5.0",
            "_model_name": "ProgressStyleModel",
            "_view_count": null,
            "_view_module": "@jupyter-widgets/base",
            "_view_module_version": "1.2.0",
            "_view_name": "StyleView",
            "bar_color": null,
            "description_width": ""
          }
        },
        "0596cc16b81144c8a23a10627552f66d": {
          "model_module": "@jupyter-widgets/base",
          "model_name": "LayoutModel",
          "model_module_version": "1.2.0",
          "state": {
            "_model_module": "@jupyter-widgets/base",
            "_model_module_version": "1.2.0",
            "_model_name": "LayoutModel",
            "_view_count": null,
            "_view_module": "@jupyter-widgets/base",
            "_view_module_version": "1.2.0",
            "_view_name": "LayoutView",
            "align_content": null,
            "align_items": null,
            "align_self": null,
            "border": null,
            "bottom": null,
            "display": null,
            "flex": null,
            "flex_flow": null,
            "grid_area": null,
            "grid_auto_columns": null,
            "grid_auto_flow": null,
            "grid_auto_rows": null,
            "grid_column": null,
            "grid_gap": null,
            "grid_row": null,
            "grid_template_areas": null,
            "grid_template_columns": null,
            "grid_template_rows": null,
            "height": null,
            "justify_content": null,
            "justify_items": null,
            "left": null,
            "margin": null,
            "max_height": null,
            "max_width": null,
            "min_height": null,
            "min_width": null,
            "object_fit": null,
            "object_position": null,
            "order": null,
            "overflow": null,
            "overflow_x": null,
            "overflow_y": null,
            "padding": null,
            "right": null,
            "top": null,
            "visibility": null,
            "width": null
          }
        },
        "d3faa0e434204193b187f79f31d0264c": {
          "model_module": "@jupyter-widgets/controls",
          "model_name": "DescriptionStyleModel",
          "model_module_version": "1.5.0",
          "state": {
            "_model_module": "@jupyter-widgets/controls",
            "_model_module_version": "1.5.0",
            "_model_name": "DescriptionStyleModel",
            "_view_count": null,
            "_view_module": "@jupyter-widgets/base",
            "_view_module_version": "1.2.0",
            "_view_name": "StyleView",
            "description_width": ""
          }
        },
        "f22a92a5f2c74d5ab1dbd74e7d427aea": {
          "model_module": "@jupyter-widgets/controls",
          "model_name": "HBoxModel",
          "model_module_version": "1.5.0",
          "state": {
            "_dom_classes": [],
            "_model_module": "@jupyter-widgets/controls",
            "_model_module_version": "1.5.0",
            "_model_name": "HBoxModel",
            "_view_count": null,
            "_view_module": "@jupyter-widgets/controls",
            "_view_module_version": "1.5.0",
            "_view_name": "HBoxView",
            "box_style": "",
            "children": [
              "IPY_MODEL_2c955c0773f544f2903a1eebc25bfa80",
              "IPY_MODEL_094bb1d830ce434398a989c7617b41c8",
              "IPY_MODEL_56c3f84d8b7e41578f3581e5d95d6f8d"
            ],
            "layout": "IPY_MODEL_d2125834b0d04d8d9273d40ce93d2e9b"
          }
        },
        "2c955c0773f544f2903a1eebc25bfa80": {
          "model_module": "@jupyter-widgets/controls",
          "model_name": "HTMLModel",
          "model_module_version": "1.5.0",
          "state": {
            "_dom_classes": [],
            "_model_module": "@jupyter-widgets/controls",
            "_model_module_version": "1.5.0",
            "_model_name": "HTMLModel",
            "_view_count": null,
            "_view_module": "@jupyter-widgets/controls",
            "_view_module_version": "1.5.0",
            "_view_name": "HTMLView",
            "description": "",
            "description_tooltip": null,
            "layout": "IPY_MODEL_d64c4b5db72941baaee8503efa045cf8",
            "placeholder": "​",
            "style": "IPY_MODEL_aab449f3951b41fb990df72e0e957fb8",
            "value": "Map: 100%"
          }
        },
        "094bb1d830ce434398a989c7617b41c8": {
          "model_module": "@jupyter-widgets/controls",
          "model_name": "FloatProgressModel",
          "model_module_version": "1.5.0",
          "state": {
            "_dom_classes": [],
            "_model_module": "@jupyter-widgets/controls",
            "_model_module_version": "1.5.0",
            "_model_name": "FloatProgressModel",
            "_view_count": null,
            "_view_module": "@jupyter-widgets/controls",
            "_view_module_version": "1.5.0",
            "_view_name": "ProgressView",
            "bar_style": "success",
            "description": "",
            "description_tooltip": null,
            "layout": "IPY_MODEL_7d643a94777a4ffcbaa1f638f70641ec",
            "max": 1,
            "min": 0,
            "orientation": "horizontal",
            "style": "IPY_MODEL_8228bf6561084004a59e9009830449d8",
            "value": 1
          }
        },
        "56c3f84d8b7e41578f3581e5d95d6f8d": {
          "model_module": "@jupyter-widgets/controls",
          "model_name": "HTMLModel",
          "model_module_version": "1.5.0",
          "state": {
            "_dom_classes": [],
            "_model_module": "@jupyter-widgets/controls",
            "_model_module_version": "1.5.0",
            "_model_name": "HTMLModel",
            "_view_count": null,
            "_view_module": "@jupyter-widgets/controls",
            "_view_module_version": "1.5.0",
            "_view_name": "HTMLView",
            "description": "",
            "description_tooltip": null,
            "layout": "IPY_MODEL_76bf78f6bd0646269e5a9e95829563ee",
            "placeholder": "​",
            "style": "IPY_MODEL_ecda058fe58a4119afea62f51f89e118",
            "value": " 1/1 [00:00&lt;00:00,  6.59 examples/s]"
          }
        },
        "d2125834b0d04d8d9273d40ce93d2e9b": {
          "model_module": "@jupyter-widgets/base",
          "model_name": "LayoutModel",
          "model_module_version": "1.2.0",
          "state": {
            "_model_module": "@jupyter-widgets/base",
            "_model_module_version": "1.2.0",
            "_model_name": "LayoutModel",
            "_view_count": null,
            "_view_module": "@jupyter-widgets/base",
            "_view_module_version": "1.2.0",
            "_view_name": "LayoutView",
            "align_content": null,
            "align_items": null,
            "align_self": null,
            "border": null,
            "bottom": null,
            "display": null,
            "flex": null,
            "flex_flow": null,
            "grid_area": null,
            "grid_auto_columns": null,
            "grid_auto_flow": null,
            "grid_auto_rows": null,
            "grid_column": null,
            "grid_gap": null,
            "grid_row": null,
            "grid_template_areas": null,
            "grid_template_columns": null,
            "grid_template_rows": null,
            "height": null,
            "justify_content": null,
            "justify_items": null,
            "left": null,
            "margin": null,
            "max_height": null,
            "max_width": null,
            "min_height": null,
            "min_width": null,
            "object_fit": null,
            "object_position": null,
            "order": null,
            "overflow": null,
            "overflow_x": null,
            "overflow_y": null,
            "padding": null,
            "right": null,
            "top": null,
            "visibility": null,
            "width": null
          }
        },
        "d64c4b5db72941baaee8503efa045cf8": {
          "model_module": "@jupyter-widgets/base",
          "model_name": "LayoutModel",
          "model_module_version": "1.2.0",
          "state": {
            "_model_module": "@jupyter-widgets/base",
            "_model_module_version": "1.2.0",
            "_model_name": "LayoutModel",
            "_view_count": null,
            "_view_module": "@jupyter-widgets/base",
            "_view_module_version": "1.2.0",
            "_view_name": "LayoutView",
            "align_content": null,
            "align_items": null,
            "align_self": null,
            "border": null,
            "bottom": null,
            "display": null,
            "flex": null,
            "flex_flow": null,
            "grid_area": null,
            "grid_auto_columns": null,
            "grid_auto_flow": null,
            "grid_auto_rows": null,
            "grid_column": null,
            "grid_gap": null,
            "grid_row": null,
            "grid_template_areas": null,
            "grid_template_columns": null,
            "grid_template_rows": null,
            "height": null,
            "justify_content": null,
            "justify_items": null,
            "left": null,
            "margin": null,
            "max_height": null,
            "max_width": null,
            "min_height": null,
            "min_width": null,
            "object_fit": null,
            "object_position": null,
            "order": null,
            "overflow": null,
            "overflow_x": null,
            "overflow_y": null,
            "padding": null,
            "right": null,
            "top": null,
            "visibility": null,
            "width": null
          }
        },
        "aab449f3951b41fb990df72e0e957fb8": {
          "model_module": "@jupyter-widgets/controls",
          "model_name": "DescriptionStyleModel",
          "model_module_version": "1.5.0",
          "state": {
            "_model_module": "@jupyter-widgets/controls",
            "_model_module_version": "1.5.0",
            "_model_name": "DescriptionStyleModel",
            "_view_count": null,
            "_view_module": "@jupyter-widgets/base",
            "_view_module_version": "1.2.0",
            "_view_name": "StyleView",
            "description_width": ""
          }
        },
        "7d643a94777a4ffcbaa1f638f70641ec": {
          "model_module": "@jupyter-widgets/base",
          "model_name": "LayoutModel",
          "model_module_version": "1.2.0",
          "state": {
            "_model_module": "@jupyter-widgets/base",
            "_model_module_version": "1.2.0",
            "_model_name": "LayoutModel",
            "_view_count": null,
            "_view_module": "@jupyter-widgets/base",
            "_view_module_version": "1.2.0",
            "_view_name": "LayoutView",
            "align_content": null,
            "align_items": null,
            "align_self": null,
            "border": null,
            "bottom": null,
            "display": null,
            "flex": null,
            "flex_flow": null,
            "grid_area": null,
            "grid_auto_columns": null,
            "grid_auto_flow": null,
            "grid_auto_rows": null,
            "grid_column": null,
            "grid_gap": null,
            "grid_row": null,
            "grid_template_areas": null,
            "grid_template_columns": null,
            "grid_template_rows": null,
            "height": null,
            "justify_content": null,
            "justify_items": null,
            "left": null,
            "margin": null,
            "max_height": null,
            "max_width": null,
            "min_height": null,
            "min_width": null,
            "object_fit": null,
            "object_position": null,
            "order": null,
            "overflow": null,
            "overflow_x": null,
            "overflow_y": null,
            "padding": null,
            "right": null,
            "top": null,
            "visibility": null,
            "width": null
          }
        },
        "8228bf6561084004a59e9009830449d8": {
          "model_module": "@jupyter-widgets/controls",
          "model_name": "ProgressStyleModel",
          "model_module_version": "1.5.0",
          "state": {
            "_model_module": "@jupyter-widgets/controls",
            "_model_module_version": "1.5.0",
            "_model_name": "ProgressStyleModel",
            "_view_count": null,
            "_view_module": "@jupyter-widgets/base",
            "_view_module_version": "1.2.0",
            "_view_name": "StyleView",
            "bar_color": null,
            "description_width": ""
          }
        },
        "76bf78f6bd0646269e5a9e95829563ee": {
          "model_module": "@jupyter-widgets/base",
          "model_name": "LayoutModel",
          "model_module_version": "1.2.0",
          "state": {
            "_model_module": "@jupyter-widgets/base",
            "_model_module_version": "1.2.0",
            "_model_name": "LayoutModel",
            "_view_count": null,
            "_view_module": "@jupyter-widgets/base",
            "_view_module_version": "1.2.0",
            "_view_name": "LayoutView",
            "align_content": null,
            "align_items": null,
            "align_self": null,
            "border": null,
            "bottom": null,
            "display": null,
            "flex": null,
            "flex_flow": null,
            "grid_area": null,
            "grid_auto_columns": null,
            "grid_auto_flow": null,
            "grid_auto_rows": null,
            "grid_column": null,
            "grid_gap": null,
            "grid_row": null,
            "grid_template_areas": null,
            "grid_template_columns": null,
            "grid_template_rows": null,
            "height": null,
            "justify_content": null,
            "justify_items": null,
            "left": null,
            "margin": null,
            "max_height": null,
            "max_width": null,
            "min_height": null,
            "min_width": null,
            "object_fit": null,
            "object_position": null,
            "order": null,
            "overflow": null,
            "overflow_x": null,
            "overflow_y": null,
            "padding": null,
            "right": null,
            "top": null,
            "visibility": null,
            "width": null
          }
        },
        "ecda058fe58a4119afea62f51f89e118": {
          "model_module": "@jupyter-widgets/controls",
          "model_name": "DescriptionStyleModel",
          "model_module_version": "1.5.0",
          "state": {
            "_model_module": "@jupyter-widgets/controls",
            "_model_module_version": "1.5.0",
            "_model_name": "DescriptionStyleModel",
            "_view_count": null,
            "_view_module": "@jupyter-widgets/base",
            "_view_module_version": "1.2.0",
            "_view_name": "StyleView",
            "description_width": ""
          }
        },
        "edd291ae2d3441c09432cbea13d69bd2": {
          "model_module": "@jupyter-widgets/controls",
          "model_name": "HBoxModel",
          "model_module_version": "1.5.0",
          "state": {
            "_dom_classes": [],
            "_model_module": "@jupyter-widgets/controls",
            "_model_module_version": "1.5.0",
            "_model_name": "HBoxModel",
            "_view_count": null,
            "_view_module": "@jupyter-widgets/controls",
            "_view_module_version": "1.5.0",
            "_view_name": "HBoxView",
            "box_style": "",
            "children": [
              "IPY_MODEL_13c8d45e08644e60bb38f0be43580ab4",
              "IPY_MODEL_caf976b4cecc4e5885a87636711287ec",
              "IPY_MODEL_ad483769675a45b19b396d49aef977a6"
            ],
            "layout": "IPY_MODEL_4a0a3103b3564641bf14b1d3062b3ff8"
          }
        },
        "13c8d45e08644e60bb38f0be43580ab4": {
          "model_module": "@jupyter-widgets/controls",
          "model_name": "HTMLModel",
          "model_module_version": "1.5.0",
          "state": {
            "_dom_classes": [],
            "_model_module": "@jupyter-widgets/controls",
            "_model_module_version": "1.5.0",
            "_model_name": "HTMLModel",
            "_view_count": null,
            "_view_module": "@jupyter-widgets/controls",
            "_view_module_version": "1.5.0",
            "_view_name": "HTMLView",
            "description": "",
            "description_tooltip": null,
            "layout": "IPY_MODEL_6d29a484e3684bca890123bd3e3c4578",
            "placeholder": "​",
            "style": "IPY_MODEL_1382a38340924250bffaaafe00904508",
            "value": "Inference: 100%"
          }
        },
        "caf976b4cecc4e5885a87636711287ec": {
          "model_module": "@jupyter-widgets/controls",
          "model_name": "FloatProgressModel",
          "model_module_version": "1.5.0",
          "state": {
            "_dom_classes": [],
            "_model_module": "@jupyter-widgets/controls",
            "_model_module_version": "1.5.0",
            "_model_name": "FloatProgressModel",
            "_view_count": null,
            "_view_module": "@jupyter-widgets/controls",
            "_view_module_version": "1.5.0",
            "_view_name": "ProgressView",
            "bar_style": "success",
            "description": "",
            "description_tooltip": null,
            "layout": "IPY_MODEL_bdc44b8ee50c4379814e4abccf1eb1c8",
            "max": 1,
            "min": 0,
            "orientation": "horizontal",
            "style": "IPY_MODEL_26364d11bfc04576b43e0ac444cd3df3",
            "value": 1
          }
        },
        "ad483769675a45b19b396d49aef977a6": {
          "model_module": "@jupyter-widgets/controls",
          "model_name": "HTMLModel",
          "model_module_version": "1.5.0",
          "state": {
            "_dom_classes": [],
            "_model_module": "@jupyter-widgets/controls",
            "_model_module_version": "1.5.0",
            "_model_name": "HTMLModel",
            "_view_count": null,
            "_view_module": "@jupyter-widgets/controls",
            "_view_module_version": "1.5.0",
            "_view_name": "HTMLView",
            "description": "",
            "description_tooltip": null,
            "layout": "IPY_MODEL_ce283ef8be2d42d3bea2180305b079ee",
            "placeholder": "​",
            "style": "IPY_MODEL_690acd936c9a4728ad912365c9354d63",
            "value": " 1/1 [00:00&lt;00:00,  1.50it/s]"
          }
        },
        "4a0a3103b3564641bf14b1d3062b3ff8": {
          "model_module": "@jupyter-widgets/base",
          "model_name": "LayoutModel",
          "model_module_version": "1.2.0",
          "state": {
            "_model_module": "@jupyter-widgets/base",
            "_model_module_version": "1.2.0",
            "_model_name": "LayoutModel",
            "_view_count": null,
            "_view_module": "@jupyter-widgets/base",
            "_view_module_version": "1.2.0",
            "_view_name": "LayoutView",
            "align_content": null,
            "align_items": null,
            "align_self": null,
            "border": null,
            "bottom": null,
            "display": null,
            "flex": null,
            "flex_flow": null,
            "grid_area": null,
            "grid_auto_columns": null,
            "grid_auto_flow": null,
            "grid_auto_rows": null,
            "grid_column": null,
            "grid_gap": null,
            "grid_row": null,
            "grid_template_areas": null,
            "grid_template_columns": null,
            "grid_template_rows": null,
            "height": null,
            "justify_content": null,
            "justify_items": null,
            "left": null,
            "margin": null,
            "max_height": null,
            "max_width": null,
            "min_height": null,
            "min_width": null,
            "object_fit": null,
            "object_position": null,
            "order": null,
            "overflow": null,
            "overflow_x": null,
            "overflow_y": null,
            "padding": null,
            "right": null,
            "top": null,
            "visibility": null,
            "width": null
          }
        },
        "6d29a484e3684bca890123bd3e3c4578": {
          "model_module": "@jupyter-widgets/base",
          "model_name": "LayoutModel",
          "model_module_version": "1.2.0",
          "state": {
            "_model_module": "@jupyter-widgets/base",
            "_model_module_version": "1.2.0",
            "_model_name": "LayoutModel",
            "_view_count": null,
            "_view_module": "@jupyter-widgets/base",
            "_view_module_version": "1.2.0",
            "_view_name": "LayoutView",
            "align_content": null,
            "align_items": null,
            "align_self": null,
            "border": null,
            "bottom": null,
            "display": null,
            "flex": null,
            "flex_flow": null,
            "grid_area": null,
            "grid_auto_columns": null,
            "grid_auto_flow": null,
            "grid_auto_rows": null,
            "grid_column": null,
            "grid_gap": null,
            "grid_row": null,
            "grid_template_areas": null,
            "grid_template_columns": null,
            "grid_template_rows": null,
            "height": null,
            "justify_content": null,
            "justify_items": null,
            "left": null,
            "margin": null,
            "max_height": null,
            "max_width": null,
            "min_height": null,
            "min_width": null,
            "object_fit": null,
            "object_position": null,
            "order": null,
            "overflow": null,
            "overflow_x": null,
            "overflow_y": null,
            "padding": null,
            "right": null,
            "top": null,
            "visibility": null,
            "width": null
          }
        },
        "1382a38340924250bffaaafe00904508": {
          "model_module": "@jupyter-widgets/controls",
          "model_name": "DescriptionStyleModel",
          "model_module_version": "1.5.0",
          "state": {
            "_model_module": "@jupyter-widgets/controls",
            "_model_module_version": "1.5.0",
            "_model_name": "DescriptionStyleModel",
            "_view_count": null,
            "_view_module": "@jupyter-widgets/base",
            "_view_module_version": "1.2.0",
            "_view_name": "StyleView",
            "description_width": ""
          }
        },
        "bdc44b8ee50c4379814e4abccf1eb1c8": {
          "model_module": "@jupyter-widgets/base",
          "model_name": "LayoutModel",
          "model_module_version": "1.2.0",
          "state": {
            "_model_module": "@jupyter-widgets/base",
            "_model_module_version": "1.2.0",
            "_model_name": "LayoutModel",
            "_view_count": null,
            "_view_module": "@jupyter-widgets/base",
            "_view_module_version": "1.2.0",
            "_view_name": "LayoutView",
            "align_content": null,
            "align_items": null,
            "align_self": null,
            "border": null,
            "bottom": null,
            "display": null,
            "flex": null,
            "flex_flow": null,
            "grid_area": null,
            "grid_auto_columns": null,
            "grid_auto_flow": null,
            "grid_auto_rows": null,
            "grid_column": null,
            "grid_gap": null,
            "grid_row": null,
            "grid_template_areas": null,
            "grid_template_columns": null,
            "grid_template_rows": null,
            "height": null,
            "justify_content": null,
            "justify_items": null,
            "left": null,
            "margin": null,
            "max_height": null,
            "max_width": null,
            "min_height": null,
            "min_width": null,
            "object_fit": null,
            "object_position": null,
            "order": null,
            "overflow": null,
            "overflow_x": null,
            "overflow_y": null,
            "padding": null,
            "right": null,
            "top": null,
            "visibility": null,
            "width": null
          }
        },
        "26364d11bfc04576b43e0ac444cd3df3": {
          "model_module": "@jupyter-widgets/controls",
          "model_name": "ProgressStyleModel",
          "model_module_version": "1.5.0",
          "state": {
            "_model_module": "@jupyter-widgets/controls",
            "_model_module_version": "1.5.0",
            "_model_name": "ProgressStyleModel",
            "_view_count": null,
            "_view_module": "@jupyter-widgets/base",
            "_view_module_version": "1.2.0",
            "_view_name": "StyleView",
            "bar_color": null,
            "description_width": ""
          }
        },
        "ce283ef8be2d42d3bea2180305b079ee": {
          "model_module": "@jupyter-widgets/base",
          "model_name": "LayoutModel",
          "model_module_version": "1.2.0",
          "state": {
            "_model_module": "@jupyter-widgets/base",
            "_model_module_version": "1.2.0",
            "_model_name": "LayoutModel",
            "_view_count": null,
            "_view_module": "@jupyter-widgets/base",
            "_view_module_version": "1.2.0",
            "_view_name": "LayoutView",
            "align_content": null,
            "align_items": null,
            "align_self": null,
            "border": null,
            "bottom": null,
            "display": null,
            "flex": null,
            "flex_flow": null,
            "grid_area": null,
            "grid_auto_columns": null,
            "grid_auto_flow": null,
            "grid_auto_rows": null,
            "grid_column": null,
            "grid_gap": null,
            "grid_row": null,
            "grid_template_areas": null,
            "grid_template_columns": null,
            "grid_template_rows": null,
            "height": null,
            "justify_content": null,
            "justify_items": null,
            "left": null,
            "margin": null,
            "max_height": null,
            "max_width": null,
            "min_height": null,
            "min_width": null,
            "object_fit": null,
            "object_position": null,
            "order": null,
            "overflow": null,
            "overflow_x": null,
            "overflow_y": null,
            "padding": null,
            "right": null,
            "top": null,
            "visibility": null,
            "width": null
          }
        },
        "690acd936c9a4728ad912365c9354d63": {
          "model_module": "@jupyter-widgets/controls",
          "model_name": "DescriptionStyleModel",
          "model_module_version": "1.5.0",
          "state": {
            "_model_module": "@jupyter-widgets/controls",
            "_model_module_version": "1.5.0",
            "_model_name": "DescriptionStyleModel",
            "_view_count": null,
            "_view_module": "@jupyter-widgets/base",
            "_view_module_version": "1.2.0",
            "_view_name": "StyleView",
            "description_width": ""
          }
        },
        "4bdb140b18054b1d9f92b55ba1e7a58c": {
          "model_module": "@jupyter-widgets/controls",
          "model_name": "HBoxModel",
          "model_module_version": "1.5.0",
          "state": {
            "_dom_classes": [],
            "_model_module": "@jupyter-widgets/controls",
            "_model_module_version": "1.5.0",
            "_model_name": "HBoxModel",
            "_view_count": null,
            "_view_module": "@jupyter-widgets/controls",
            "_view_module_version": "1.5.0",
            "_view_name": "HBoxView",
            "box_style": "",
            "children": [
              "IPY_MODEL_d434fff30a9a4bdc854a5d7f6c76b5fa",
              "IPY_MODEL_231fe47452364fd9a01256d1ae678c71",
              "IPY_MODEL_a4f03f8a65cc4615a5d158cfd9b9a649"
            ],
            "layout": "IPY_MODEL_627f9f8a424a4d9ead414f9517552269"
          }
        },
        "d434fff30a9a4bdc854a5d7f6c76b5fa": {
          "model_module": "@jupyter-widgets/controls",
          "model_name": "HTMLModel",
          "model_module_version": "1.5.0",
          "state": {
            "_dom_classes": [],
            "_model_module": "@jupyter-widgets/controls",
            "_model_module_version": "1.5.0",
            "_model_name": "HTMLModel",
            "_view_count": null,
            "_view_module": "@jupyter-widgets/controls",
            "_view_module_version": "1.5.0",
            "_view_name": "HTMLView",
            "description": "",
            "description_tooltip": null,
            "layout": "IPY_MODEL_746b99b465b54396bd5fb151059acbb2",
            "placeholder": "​",
            "style": "IPY_MODEL_519ab71bc3c74c6497963df64f694635",
            "value": "config.json: 100%"
          }
        },
        "231fe47452364fd9a01256d1ae678c71": {
          "model_module": "@jupyter-widgets/controls",
          "model_name": "FloatProgressModel",
          "model_module_version": "1.5.0",
          "state": {
            "_dom_classes": [],
            "_model_module": "@jupyter-widgets/controls",
            "_model_module_version": "1.5.0",
            "_model_name": "FloatProgressModel",
            "_view_count": null,
            "_view_module": "@jupyter-widgets/controls",
            "_view_module_version": "1.5.0",
            "_view_name": "ProgressView",
            "bar_style": "success",
            "description": "",
            "description_tooltip": null,
            "layout": "IPY_MODEL_ec67a582a84f49a88a102c534df4412b",
            "max": 1208,
            "min": 0,
            "orientation": "horizontal",
            "style": "IPY_MODEL_b9c7c32fad23490bb724f599db74517c",
            "value": 1208
          }
        },
        "a4f03f8a65cc4615a5d158cfd9b9a649": {
          "model_module": "@jupyter-widgets/controls",
          "model_name": "HTMLModel",
          "model_module_version": "1.5.0",
          "state": {
            "_dom_classes": [],
            "_model_module": "@jupyter-widgets/controls",
            "_model_module_version": "1.5.0",
            "_model_name": "HTMLModel",
            "_view_count": null,
            "_view_module": "@jupyter-widgets/controls",
            "_view_module_version": "1.5.0",
            "_view_name": "HTMLView",
            "description": "",
            "description_tooltip": null,
            "layout": "IPY_MODEL_0ff5c03f4a12412e9ce87b7a1e5ea418",
            "placeholder": "​",
            "style": "IPY_MODEL_4c43affb03dc4693be2df277f223565c",
            "value": " 1.21k/1.21k [00:00&lt;00:00, 84.2kB/s]"
          }
        },
        "627f9f8a424a4d9ead414f9517552269": {
          "model_module": "@jupyter-widgets/base",
          "model_name": "LayoutModel",
          "model_module_version": "1.2.0",
          "state": {
            "_model_module": "@jupyter-widgets/base",
            "_model_module_version": "1.2.0",
            "_model_name": "LayoutModel",
            "_view_count": null,
            "_view_module": "@jupyter-widgets/base",
            "_view_module_version": "1.2.0",
            "_view_name": "LayoutView",
            "align_content": null,
            "align_items": null,
            "align_self": null,
            "border": null,
            "bottom": null,
            "display": null,
            "flex": null,
            "flex_flow": null,
            "grid_area": null,
            "grid_auto_columns": null,
            "grid_auto_flow": null,
            "grid_auto_rows": null,
            "grid_column": null,
            "grid_gap": null,
            "grid_row": null,
            "grid_template_areas": null,
            "grid_template_columns": null,
            "grid_template_rows": null,
            "height": null,
            "justify_content": null,
            "justify_items": null,
            "left": null,
            "margin": null,
            "max_height": null,
            "max_width": null,
            "min_height": null,
            "min_width": null,
            "object_fit": null,
            "object_position": null,
            "order": null,
            "overflow": null,
            "overflow_x": null,
            "overflow_y": null,
            "padding": null,
            "right": null,
            "top": null,
            "visibility": null,
            "width": null
          }
        },
        "746b99b465b54396bd5fb151059acbb2": {
          "model_module": "@jupyter-widgets/base",
          "model_name": "LayoutModel",
          "model_module_version": "1.2.0",
          "state": {
            "_model_module": "@jupyter-widgets/base",
            "_model_module_version": "1.2.0",
            "_model_name": "LayoutModel",
            "_view_count": null,
            "_view_module": "@jupyter-widgets/base",
            "_view_module_version": "1.2.0",
            "_view_name": "LayoutView",
            "align_content": null,
            "align_items": null,
            "align_self": null,
            "border": null,
            "bottom": null,
            "display": null,
            "flex": null,
            "flex_flow": null,
            "grid_area": null,
            "grid_auto_columns": null,
            "grid_auto_flow": null,
            "grid_auto_rows": null,
            "grid_column": null,
            "grid_gap": null,
            "grid_row": null,
            "grid_template_areas": null,
            "grid_template_columns": null,
            "grid_template_rows": null,
            "height": null,
            "justify_content": null,
            "justify_items": null,
            "left": null,
            "margin": null,
            "max_height": null,
            "max_width": null,
            "min_height": null,
            "min_width": null,
            "object_fit": null,
            "object_position": null,
            "order": null,
            "overflow": null,
            "overflow_x": null,
            "overflow_y": null,
            "padding": null,
            "right": null,
            "top": null,
            "visibility": null,
            "width": null
          }
        },
        "519ab71bc3c74c6497963df64f694635": {
          "model_module": "@jupyter-widgets/controls",
          "model_name": "DescriptionStyleModel",
          "model_module_version": "1.5.0",
          "state": {
            "_model_module": "@jupyter-widgets/controls",
            "_model_module_version": "1.5.0",
            "_model_name": "DescriptionStyleModel",
            "_view_count": null,
            "_view_module": "@jupyter-widgets/base",
            "_view_module_version": "1.2.0",
            "_view_name": "StyleView",
            "description_width": ""
          }
        },
        "ec67a582a84f49a88a102c534df4412b": {
          "model_module": "@jupyter-widgets/base",
          "model_name": "LayoutModel",
          "model_module_version": "1.2.0",
          "state": {
            "_model_module": "@jupyter-widgets/base",
            "_model_module_version": "1.2.0",
            "_model_name": "LayoutModel",
            "_view_count": null,
            "_view_module": "@jupyter-widgets/base",
            "_view_module_version": "1.2.0",
            "_view_name": "LayoutView",
            "align_content": null,
            "align_items": null,
            "align_self": null,
            "border": null,
            "bottom": null,
            "display": null,
            "flex": null,
            "flex_flow": null,
            "grid_area": null,
            "grid_auto_columns": null,
            "grid_auto_flow": null,
            "grid_auto_rows": null,
            "grid_column": null,
            "grid_gap": null,
            "grid_row": null,
            "grid_template_areas": null,
            "grid_template_columns": null,
            "grid_template_rows": null,
            "height": null,
            "justify_content": null,
            "justify_items": null,
            "left": null,
            "margin": null,
            "max_height": null,
            "max_width": null,
            "min_height": null,
            "min_width": null,
            "object_fit": null,
            "object_position": null,
            "order": null,
            "overflow": null,
            "overflow_x": null,
            "overflow_y": null,
            "padding": null,
            "right": null,
            "top": null,
            "visibility": null,
            "width": null
          }
        },
        "b9c7c32fad23490bb724f599db74517c": {
          "model_module": "@jupyter-widgets/controls",
          "model_name": "ProgressStyleModel",
          "model_module_version": "1.5.0",
          "state": {
            "_model_module": "@jupyter-widgets/controls",
            "_model_module_version": "1.5.0",
            "_model_name": "ProgressStyleModel",
            "_view_count": null,
            "_view_module": "@jupyter-widgets/base",
            "_view_module_version": "1.2.0",
            "_view_name": "StyleView",
            "bar_color": null,
            "description_width": ""
          }
        },
        "0ff5c03f4a12412e9ce87b7a1e5ea418": {
          "model_module": "@jupyter-widgets/base",
          "model_name": "LayoutModel",
          "model_module_version": "1.2.0",
          "state": {
            "_model_module": "@jupyter-widgets/base",
            "_model_module_version": "1.2.0",
            "_model_name": "LayoutModel",
            "_view_count": null,
            "_view_module": "@jupyter-widgets/base",
            "_view_module_version": "1.2.0",
            "_view_name": "LayoutView",
            "align_content": null,
            "align_items": null,
            "align_self": null,
            "border": null,
            "bottom": null,
            "display": null,
            "flex": null,
            "flex_flow": null,
            "grid_area": null,
            "grid_auto_columns": null,
            "grid_auto_flow": null,
            "grid_auto_rows": null,
            "grid_column": null,
            "grid_gap": null,
            "grid_row": null,
            "grid_template_areas": null,
            "grid_template_columns": null,
            "grid_template_rows": null,
            "height": null,
            "justify_content": null,
            "justify_items": null,
            "left": null,
            "margin": null,
            "max_height": null,
            "max_width": null,
            "min_height": null,
            "min_width": null,
            "object_fit": null,
            "object_position": null,
            "order": null,
            "overflow": null,
            "overflow_x": null,
            "overflow_y": null,
            "padding": null,
            "right": null,
            "top": null,
            "visibility": null,
            "width": null
          }
        },
        "4c43affb03dc4693be2df277f223565c": {
          "model_module": "@jupyter-widgets/controls",
          "model_name": "DescriptionStyleModel",
          "model_module_version": "1.5.0",
          "state": {
            "_model_module": "@jupyter-widgets/controls",
            "_model_module_version": "1.5.0",
            "_model_name": "DescriptionStyleModel",
            "_view_count": null,
            "_view_module": "@jupyter-widgets/base",
            "_view_module_version": "1.2.0",
            "_view_name": "StyleView",
            "description_width": ""
          }
        },
        "39db9b7b69b840a9a656f247ed8d433f": {
          "model_module": "@jupyter-widgets/controls",
          "model_name": "HBoxModel",
          "model_module_version": "1.5.0",
          "state": {
            "_dom_classes": [],
            "_model_module": "@jupyter-widgets/controls",
            "_model_module_version": "1.5.0",
            "_model_name": "HBoxModel",
            "_view_count": null,
            "_view_module": "@jupyter-widgets/controls",
            "_view_module_version": "1.5.0",
            "_view_name": "HBoxView",
            "box_style": "",
            "children": [
              "IPY_MODEL_ca9d6a5e6f6746c0823c048a40cdc028",
              "IPY_MODEL_4f8410a2ba614e348dd925f5ac2a3704",
              "IPY_MODEL_5d86860043a747699008cd8457a0ecc7"
            ],
            "layout": "IPY_MODEL_96d442e88dbc433e87f7e910c3ce3f48"
          }
        },
        "ca9d6a5e6f6746c0823c048a40cdc028": {
          "model_module": "@jupyter-widgets/controls",
          "model_name": "HTMLModel",
          "model_module_version": "1.5.0",
          "state": {
            "_dom_classes": [],
            "_model_module": "@jupyter-widgets/controls",
            "_model_module_version": "1.5.0",
            "_model_name": "HTMLModel",
            "_view_count": null,
            "_view_module": "@jupyter-widgets/controls",
            "_view_module_version": "1.5.0",
            "_view_name": "HTMLView",
            "description": "",
            "description_tooltip": null,
            "layout": "IPY_MODEL_821e33efc0ea4c98b45f243b421c6b0d",
            "placeholder": "​",
            "style": "IPY_MODEL_00f3ad8440614d7792bbadc80cf3833d",
            "value": "model.safetensors: 100%"
          }
        },
        "4f8410a2ba614e348dd925f5ac2a3704": {
          "model_module": "@jupyter-widgets/controls",
          "model_name": "FloatProgressModel",
          "model_module_version": "1.5.0",
          "state": {
            "_dom_classes": [],
            "_model_module": "@jupyter-widgets/controls",
            "_model_module_version": "1.5.0",
            "_model_name": "FloatProgressModel",
            "_view_count": null,
            "_view_module": "@jupyter-widgets/controls",
            "_view_module_version": "1.5.0",
            "_view_name": "ProgressView",
            "bar_style": "success",
            "description": "",
            "description_tooltip": null,
            "layout": "IPY_MODEL_6c241a53d7b0484c86e30d03b284b1dc",
            "max": 891646390,
            "min": 0,
            "orientation": "horizontal",
            "style": "IPY_MODEL_d88d5a24be564c0c80e165b10cfbf911",
            "value": 891646390
          }
        },
        "5d86860043a747699008cd8457a0ecc7": {
          "model_module": "@jupyter-widgets/controls",
          "model_name": "HTMLModel",
          "model_module_version": "1.5.0",
          "state": {
            "_dom_classes": [],
            "_model_module": "@jupyter-widgets/controls",
            "_model_module_version": "1.5.0",
            "_model_name": "HTMLModel",
            "_view_count": null,
            "_view_module": "@jupyter-widgets/controls",
            "_view_module_version": "1.5.0",
            "_view_name": "HTMLView",
            "description": "",
            "description_tooltip": null,
            "layout": "IPY_MODEL_677438ec6704476dab300f0c7a211e44",
            "placeholder": "​",
            "style": "IPY_MODEL_3981337c191f49dabd985a2448d630c7",
            "value": " 892M/892M [00:06&lt;00:00, 125MB/s]"
          }
        },
        "96d442e88dbc433e87f7e910c3ce3f48": {
          "model_module": "@jupyter-widgets/base",
          "model_name": "LayoutModel",
          "model_module_version": "1.2.0",
          "state": {
            "_model_module": "@jupyter-widgets/base",
            "_model_module_version": "1.2.0",
            "_model_name": "LayoutModel",
            "_view_count": null,
            "_view_module": "@jupyter-widgets/base",
            "_view_module_version": "1.2.0",
            "_view_name": "LayoutView",
            "align_content": null,
            "align_items": null,
            "align_self": null,
            "border": null,
            "bottom": null,
            "display": null,
            "flex": null,
            "flex_flow": null,
            "grid_area": null,
            "grid_auto_columns": null,
            "grid_auto_flow": null,
            "grid_auto_rows": null,
            "grid_column": null,
            "grid_gap": null,
            "grid_row": null,
            "grid_template_areas": null,
            "grid_template_columns": null,
            "grid_template_rows": null,
            "height": null,
            "justify_content": null,
            "justify_items": null,
            "left": null,
            "margin": null,
            "max_height": null,
            "max_width": null,
            "min_height": null,
            "min_width": null,
            "object_fit": null,
            "object_position": null,
            "order": null,
            "overflow": null,
            "overflow_x": null,
            "overflow_y": null,
            "padding": null,
            "right": null,
            "top": null,
            "visibility": null,
            "width": null
          }
        },
        "821e33efc0ea4c98b45f243b421c6b0d": {
          "model_module": "@jupyter-widgets/base",
          "model_name": "LayoutModel",
          "model_module_version": "1.2.0",
          "state": {
            "_model_module": "@jupyter-widgets/base",
            "_model_module_version": "1.2.0",
            "_model_name": "LayoutModel",
            "_view_count": null,
            "_view_module": "@jupyter-widgets/base",
            "_view_module_version": "1.2.0",
            "_view_name": "LayoutView",
            "align_content": null,
            "align_items": null,
            "align_self": null,
            "border": null,
            "bottom": null,
            "display": null,
            "flex": null,
            "flex_flow": null,
            "grid_area": null,
            "grid_auto_columns": null,
            "grid_auto_flow": null,
            "grid_auto_rows": null,
            "grid_column": null,
            "grid_gap": null,
            "grid_row": null,
            "grid_template_areas": null,
            "grid_template_columns": null,
            "grid_template_rows": null,
            "height": null,
            "justify_content": null,
            "justify_items": null,
            "left": null,
            "margin": null,
            "max_height": null,
            "max_width": null,
            "min_height": null,
            "min_width": null,
            "object_fit": null,
            "object_position": null,
            "order": null,
            "overflow": null,
            "overflow_x": null,
            "overflow_y": null,
            "padding": null,
            "right": null,
            "top": null,
            "visibility": null,
            "width": null
          }
        },
        "00f3ad8440614d7792bbadc80cf3833d": {
          "model_module": "@jupyter-widgets/controls",
          "model_name": "DescriptionStyleModel",
          "model_module_version": "1.5.0",
          "state": {
            "_model_module": "@jupyter-widgets/controls",
            "_model_module_version": "1.5.0",
            "_model_name": "DescriptionStyleModel",
            "_view_count": null,
            "_view_module": "@jupyter-widgets/base",
            "_view_module_version": "1.2.0",
            "_view_name": "StyleView",
            "description_width": ""
          }
        },
        "6c241a53d7b0484c86e30d03b284b1dc": {
          "model_module": "@jupyter-widgets/base",
          "model_name": "LayoutModel",
          "model_module_version": "1.2.0",
          "state": {
            "_model_module": "@jupyter-widgets/base",
            "_model_module_version": "1.2.0",
            "_model_name": "LayoutModel",
            "_view_count": null,
            "_view_module": "@jupyter-widgets/base",
            "_view_module_version": "1.2.0",
            "_view_name": "LayoutView",
            "align_content": null,
            "align_items": null,
            "align_self": null,
            "border": null,
            "bottom": null,
            "display": null,
            "flex": null,
            "flex_flow": null,
            "grid_area": null,
            "grid_auto_columns": null,
            "grid_auto_flow": null,
            "grid_auto_rows": null,
            "grid_column": null,
            "grid_gap": null,
            "grid_row": null,
            "grid_template_areas": null,
            "grid_template_columns": null,
            "grid_template_rows": null,
            "height": null,
            "justify_content": null,
            "justify_items": null,
            "left": null,
            "margin": null,
            "max_height": null,
            "max_width": null,
            "min_height": null,
            "min_width": null,
            "object_fit": null,
            "object_position": null,
            "order": null,
            "overflow": null,
            "overflow_x": null,
            "overflow_y": null,
            "padding": null,
            "right": null,
            "top": null,
            "visibility": null,
            "width": null
          }
        },
        "d88d5a24be564c0c80e165b10cfbf911": {
          "model_module": "@jupyter-widgets/controls",
          "model_name": "ProgressStyleModel",
          "model_module_version": "1.5.0",
          "state": {
            "_model_module": "@jupyter-widgets/controls",
            "_model_module_version": "1.5.0",
            "_model_name": "ProgressStyleModel",
            "_view_count": null,
            "_view_module": "@jupyter-widgets/base",
            "_view_module_version": "1.2.0",
            "_view_name": "StyleView",
            "bar_color": null,
            "description_width": ""
          }
        },
        "677438ec6704476dab300f0c7a211e44": {
          "model_module": "@jupyter-widgets/base",
          "model_name": "LayoutModel",
          "model_module_version": "1.2.0",
          "state": {
            "_model_module": "@jupyter-widgets/base",
            "_model_module_version": "1.2.0",
            "_model_name": "LayoutModel",
            "_view_count": null,
            "_view_module": "@jupyter-widgets/base",
            "_view_module_version": "1.2.0",
            "_view_name": "LayoutView",
            "align_content": null,
            "align_items": null,
            "align_self": null,
            "border": null,
            "bottom": null,
            "display": null,
            "flex": null,
            "flex_flow": null,
            "grid_area": null,
            "grid_auto_columns": null,
            "grid_auto_flow": null,
            "grid_auto_rows": null,
            "grid_column": null,
            "grid_gap": null,
            "grid_row": null,
            "grid_template_areas": null,
            "grid_template_columns": null,
            "grid_template_rows": null,
            "height": null,
            "justify_content": null,
            "justify_items": null,
            "left": null,
            "margin": null,
            "max_height": null,
            "max_width": null,
            "min_height": null,
            "min_width": null,
            "object_fit": null,
            "object_position": null,
            "order": null,
            "overflow": null,
            "overflow_x": null,
            "overflow_y": null,
            "padding": null,
            "right": null,
            "top": null,
            "visibility": null,
            "width": null
          }
        },
        "3981337c191f49dabd985a2448d630c7": {
          "model_module": "@jupyter-widgets/controls",
          "model_name": "DescriptionStyleModel",
          "model_module_version": "1.5.0",
          "state": {
            "_model_module": "@jupyter-widgets/controls",
            "_model_module_version": "1.5.0",
            "_model_name": "DescriptionStyleModel",
            "_view_count": null,
            "_view_module": "@jupyter-widgets/base",
            "_view_module_version": "1.2.0",
            "_view_name": "StyleView",
            "description_width": ""
          }
        },
        "c2297945eb5f48f79d31c4affd356416": {
          "model_module": "@jupyter-widgets/controls",
          "model_name": "HBoxModel",
          "model_module_version": "1.5.0",
          "state": {
            "_dom_classes": [],
            "_model_module": "@jupyter-widgets/controls",
            "_model_module_version": "1.5.0",
            "_model_name": "HBoxModel",
            "_view_count": null,
            "_view_module": "@jupyter-widgets/controls",
            "_view_module_version": "1.5.0",
            "_view_name": "HBoxView",
            "box_style": "",
            "children": [
              "IPY_MODEL_63c0498971574015953afa33b614ddf4",
              "IPY_MODEL_62fcfbd93f2b43d69306434f846ad8ce",
              "IPY_MODEL_459692f5c06845ba9991b5f9643d6ae9"
            ],
            "layout": "IPY_MODEL_ece95d2030e048b98bdf0a7bde0b2539"
          }
        },
        "63c0498971574015953afa33b614ddf4": {
          "model_module": "@jupyter-widgets/controls",
          "model_name": "HTMLModel",
          "model_module_version": "1.5.0",
          "state": {
            "_dom_classes": [],
            "_model_module": "@jupyter-widgets/controls",
            "_model_module_version": "1.5.0",
            "_model_name": "HTMLModel",
            "_view_count": null,
            "_view_module": "@jupyter-widgets/controls",
            "_view_module_version": "1.5.0",
            "_view_name": "HTMLView",
            "description": "",
            "description_tooltip": null,
            "layout": "IPY_MODEL_ffe3c5e43bbd4d0292273c76ce035083",
            "placeholder": "​",
            "style": "IPY_MODEL_2dbb10ccd19f4c2b8c67ef04cdcedbb8",
            "value": "generation_config.json: 100%"
          }
        },
        "62fcfbd93f2b43d69306434f846ad8ce": {
          "model_module": "@jupyter-widgets/controls",
          "model_name": "FloatProgressModel",
          "model_module_version": "1.5.0",
          "state": {
            "_dom_classes": [],
            "_model_module": "@jupyter-widgets/controls",
            "_model_module_version": "1.5.0",
            "_model_name": "FloatProgressModel",
            "_view_count": null,
            "_view_module": "@jupyter-widgets/controls",
            "_view_module_version": "1.5.0",
            "_view_name": "ProgressView",
            "bar_style": "success",
            "description": "",
            "description_tooltip": null,
            "layout": "IPY_MODEL_889c9f97515e40818cd8f3b473b670b9",
            "max": 147,
            "min": 0,
            "orientation": "horizontal",
            "style": "IPY_MODEL_b4c10920e5294a648d99346131915306",
            "value": 147
          }
        },
        "459692f5c06845ba9991b5f9643d6ae9": {
          "model_module": "@jupyter-widgets/controls",
          "model_name": "HTMLModel",
          "model_module_version": "1.5.0",
          "state": {
            "_dom_classes": [],
            "_model_module": "@jupyter-widgets/controls",
            "_model_module_version": "1.5.0",
            "_model_name": "HTMLModel",
            "_view_count": null,
            "_view_module": "@jupyter-widgets/controls",
            "_view_module_version": "1.5.0",
            "_view_name": "HTMLView",
            "description": "",
            "description_tooltip": null,
            "layout": "IPY_MODEL_7d631a96043e4aedb1c3bf7e095cc81d",
            "placeholder": "​",
            "style": "IPY_MODEL_76d8a8a4b70b4f0188707b45468563c5",
            "value": " 147/147 [00:00&lt;00:00, 7.66kB/s]"
          }
        },
        "ece95d2030e048b98bdf0a7bde0b2539": {
          "model_module": "@jupyter-widgets/base",
          "model_name": "LayoutModel",
          "model_module_version": "1.2.0",
          "state": {
            "_model_module": "@jupyter-widgets/base",
            "_model_module_version": "1.2.0",
            "_model_name": "LayoutModel",
            "_view_count": null,
            "_view_module": "@jupyter-widgets/base",
            "_view_module_version": "1.2.0",
            "_view_name": "LayoutView",
            "align_content": null,
            "align_items": null,
            "align_self": null,
            "border": null,
            "bottom": null,
            "display": null,
            "flex": null,
            "flex_flow": null,
            "grid_area": null,
            "grid_auto_columns": null,
            "grid_auto_flow": null,
            "grid_auto_rows": null,
            "grid_column": null,
            "grid_gap": null,
            "grid_row": null,
            "grid_template_areas": null,
            "grid_template_columns": null,
            "grid_template_rows": null,
            "height": null,
            "justify_content": null,
            "justify_items": null,
            "left": null,
            "margin": null,
            "max_height": null,
            "max_width": null,
            "min_height": null,
            "min_width": null,
            "object_fit": null,
            "object_position": null,
            "order": null,
            "overflow": null,
            "overflow_x": null,
            "overflow_y": null,
            "padding": null,
            "right": null,
            "top": null,
            "visibility": null,
            "width": null
          }
        },
        "ffe3c5e43bbd4d0292273c76ce035083": {
          "model_module": "@jupyter-widgets/base",
          "model_name": "LayoutModel",
          "model_module_version": "1.2.0",
          "state": {
            "_model_module": "@jupyter-widgets/base",
            "_model_module_version": "1.2.0",
            "_model_name": "LayoutModel",
            "_view_count": null,
            "_view_module": "@jupyter-widgets/base",
            "_view_module_version": "1.2.0",
            "_view_name": "LayoutView",
            "align_content": null,
            "align_items": null,
            "align_self": null,
            "border": null,
            "bottom": null,
            "display": null,
            "flex": null,
            "flex_flow": null,
            "grid_area": null,
            "grid_auto_columns": null,
            "grid_auto_flow": null,
            "grid_auto_rows": null,
            "grid_column": null,
            "grid_gap": null,
            "grid_row": null,
            "grid_template_areas": null,
            "grid_template_columns": null,
            "grid_template_rows": null,
            "height": null,
            "justify_content": null,
            "justify_items": null,
            "left": null,
            "margin": null,
            "max_height": null,
            "max_width": null,
            "min_height": null,
            "min_width": null,
            "object_fit": null,
            "object_position": null,
            "order": null,
            "overflow": null,
            "overflow_x": null,
            "overflow_y": null,
            "padding": null,
            "right": null,
            "top": null,
            "visibility": null,
            "width": null
          }
        },
        "2dbb10ccd19f4c2b8c67ef04cdcedbb8": {
          "model_module": "@jupyter-widgets/controls",
          "model_name": "DescriptionStyleModel",
          "model_module_version": "1.5.0",
          "state": {
            "_model_module": "@jupyter-widgets/controls",
            "_model_module_version": "1.5.0",
            "_model_name": "DescriptionStyleModel",
            "_view_count": null,
            "_view_module": "@jupyter-widgets/base",
            "_view_module_version": "1.2.0",
            "_view_name": "StyleView",
            "description_width": ""
          }
        },
        "889c9f97515e40818cd8f3b473b670b9": {
          "model_module": "@jupyter-widgets/base",
          "model_name": "LayoutModel",
          "model_module_version": "1.2.0",
          "state": {
            "_model_module": "@jupyter-widgets/base",
            "_model_module_version": "1.2.0",
            "_model_name": "LayoutModel",
            "_view_count": null,
            "_view_module": "@jupyter-widgets/base",
            "_view_module_version": "1.2.0",
            "_view_name": "LayoutView",
            "align_content": null,
            "align_items": null,
            "align_self": null,
            "border": null,
            "bottom": null,
            "display": null,
            "flex": null,
            "flex_flow": null,
            "grid_area": null,
            "grid_auto_columns": null,
            "grid_auto_flow": null,
            "grid_auto_rows": null,
            "grid_column": null,
            "grid_gap": null,
            "grid_row": null,
            "grid_template_areas": null,
            "grid_template_columns": null,
            "grid_template_rows": null,
            "height": null,
            "justify_content": null,
            "justify_items": null,
            "left": null,
            "margin": null,
            "max_height": null,
            "max_width": null,
            "min_height": null,
            "min_width": null,
            "object_fit": null,
            "object_position": null,
            "order": null,
            "overflow": null,
            "overflow_x": null,
            "overflow_y": null,
            "padding": null,
            "right": null,
            "top": null,
            "visibility": null,
            "width": null
          }
        },
        "b4c10920e5294a648d99346131915306": {
          "model_module": "@jupyter-widgets/controls",
          "model_name": "ProgressStyleModel",
          "model_module_version": "1.5.0",
          "state": {
            "_model_module": "@jupyter-widgets/controls",
            "_model_module_version": "1.5.0",
            "_model_name": "ProgressStyleModel",
            "_view_count": null,
            "_view_module": "@jupyter-widgets/base",
            "_view_module_version": "1.2.0",
            "_view_name": "StyleView",
            "bar_color": null,
            "description_width": ""
          }
        },
        "7d631a96043e4aedb1c3bf7e095cc81d": {
          "model_module": "@jupyter-widgets/base",
          "model_name": "LayoutModel",
          "model_module_version": "1.2.0",
          "state": {
            "_model_module": "@jupyter-widgets/base",
            "_model_module_version": "1.2.0",
            "_model_name": "LayoutModel",
            "_view_count": null,
            "_view_module": "@jupyter-widgets/base",
            "_view_module_version": "1.2.0",
            "_view_name": "LayoutView",
            "align_content": null,
            "align_items": null,
            "align_self": null,
            "border": null,
            "bottom": null,
            "display": null,
            "flex": null,
            "flex_flow": null,
            "grid_area": null,
            "grid_auto_columns": null,
            "grid_auto_flow": null,
            "grid_auto_rows": null,
            "grid_column": null,
            "grid_gap": null,
            "grid_row": null,
            "grid_template_areas": null,
            "grid_template_columns": null,
            "grid_template_rows": null,
            "height": null,
            "justify_content": null,
            "justify_items": null,
            "left": null,
            "margin": null,
            "max_height": null,
            "max_width": null,
            "min_height": null,
            "min_width": null,
            "object_fit": null,
            "object_position": null,
            "order": null,
            "overflow": null,
            "overflow_x": null,
            "overflow_y": null,
            "padding": null,
            "right": null,
            "top": null,
            "visibility": null,
            "width": null
          }
        },
        "76d8a8a4b70b4f0188707b45468563c5": {
          "model_module": "@jupyter-widgets/controls",
          "model_name": "DescriptionStyleModel",
          "model_module_version": "1.5.0",
          "state": {
            "_model_module": "@jupyter-widgets/controls",
            "_model_module_version": "1.5.0",
            "_model_name": "DescriptionStyleModel",
            "_view_count": null,
            "_view_module": "@jupyter-widgets/base",
            "_view_module_version": "1.2.0",
            "_view_name": "StyleView",
            "description_width": ""
          }
        },
        "1faa99db74494ec9b073852afedd59d5": {
          "model_module": "@jupyter-widgets/controls",
          "model_name": "HBoxModel",
          "model_module_version": "1.5.0",
          "state": {
            "_dom_classes": [],
            "_model_module": "@jupyter-widgets/controls",
            "_model_module_version": "1.5.0",
            "_model_name": "HBoxModel",
            "_view_count": null,
            "_view_module": "@jupyter-widgets/controls",
            "_view_module_version": "1.5.0",
            "_view_name": "HBoxView",
            "box_style": "",
            "children": [
              "IPY_MODEL_4b97a2afd8024c319d425890b71dabcd",
              "IPY_MODEL_051a7c72fe6d409488bfee0dfa40589d",
              "IPY_MODEL_7518d6c7f3b54123ba9fc3d4fe49237b"
            ],
            "layout": "IPY_MODEL_c7e48132d8b047478ad6c63c63cd1361"
          }
        },
        "4b97a2afd8024c319d425890b71dabcd": {
          "model_module": "@jupyter-widgets/controls",
          "model_name": "HTMLModel",
          "model_module_version": "1.5.0",
          "state": {
            "_dom_classes": [],
            "_model_module": "@jupyter-widgets/controls",
            "_model_module_version": "1.5.0",
            "_model_name": "HTMLModel",
            "_view_count": null,
            "_view_module": "@jupyter-widgets/controls",
            "_view_module_version": "1.5.0",
            "_view_name": "HTMLView",
            "description": "",
            "description_tooltip": null,
            "layout": "IPY_MODEL_9d539b3ce3da49e1b9187fd64312289b",
            "placeholder": "​",
            "style": "IPY_MODEL_dd05ea60f49d46a79987c44e70c46848",
            "value": "spiece.model: 100%"
          }
        },
        "051a7c72fe6d409488bfee0dfa40589d": {
          "model_module": "@jupyter-widgets/controls",
          "model_name": "FloatProgressModel",
          "model_module_version": "1.5.0",
          "state": {
            "_dom_classes": [],
            "_model_module": "@jupyter-widgets/controls",
            "_model_module_version": "1.5.0",
            "_model_name": "FloatProgressModel",
            "_view_count": null,
            "_view_module": "@jupyter-widgets/controls",
            "_view_module_version": "1.5.0",
            "_view_name": "ProgressView",
            "bar_style": "success",
            "description": "",
            "description_tooltip": null,
            "layout": "IPY_MODEL_be2cb5761b6745339d60317998510bd4",
            "max": 791656,
            "min": 0,
            "orientation": "horizontal",
            "style": "IPY_MODEL_a517104783ad40b3981807b4dce39e10",
            "value": 791656
          }
        },
        "7518d6c7f3b54123ba9fc3d4fe49237b": {
          "model_module": "@jupyter-widgets/controls",
          "model_name": "HTMLModel",
          "model_module_version": "1.5.0",
          "state": {
            "_dom_classes": [],
            "_model_module": "@jupyter-widgets/controls",
            "_model_module_version": "1.5.0",
            "_model_name": "HTMLModel",
            "_view_count": null,
            "_view_module": "@jupyter-widgets/controls",
            "_view_module_version": "1.5.0",
            "_view_name": "HTMLView",
            "description": "",
            "description_tooltip": null,
            "layout": "IPY_MODEL_ce38186ff0e84e44a2c0fa4b4390e989",
            "placeholder": "​",
            "style": "IPY_MODEL_bef7c5bd42ce4f30b5f77e07952a29a3",
            "value": " 792k/792k [00:00&lt;00:00, 6.14MB/s]"
          }
        },
        "c7e48132d8b047478ad6c63c63cd1361": {
          "model_module": "@jupyter-widgets/base",
          "model_name": "LayoutModel",
          "model_module_version": "1.2.0",
          "state": {
            "_model_module": "@jupyter-widgets/base",
            "_model_module_version": "1.2.0",
            "_model_name": "LayoutModel",
            "_view_count": null,
            "_view_module": "@jupyter-widgets/base",
            "_view_module_version": "1.2.0",
            "_view_name": "LayoutView",
            "align_content": null,
            "align_items": null,
            "align_self": null,
            "border": null,
            "bottom": null,
            "display": null,
            "flex": null,
            "flex_flow": null,
            "grid_area": null,
            "grid_auto_columns": null,
            "grid_auto_flow": null,
            "grid_auto_rows": null,
            "grid_column": null,
            "grid_gap": null,
            "grid_row": null,
            "grid_template_areas": null,
            "grid_template_columns": null,
            "grid_template_rows": null,
            "height": null,
            "justify_content": null,
            "justify_items": null,
            "left": null,
            "margin": null,
            "max_height": null,
            "max_width": null,
            "min_height": null,
            "min_width": null,
            "object_fit": null,
            "object_position": null,
            "order": null,
            "overflow": null,
            "overflow_x": null,
            "overflow_y": null,
            "padding": null,
            "right": null,
            "top": null,
            "visibility": null,
            "width": null
          }
        },
        "9d539b3ce3da49e1b9187fd64312289b": {
          "model_module": "@jupyter-widgets/base",
          "model_name": "LayoutModel",
          "model_module_version": "1.2.0",
          "state": {
            "_model_module": "@jupyter-widgets/base",
            "_model_module_version": "1.2.0",
            "_model_name": "LayoutModel",
            "_view_count": null,
            "_view_module": "@jupyter-widgets/base",
            "_view_module_version": "1.2.0",
            "_view_name": "LayoutView",
            "align_content": null,
            "align_items": null,
            "align_self": null,
            "border": null,
            "bottom": null,
            "display": null,
            "flex": null,
            "flex_flow": null,
            "grid_area": null,
            "grid_auto_columns": null,
            "grid_auto_flow": null,
            "grid_auto_rows": null,
            "grid_column": null,
            "grid_gap": null,
            "grid_row": null,
            "grid_template_areas": null,
            "grid_template_columns": null,
            "grid_template_rows": null,
            "height": null,
            "justify_content": null,
            "justify_items": null,
            "left": null,
            "margin": null,
            "max_height": null,
            "max_width": null,
            "min_height": null,
            "min_width": null,
            "object_fit": null,
            "object_position": null,
            "order": null,
            "overflow": null,
            "overflow_x": null,
            "overflow_y": null,
            "padding": null,
            "right": null,
            "top": null,
            "visibility": null,
            "width": null
          }
        },
        "dd05ea60f49d46a79987c44e70c46848": {
          "model_module": "@jupyter-widgets/controls",
          "model_name": "DescriptionStyleModel",
          "model_module_version": "1.5.0",
          "state": {
            "_model_module": "@jupyter-widgets/controls",
            "_model_module_version": "1.5.0",
            "_model_name": "DescriptionStyleModel",
            "_view_count": null,
            "_view_module": "@jupyter-widgets/base",
            "_view_module_version": "1.2.0",
            "_view_name": "StyleView",
            "description_width": ""
          }
        },
        "be2cb5761b6745339d60317998510bd4": {
          "model_module": "@jupyter-widgets/base",
          "model_name": "LayoutModel",
          "model_module_version": "1.2.0",
          "state": {
            "_model_module": "@jupyter-widgets/base",
            "_model_module_version": "1.2.0",
            "_model_name": "LayoutModel",
            "_view_count": null,
            "_view_module": "@jupyter-widgets/base",
            "_view_module_version": "1.2.0",
            "_view_name": "LayoutView",
            "align_content": null,
            "align_items": null,
            "align_self": null,
            "border": null,
            "bottom": null,
            "display": null,
            "flex": null,
            "flex_flow": null,
            "grid_area": null,
            "grid_auto_columns": null,
            "grid_auto_flow": null,
            "grid_auto_rows": null,
            "grid_column": null,
            "grid_gap": null,
            "grid_row": null,
            "grid_template_areas": null,
            "grid_template_columns": null,
            "grid_template_rows": null,
            "height": null,
            "justify_content": null,
            "justify_items": null,
            "left": null,
            "margin": null,
            "max_height": null,
            "max_width": null,
            "min_height": null,
            "min_width": null,
            "object_fit": null,
            "object_position": null,
            "order": null,
            "overflow": null,
            "overflow_x": null,
            "overflow_y": null,
            "padding": null,
            "right": null,
            "top": null,
            "visibility": null,
            "width": null
          }
        },
        "a517104783ad40b3981807b4dce39e10": {
          "model_module": "@jupyter-widgets/controls",
          "model_name": "ProgressStyleModel",
          "model_module_version": "1.5.0",
          "state": {
            "_model_module": "@jupyter-widgets/controls",
            "_model_module_version": "1.5.0",
            "_model_name": "ProgressStyleModel",
            "_view_count": null,
            "_view_module": "@jupyter-widgets/base",
            "_view_module_version": "1.2.0",
            "_view_name": "StyleView",
            "bar_color": null,
            "description_width": ""
          }
        },
        "ce38186ff0e84e44a2c0fa4b4390e989": {
          "model_module": "@jupyter-widgets/base",
          "model_name": "LayoutModel",
          "model_module_version": "1.2.0",
          "state": {
            "_model_module": "@jupyter-widgets/base",
            "_model_module_version": "1.2.0",
            "_model_name": "LayoutModel",
            "_view_count": null,
            "_view_module": "@jupyter-widgets/base",
            "_view_module_version": "1.2.0",
            "_view_name": "LayoutView",
            "align_content": null,
            "align_items": null,
            "align_self": null,
            "border": null,
            "bottom": null,
            "display": null,
            "flex": null,
            "flex_flow": null,
            "grid_area": null,
            "grid_auto_columns": null,
            "grid_auto_flow": null,
            "grid_auto_rows": null,
            "grid_column": null,
            "grid_gap": null,
            "grid_row": null,
            "grid_template_areas": null,
            "grid_template_columns": null,
            "grid_template_rows": null,
            "height": null,
            "justify_content": null,
            "justify_items": null,
            "left": null,
            "margin": null,
            "max_height": null,
            "max_width": null,
            "min_height": null,
            "min_width": null,
            "object_fit": null,
            "object_position": null,
            "order": null,
            "overflow": null,
            "overflow_x": null,
            "overflow_y": null,
            "padding": null,
            "right": null,
            "top": null,
            "visibility": null,
            "width": null
          }
        },
        "bef7c5bd42ce4f30b5f77e07952a29a3": {
          "model_module": "@jupyter-widgets/controls",
          "model_name": "DescriptionStyleModel",
          "model_module_version": "1.5.0",
          "state": {
            "_model_module": "@jupyter-widgets/controls",
            "_model_module_version": "1.5.0",
            "_model_name": "DescriptionStyleModel",
            "_view_count": null,
            "_view_module": "@jupyter-widgets/base",
            "_view_module_version": "1.2.0",
            "_view_name": "StyleView",
            "description_width": ""
          }
        },
        "e1c92a7cd3d14a50941e587db4d07193": {
          "model_module": "@jupyter-widgets/controls",
          "model_name": "HBoxModel",
          "model_module_version": "1.5.0",
          "state": {
            "_dom_classes": [],
            "_model_module": "@jupyter-widgets/controls",
            "_model_module_version": "1.5.0",
            "_model_name": "HBoxModel",
            "_view_count": null,
            "_view_module": "@jupyter-widgets/controls",
            "_view_module_version": "1.5.0",
            "_view_name": "HBoxView",
            "box_style": "",
            "children": [
              "IPY_MODEL_a666b87e9a264b578f9e915eb3844558",
              "IPY_MODEL_25cdbae7afe04d198d23ae80c84b4725",
              "IPY_MODEL_f52a033ed54e435a847d00c39e55be38"
            ],
            "layout": "IPY_MODEL_1d109a166e4741fd94ef1204098acc7c"
          }
        },
        "a666b87e9a264b578f9e915eb3844558": {
          "model_module": "@jupyter-widgets/controls",
          "model_name": "HTMLModel",
          "model_module_version": "1.5.0",
          "state": {
            "_dom_classes": [],
            "_model_module": "@jupyter-widgets/controls",
            "_model_module_version": "1.5.0",
            "_model_name": "HTMLModel",
            "_view_count": null,
            "_view_module": "@jupyter-widgets/controls",
            "_view_module_version": "1.5.0",
            "_view_name": "HTMLView",
            "description": "",
            "description_tooltip": null,
            "layout": "IPY_MODEL_ec73b752ea284357a340d98fe9651cbe",
            "placeholder": "​",
            "style": "IPY_MODEL_0abc8680a38a45f18157d93d16b01cbb",
            "value": "tokenizer.json: 100%"
          }
        },
        "25cdbae7afe04d198d23ae80c84b4725": {
          "model_module": "@jupyter-widgets/controls",
          "model_name": "FloatProgressModel",
          "model_module_version": "1.5.0",
          "state": {
            "_dom_classes": [],
            "_model_module": "@jupyter-widgets/controls",
            "_model_module_version": "1.5.0",
            "_model_name": "FloatProgressModel",
            "_view_count": null,
            "_view_module": "@jupyter-widgets/controls",
            "_view_module_version": "1.5.0",
            "_view_name": "ProgressView",
            "bar_style": "success",
            "description": "",
            "description_tooltip": null,
            "layout": "IPY_MODEL_89c112e4e669493ebd31787081f667d1",
            "max": 1389353,
            "min": 0,
            "orientation": "horizontal",
            "style": "IPY_MODEL_9aec643858c74bcdb8059ead05203806",
            "value": 1389353
          }
        },
        "f52a033ed54e435a847d00c39e55be38": {
          "model_module": "@jupyter-widgets/controls",
          "model_name": "HTMLModel",
          "model_module_version": "1.5.0",
          "state": {
            "_dom_classes": [],
            "_model_module": "@jupyter-widgets/controls",
            "_model_module_version": "1.5.0",
            "_model_name": "HTMLModel",
            "_view_count": null,
            "_view_module": "@jupyter-widgets/controls",
            "_view_module_version": "1.5.0",
            "_view_name": "HTMLView",
            "description": "",
            "description_tooltip": null,
            "layout": "IPY_MODEL_f22b09fab0fb48818978adaaae32dfc7",
            "placeholder": "​",
            "style": "IPY_MODEL_47af8eab520547e39df35ad756300613",
            "value": " 1.39M/1.39M [00:00&lt;00:00, 5.33MB/s]"
          }
        },
        "1d109a166e4741fd94ef1204098acc7c": {
          "model_module": "@jupyter-widgets/base",
          "model_name": "LayoutModel",
          "model_module_version": "1.2.0",
          "state": {
            "_model_module": "@jupyter-widgets/base",
            "_model_module_version": "1.2.0",
            "_model_name": "LayoutModel",
            "_view_count": null,
            "_view_module": "@jupyter-widgets/base",
            "_view_module_version": "1.2.0",
            "_view_name": "LayoutView",
            "align_content": null,
            "align_items": null,
            "align_self": null,
            "border": null,
            "bottom": null,
            "display": null,
            "flex": null,
            "flex_flow": null,
            "grid_area": null,
            "grid_auto_columns": null,
            "grid_auto_flow": null,
            "grid_auto_rows": null,
            "grid_column": null,
            "grid_gap": null,
            "grid_row": null,
            "grid_template_areas": null,
            "grid_template_columns": null,
            "grid_template_rows": null,
            "height": null,
            "justify_content": null,
            "justify_items": null,
            "left": null,
            "margin": null,
            "max_height": null,
            "max_width": null,
            "min_height": null,
            "min_width": null,
            "object_fit": null,
            "object_position": null,
            "order": null,
            "overflow": null,
            "overflow_x": null,
            "overflow_y": null,
            "padding": null,
            "right": null,
            "top": null,
            "visibility": null,
            "width": null
          }
        },
        "ec73b752ea284357a340d98fe9651cbe": {
          "model_module": "@jupyter-widgets/base",
          "model_name": "LayoutModel",
          "model_module_version": "1.2.0",
          "state": {
            "_model_module": "@jupyter-widgets/base",
            "_model_module_version": "1.2.0",
            "_model_name": "LayoutModel",
            "_view_count": null,
            "_view_module": "@jupyter-widgets/base",
            "_view_module_version": "1.2.0",
            "_view_name": "LayoutView",
            "align_content": null,
            "align_items": null,
            "align_self": null,
            "border": null,
            "bottom": null,
            "display": null,
            "flex": null,
            "flex_flow": null,
            "grid_area": null,
            "grid_auto_columns": null,
            "grid_auto_flow": null,
            "grid_auto_rows": null,
            "grid_column": null,
            "grid_gap": null,
            "grid_row": null,
            "grid_template_areas": null,
            "grid_template_columns": null,
            "grid_template_rows": null,
            "height": null,
            "justify_content": null,
            "justify_items": null,
            "left": null,
            "margin": null,
            "max_height": null,
            "max_width": null,
            "min_height": null,
            "min_width": null,
            "object_fit": null,
            "object_position": null,
            "order": null,
            "overflow": null,
            "overflow_x": null,
            "overflow_y": null,
            "padding": null,
            "right": null,
            "top": null,
            "visibility": null,
            "width": null
          }
        },
        "0abc8680a38a45f18157d93d16b01cbb": {
          "model_module": "@jupyter-widgets/controls",
          "model_name": "DescriptionStyleModel",
          "model_module_version": "1.5.0",
          "state": {
            "_model_module": "@jupyter-widgets/controls",
            "_model_module_version": "1.5.0",
            "_model_name": "DescriptionStyleModel",
            "_view_count": null,
            "_view_module": "@jupyter-widgets/base",
            "_view_module_version": "1.2.0",
            "_view_name": "StyleView",
            "description_width": ""
          }
        },
        "89c112e4e669493ebd31787081f667d1": {
          "model_module": "@jupyter-widgets/base",
          "model_name": "LayoutModel",
          "model_module_version": "1.2.0",
          "state": {
            "_model_module": "@jupyter-widgets/base",
            "_model_module_version": "1.2.0",
            "_model_name": "LayoutModel",
            "_view_count": null,
            "_view_module": "@jupyter-widgets/base",
            "_view_module_version": "1.2.0",
            "_view_name": "LayoutView",
            "align_content": null,
            "align_items": null,
            "align_self": null,
            "border": null,
            "bottom": null,
            "display": null,
            "flex": null,
            "flex_flow": null,
            "grid_area": null,
            "grid_auto_columns": null,
            "grid_auto_flow": null,
            "grid_auto_rows": null,
            "grid_column": null,
            "grid_gap": null,
            "grid_row": null,
            "grid_template_areas": null,
            "grid_template_columns": null,
            "grid_template_rows": null,
            "height": null,
            "justify_content": null,
            "justify_items": null,
            "left": null,
            "margin": null,
            "max_height": null,
            "max_width": null,
            "min_height": null,
            "min_width": null,
            "object_fit": null,
            "object_position": null,
            "order": null,
            "overflow": null,
            "overflow_x": null,
            "overflow_y": null,
            "padding": null,
            "right": null,
            "top": null,
            "visibility": null,
            "width": null
          }
        },
        "9aec643858c74bcdb8059ead05203806": {
          "model_module": "@jupyter-widgets/controls",
          "model_name": "ProgressStyleModel",
          "model_module_version": "1.5.0",
          "state": {
            "_model_module": "@jupyter-widgets/controls",
            "_model_module_version": "1.5.0",
            "_model_name": "ProgressStyleModel",
            "_view_count": null,
            "_view_module": "@jupyter-widgets/base",
            "_view_module_version": "1.2.0",
            "_view_name": "StyleView",
            "bar_color": null,
            "description_width": ""
          }
        },
        "f22b09fab0fb48818978adaaae32dfc7": {
          "model_module": "@jupyter-widgets/base",
          "model_name": "LayoutModel",
          "model_module_version": "1.2.0",
          "state": {
            "_model_module": "@jupyter-widgets/base",
            "_model_module_version": "1.2.0",
            "_model_name": "LayoutModel",
            "_view_count": null,
            "_view_module": "@jupyter-widgets/base",
            "_view_module_version": "1.2.0",
            "_view_name": "LayoutView",
            "align_content": null,
            "align_items": null,
            "align_self": null,
            "border": null,
            "bottom": null,
            "display": null,
            "flex": null,
            "flex_flow": null,
            "grid_area": null,
            "grid_auto_columns": null,
            "grid_auto_flow": null,
            "grid_auto_rows": null,
            "grid_column": null,
            "grid_gap": null,
            "grid_row": null,
            "grid_template_areas": null,
            "grid_template_columns": null,
            "grid_template_rows": null,
            "height": null,
            "justify_content": null,
            "justify_items": null,
            "left": null,
            "margin": null,
            "max_height": null,
            "max_width": null,
            "min_height": null,
            "min_width": null,
            "object_fit": null,
            "object_position": null,
            "order": null,
            "overflow": null,
            "overflow_x": null,
            "overflow_y": null,
            "padding": null,
            "right": null,
            "top": null,
            "visibility": null,
            "width": null
          }
        },
        "47af8eab520547e39df35ad756300613": {
          "model_module": "@jupyter-widgets/controls",
          "model_name": "DescriptionStyleModel",
          "model_module_version": "1.5.0",
          "state": {
            "_model_module": "@jupyter-widgets/controls",
            "_model_module_version": "1.5.0",
            "_model_name": "DescriptionStyleModel",
            "_view_count": null,
            "_view_module": "@jupyter-widgets/base",
            "_view_module_version": "1.2.0",
            "_view_name": "StyleView",
            "description_width": ""
          }
        }
      }
    }
  },
  "nbformat": 4,
  "nbformat_minor": 0
}