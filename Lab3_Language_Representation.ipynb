{
  "nbformat": 4,
  "nbformat_minor": 0,
  "metadata": {
    "colab": {
      "provenance": [],
      "include_colab_link": true
    },
    "kernelspec": {
      "name": "python3",
      "display_name": "Python 3"
    },
    "language_info": {
      "name": "python"
    }
  },
  "cells": [
    {
      "cell_type": "markdown",
      "metadata": {
        "id": "view-in-github",
        "colab_type": "text"
      },
      "source": [
        "<a href=\"https://colab.research.google.com/github/axcel342/NLP_Labs/blob/main/Lab3_Language_Representation.ipynb\" target=\"_parent\"><img src=\"https://colab.research.google.com/assets/colab-badge.svg\" alt=\"Open In Colab\"/></a>"
      ]
    },
    {
      "cell_type": "markdown",
      "metadata": {
        "id": "mea-CemjMt15"
      },
      "source": [
        "# **LAB 3: Language Representation**"
      ]
    },
    {
      "cell_type": "markdown",
      "metadata": {
        "id": "CTCiwRXMdlVS"
      },
      "source": [
        "**Language Representation** a.k.a. Text Representation is the process of converting unstructured text data into a structured format (machine-readable form). It involves converting words, phrases, or entire documents into numerical or symbolic representations while preserving meaning and context.\n",
        "\n",
        "It comprise preprocessing the text data followed by selecting a suitable representation scheme, such as Bag-of-Words, TF-IDF etc. to capture the key features and characteristics of the same, in a numerical form that can be processed by machine learning algorithms.\n",
        "\n"
      ]
    },
    {
      "cell_type": "markdown",
      "metadata": {
        "id": "KUPIYDoTM3yo"
      },
      "source": [
        "# **Objectives:**\n",
        "This lab is designed to introduce students to  fundamental techniques for representing text in a machine-readable format. These techniques form the foundation for various NLP applications, enabling machines to understand and process human language efficiently\n",
        "By the end of this lab, students will be familiar with several key Language Representation tasks which include:\n",
        "\n",
        "1. Text Preprocessing\n",
        "    * Remove Punctuation\n",
        "    * Remove URLs\n",
        "    * Lowercasing\n",
        "    * Tokenization\n",
        "    * Remove Stop Words\n",
        "    * Stemming\n",
        "    * Lemmatization\n",
        "2. Character Encoding\n",
        "    * ASCII\n",
        "    * UTF-8\n",
        "3. Text Representation\n",
        "    * Bag-of-Words (BoW)\n",
        "    * Term Frequency - Inverse Document Frequency (TF-IDF)"
      ]
    },
    {
      "cell_type": "markdown",
      "source": [
        "# 1.  **Text Preprocessing**\n",
        "Raw text data is often messy and unstructured, so we need Text Preprocessing, as it cleans and organizes text for better analysis and predictions\n",
        "\n",
        "\n",
        "* Remove Punctuation\n",
        "* Remove URLs\n",
        "* Lowercasing\n",
        "* Tokenization\n",
        "* Remove Stop Words\n",
        "* Stemming\n",
        "* Lemmatization\n",
        "\n"
      ],
      "metadata": {
        "id": "ogTyWzhdWAdR"
      }
    },
    {
      "cell_type": "markdown",
      "source": [
        "### **Remove Punctuation**"
      ],
      "metadata": {
        "id": "7Z_70YsO2c3F"
      }
    },
    {
      "cell_type": "code",
      "source": [
        "import string\n",
        "\n",
        "text = \"Hello, world! How's it going?\"\n",
        "text_no_punct = text.translate(str.maketrans(\"\", \"\", string.punctuation))\n",
        "print(text_no_punct)  # Output: Hello world Hows it going"
      ],
      "metadata": {
        "colab": {
          "base_uri": "https://localhost:8080/"
        },
        "id": "dXJT-gNIY2Nt",
        "outputId": "75ad8ff4-038f-4a42-d5f6-cdc184e72877"
      },
      "execution_count": null,
      "outputs": [
        {
          "output_type": "stream",
          "name": "stdout",
          "text": [
            "Hello world Hows it going\n"
          ]
        }
      ]
    },
    {
      "cell_type": "markdown",
      "source": [
        "### **Remove URLs**"
      ],
      "metadata": {
        "id": "uySpPCrt2hUE"
      }
    },
    {
      "cell_type": "code",
      "source": [
        "import re\n",
        "\n",
        "text = \"Check this out: https://example.com for more details.\"\n",
        "text_no_urls = re.sub(r'http\\S+|www\\S+', '', text)\n",
        "print(text_no_urls)  # Output: Check this out:  for more details."
      ],
      "metadata": {
        "colab": {
          "base_uri": "https://localhost:8080/"
        },
        "id": "YbiZcvsla4N0",
        "outputId": "08c26cbc-ac4b-4845-f703-2a78a78065f3"
      },
      "execution_count": null,
      "outputs": [
        {
          "output_type": "stream",
          "name": "stdout",
          "text": [
            "Check this out:  for more details.\n"
          ]
        }
      ]
    },
    {
      "cell_type": "markdown",
      "source": [
        "### **Lowercasing**"
      ],
      "metadata": {
        "id": "n-J0Xp6l2yeN"
      }
    },
    {
      "cell_type": "code",
      "source": [
        "text = \"HELLO World! This is an Example.\"\n",
        "text_lower = text.lower()\n",
        "print(text_lower)  # Output: hello world! this is an example."
      ],
      "metadata": {
        "colab": {
          "base_uri": "https://localhost:8080/"
        },
        "id": "GOVaPSq1biHL",
        "outputId": "e2c0984c-8214-4472-985e-b03316460d61"
      },
      "execution_count": null,
      "outputs": [
        {
          "output_type": "stream",
          "name": "stdout",
          "text": [
            "hello world! this is an example.\n"
          ]
        }
      ]
    },
    {
      "cell_type": "markdown",
      "source": [
        "### **Tokenization**"
      ],
      "metadata": {
        "id": "8SuBpf0D6i73"
      }
    },
    {
      "cell_type": "code",
      "source": [
        "import nltk\n",
        "nltk.download(\"stopwords\")\n",
        "nltk.download(\"punkt_tab\")\n",
        "from nltk.corpus import stopwords\n",
        "from nltk.tokenize import word_tokenize"
      ],
      "metadata": {
        "colab": {
          "base_uri": "https://localhost:8080/"
        },
        "id": "19T3pnaJ6pX7",
        "outputId": "c93c23f2-1af9-4d45-f330-4660810d980b"
      },
      "execution_count": null,
      "outputs": [
        {
          "output_type": "stream",
          "name": "stderr",
          "text": [
            "[nltk_data] Downloading package stopwords to /root/nltk_data...\n",
            "[nltk_data]   Unzipping corpora/stopwords.zip.\n",
            "[nltk_data] Downloading package punkt_tab to /root/nltk_data...\n",
            "[nltk_data]   Unzipping tokenizers/punkt_tab.zip.\n"
          ]
        }
      ]
    },
    {
      "cell_type": "code",
      "source": [
        "text = \"this is an example sentence. to demonstrate stop word removal.\"\n",
        "words = word_tokenize(text)\n",
        "print(words) # Output: ['this', 'is', 'an', 'example', 'sentence', 'to', 'demonstrate', 'stop', 'word', 'removal', '.']"
      ],
      "metadata": {
        "colab": {
          "base_uri": "https://localhost:8080/"
        },
        "id": "InXXv3ia8egR",
        "outputId": "12a22526-c293-4b94-f935-5405383db792"
      },
      "execution_count": null,
      "outputs": [
        {
          "output_type": "stream",
          "name": "stdout",
          "text": [
            "['this', 'is', 'an', 'example', 'sentence', '.', 'to', 'demonstrate', 'stop', 'word', 'removal', '.']\n"
          ]
        }
      ]
    },
    {
      "cell_type": "markdown",
      "source": [
        "### **Remove Stop Words**"
      ],
      "metadata": {
        "id": "wk0AINHp2rKa"
      }
    },
    {
      "cell_type": "code",
      "source": [
        "# Using the `words` from previous block\n",
        "filtered_text = [word for word in words if word not in stopwords.words(\"english\")]\n",
        "print(filtered_text)  # Output: ['example', 'sentence', 'demonstrate', 'stop', 'word', 'removal', '.']"
      ],
      "metadata": {
        "colab": {
          "base_uri": "https://localhost:8080/"
        },
        "id": "MDR-VcehbfOR",
        "outputId": "98ed8342-a388-4af5-858f-c02b6af27c79"
      },
      "execution_count": null,
      "outputs": [
        {
          "output_type": "stream",
          "name": "stdout",
          "text": [
            "['example', 'sentence', '.', 'demonstrate', 'stop', 'word', 'removal', '.']\n"
          ]
        }
      ]
    },
    {
      "cell_type": "markdown",
      "source": [
        "### **Stemming**"
      ],
      "metadata": {
        "id": "IciaoQfU28AB"
      }
    },
    {
      "cell_type": "code",
      "source": [
        "from nltk.stem import PorterStemmer"
      ],
      "metadata": {
        "id": "nyUSq5y42TPM"
      },
      "execution_count": null,
      "outputs": []
    },
    {
      "cell_type": "code",
      "source": [
        "stemmer = PorterStemmer()\n",
        "words = [\"running\", \"flies\", \"better\", \"happily\", \"jumping\", \"countries\"]\n",
        "stemmed_words = [stemmer.stem(word) for word in words]\n",
        "\n",
        "print(stemmed_words)\n",
        "# Output: ['run', 'fli', 'better', 'happili', 'jump', 'countri']"
      ],
      "metadata": {
        "colab": {
          "base_uri": "https://localhost:8080/"
        },
        "id": "wtfw5foQ9xWG",
        "outputId": "2790cc15-521c-4bef-8189-bd2b40c1bc44"
      },
      "execution_count": null,
      "outputs": [
        {
          "output_type": "stream",
          "name": "stdout",
          "text": [
            "['run', 'fli', 'better', 'happili', 'jump', 'countri']\n"
          ]
        }
      ]
    },
    {
      "cell_type": "markdown",
      "source": [
        "### **Lemmatization**"
      ],
      "metadata": {
        "id": "aIB6tNBK2-xU"
      }
    },
    {
      "cell_type": "code",
      "source": [
        "from nltk.stem import WordNetLemmatizer\n",
        "nltk.download('wordnet')"
      ],
      "metadata": {
        "colab": {
          "base_uri": "https://localhost:8080/"
        },
        "id": "Ld0X-6qq2Vj0",
        "outputId": "bd2792ab-cc52-429b-f0e2-11650cdcf98b"
      },
      "execution_count": null,
      "outputs": [
        {
          "output_type": "stream",
          "name": "stderr",
          "text": [
            "[nltk_data] Downloading package wordnet to /root/nltk_data...\n"
          ]
        },
        {
          "output_type": "execute_result",
          "data": {
            "text/plain": [
              "True"
            ]
          },
          "metadata": {},
          "execution_count": 9
        }
      ]
    },
    {
      "cell_type": "code",
      "source": [
        "lemmatizer = WordNetLemmatizer()\n",
        "words = [\"running\", \"flies\", \"better\", \"happily\", \"jumping\", \"countries\"]\n",
        "lemmatized_words = [lemmatizer.lemmatize(word, pos=\"n\") for word in words]  # 'n' for noun\n",
        "\n",
        "print(lemmatized_words)  # Output: ['run', 'fly', 'better', 'happily', 'jump']"
      ],
      "metadata": {
        "colab": {
          "base_uri": "https://localhost:8080/"
        },
        "id": "EkDPa4cU9X5A",
        "outputId": "1600de05-e49c-450e-808d-43ca2da91b70"
      },
      "execution_count": null,
      "outputs": [
        {
          "output_type": "stream",
          "name": "stdout",
          "text": [
            "['running', 'fly', 'better', 'happily', 'jumping', 'country']\n"
          ]
        }
      ]
    },
    {
      "cell_type": "markdown",
      "source": [
        "NOTE: Valid options for `pos` in `.lemmatize()` are “n” for nouns, “v” for verbs, “a” for adjectives, “r” for adverbs and “s” for satellite adjectives.\n",
        "\n"
      ],
      "metadata": {
        "id": "12h10fYe_w6z"
      }
    },
    {
      "cell_type": "markdown",
      "source": [
        "### **Task: Perform the Preprocessing Steps sequentially, on the provided example, by following the hints in comments**"
      ],
      "metadata": {
        "id": "B-Jgwzw8m1I9"
      }
    },
    {
      "cell_type": "code",
      "source": [
        "# Import Libraries\n",
        "import re\n",
        "import string\n",
        "import nltk\n",
        "from nltk.tokenize import word_tokenize, sent_tokenize\n",
        "from nltk.corpus import stopwords\n",
        "from nltk.stem import PorterStemmer, WordNetLemmatizer\n",
        "\n",
        "# Download necessary NLTK resources\n",
        "nltk.download(\"punkt_tab\")\n",
        "nltk.download(\"stopwords\")\n",
        "nltk.download(\"wordnet\")"
      ],
      "metadata": {
        "colab": {
          "base_uri": "https://localhost:8080/"
        },
        "id": "ltpQpSmam0uF",
        "outputId": "68eaa2c9-d7ba-4019-dcb3-6d6cf8ba1e44"
      },
      "execution_count": null,
      "outputs": [
        {
          "output_type": "stream",
          "name": "stderr",
          "text": [
            "[nltk_data] Downloading package punkt_tab to /root/nltk_data...\n",
            "[nltk_data]   Package punkt_tab is already up-to-date!\n",
            "[nltk_data] Downloading package stopwords to /root/nltk_data...\n",
            "[nltk_data]   Package stopwords is already up-to-date!\n",
            "[nltk_data] Downloading package wordnet to /root/nltk_data...\n",
            "[nltk_data]   Package wordnet is already up-to-date!\n"
          ]
        },
        {
          "output_type": "execute_result",
          "data": {
            "text/plain": [
              "True"
            ]
          },
          "metadata": {},
          "execution_count": 11
        }
      ]
    },
    {
      "cell_type": "code",
      "source": [
        "# Text to be used for preprocessing\n",
        "text = \"Hello, world! NLP is amazing. Let's learn it at https://example.com.\"\n",
        "\n",
        "# 1. Remove Punctuation from Provided Text\n",
        "\n",
        "# print the output\n",
        "\n",
        "\n",
        "\n",
        "# 2. Remove URLs from Output of Step 1\n",
        "\n",
        "# print the output\n",
        "\n",
        "\n",
        "\n",
        "# 3. Perform Lowercasing on Output of Step 2\n",
        "\n",
        "# print the output\n",
        "\n",
        "\n",
        "\n",
        "# 4. Perform Word and Sentence Tokenization, individually on Output of Step 3\n",
        "\n",
        "# print both outputs\n",
        "\n",
        "\n",
        "\n",
        "# 5. Remove Stop Words from Output of Step 4 (word tokenize output)\n",
        "\n",
        "# print the output\n",
        "\n",
        "\n",
        "\n",
        "# 6. Perform Stemming on Output of Step 5\n",
        "\n",
        "# print the output\n",
        "\n",
        "\n",
        "# 7. Perform Lemmatization on Output of Step 5, making sure POS tag is set for Verb\n",
        "\n",
        "# print the output"
      ],
      "metadata": {
        "id": "AkStK_f8-G4y"
      },
      "execution_count": null,
      "outputs": []
    },
    {
      "cell_type": "markdown",
      "source": [
        "# 2.  **Character Encoding**\n",
        "Raw text data is often messy and unstructured, so we need Text Preprocessing, as it cleans and organizes text for better analysis and predictions\n",
        "\n",
        "\n",
        "* American Standard Code for Information Interchange (ASCII)\n",
        "* Unicode Transformation Format 8 (UTF-8)"
      ],
      "metadata": {
        "id": "HlyctAVVY3fs"
      }
    },
    {
      "cell_type": "markdown",
      "source": [
        "### **American Standard Code for Information Interchange (ASCII)**\n",
        "\n",
        "ASCII is a character encoding standard that uses binary numbers to represent text, and is used in computers, telecommunications, and other devices."
      ],
      "metadata": {
        "id": "_QwuLFRaEoUj"
      }
    },
    {
      "cell_type": "markdown",
      "source": [
        "We can perform ASCII encoding and decoding using the `.encode()` and `.decode()` function, where the encoding type is set as `\"ascii\"`.\n",
        "\n",
        "Due to its limited multilingual support, it can not encode Non-ASCII characters, so we need to ignore them!"
      ],
      "metadata": {
        "id": "_zgNGKCnHSmf"
      }
    },
    {
      "cell_type": "code",
      "source": [
        "text = \"Hello, دنیا\"\n",
        "\n",
        "# Encode using ASCII (ignoring non-ASCII characters)\n",
        "encoded_text = text.encode(\"ascii\", errors=\"ignore\")\n",
        "print(\"Encoded Text: \", encoded_text)  # Output: b'Caf'\n",
        "\n",
        "# Encode using ASCII (replacing non-ASCII characters)\n",
        "decoded_text = encoded_text.decode(\"ascii\")\n",
        "print(\"Decoded Text: \", decoded_text)  # Output: Hello"
      ],
      "metadata": {
        "colab": {
          "base_uri": "https://localhost:8080/"
        },
        "id": "u79AyCo6xt7u",
        "outputId": "8968352e-4556-45f7-b0e6-8ed39c5062a4"
      },
      "execution_count": null,
      "outputs": [
        {
          "output_type": "stream",
          "name": "stdout",
          "text": [
            "Encoded Text:  b'Hello, '\n",
            "Decoded Text:  Hello, \n"
          ]
        }
      ]
    },
    {
      "cell_type": "markdown",
      "source": [
        "### **Unicode Transformation Format 8 (UTF-8)**\n",
        "\n",
        "UTF-8 is a character encoding standard which leverages variable-width encoding, meaning that each character is represented by one to four bytes. It is the most common encoding for the World Wide Web."
      ],
      "metadata": {
        "id": "YzEPaHWhEnY7"
      }
    },
    {
      "cell_type": "markdown",
      "source": [
        "Similarly to ASCII, we can perform UTF-8 encoding and decoding using the `.encode()` and `.decode()` function, where the encoding type is set as `\"UTF-8\"`\n",
        "\n",
        "Due to its vast multilingual support, it can encode Non English characters too!\n",
        "\n"
      ],
      "metadata": {
        "id": "aFzcyuKeIOjT"
      }
    },
    {
      "cell_type": "markdown",
      "source": [
        "#### **Task: Perform UTF-8 Encoding and Decoding on the provided example, using the hints in comments**"
      ],
      "metadata": {
        "id": "nlpjaPQ9JKfr"
      }
    },
    {
      "cell_type": "code",
      "source": [
        "text = \"ہیلو، دنیا\"  # Unicode string in Urdu\n",
        "\n",
        "# Encode to bytes using UTF-8\n",
        "\n",
        "# print the output\n",
        "\n",
        "\n",
        "# Decode back to string using .decode()\n",
        "\n",
        "# print the output"
      ],
      "metadata": {
        "id": "tdfclDuUyJ2Z"
      },
      "execution_count": null,
      "outputs": []
    },
    {
      "cell_type": "markdown",
      "source": [
        "# 3. **Text Representation**\n",
        "\n",
        "Text representation is the process of converting unstructured text data into a structured format (machine-readable form) that can be used for natural language processing tasks\n",
        "\n",
        "It involves selecting a suitable representation scheme, such as bag-of-words, TF-IDF, word embeddings, or topic models, to capture the key features and characteristics of the text data in a numerical form that can be processed by machine learning algorithms.\n",
        "\n",
        "\n",
        "a) **Bag-of-Words (BoW) Representation:**\n",
        "\n",
        "It represents text as a vector of word frequencies, ignoring grammar and word order, based on a corpus-wide vocabulary.\n",
        "\n",
        "\n",
        "b) **Term Frequency - Inverse Document Frequency (TF-IDF) Representation:**\n",
        "\n",
        "It is a statistical measure that evaluates a word's importance in a document relative to a collection of documents by combining its frequency in the document (TF) and its rarity across the corpus (IDF).\n",
        "\n",
        "Words that appear frequently across many documents (common words) have lower importance."
      ],
      "metadata": {
        "id": "ygOZDTxNf_tL"
      }
    },
    {
      "cell_type": "markdown",
      "source": [
        "#### **Example:**\n",
        "\n",
        "**Input Text 1:** \"I love NLP.\"\n",
        "\n",
        "**Input Text 2:** \"NLP is good.\"\n",
        "\n",
        "a) **Bag-of-Words (BoW) Representation:**\n",
        "\n",
        "Assuming the above 2 sentences where \"NLP\" is common, while other words are occurring once, the vector assign equal weight to \"NLP\" as the other words.\n",
        "\n",
        "b) **Term Frequency - Inverse Document Frequency (TF-IDF) Representation:**\n",
        "\n",
        "Assuming the above 2 sentences where \"NLP\" is common, while other words are occurring one, the vector assign lower weight to \"NLP\", as compared to other words.\n",
        "\n",
        "Now we will implement BoW and TF-IDF in this lab."
      ],
      "metadata": {
        "id": "i5ChAcYmNczt"
      }
    },
    {
      "cell_type": "markdown",
      "source": [
        "### **BoW**"
      ],
      "metadata": {
        "id": "tgXiBAngRF_h"
      }
    },
    {
      "cell_type": "code",
      "source": [
        "# Import libraries\n",
        "from sklearn.feature_extraction.text import CountVectorizer # for BoW"
      ],
      "metadata": {
        "id": "5yjPtE0WLmwN"
      },
      "execution_count": null,
      "outputs": []
    },
    {
      "cell_type": "code",
      "source": [
        "# Input texts\n",
        "text1 = \"I love NLP.\"\n",
        "text2 = \"NLP is an interesting subject.\"\n",
        "\n",
        "# Bag of Words (BoW)\n",
        "\n",
        "# Initialize the CountVectorizer, which converts text into a matrix of token counts\n",
        "bow_vectorizer = CountVectorizer()\n",
        "# Fit and transform the input texts into a BoW matrix\n",
        "bow_matrix = bow_vectorizer.fit_transform([text1, text2])\n",
        "\n",
        "# Feature names and BoW representation\n",
        "print(\"Bag of Words (BoW):\")\n",
        "print(\"Feature Names:\", bow_vectorizer.get_feature_names_out())\n",
        "print(\"BoW Matrix:\\n\", bow_matrix.toarray())"
      ],
      "metadata": {
        "colab": {
          "base_uri": "https://localhost:8080/"
        },
        "id": "zRtvl7UYJyUA",
        "outputId": "ede1bc8f-4028-4453-a58f-de3e46e8e8c9"
      },
      "execution_count": null,
      "outputs": [
        {
          "output_type": "stream",
          "name": "stdout",
          "text": [
            "Bag of Words (BoW):\n",
            "Feature Names: ['an' 'interesting' 'is' 'love' 'nlp' 'subject']\n",
            "BoW Matrix:\n",
            " [[0 0 0 1 1 0]\n",
            " [1 1 1 0 1 1]]\n"
          ]
        }
      ]
    },
    {
      "cell_type": "markdown",
      "source": [
        "NOTE: `vectorizer.fit_transform()` build a unique vocabulary by\n",
        "  * Applying Tokenization\n",
        "  * Removing Duplicates\n",
        "  * Lowercasing\n",
        "  * Stop Word Removal"
      ],
      "metadata": {
        "id": "wWeBbQGBOhAx"
      }
    },
    {
      "cell_type": "markdown",
      "source": [
        "### **TF-IDF**"
      ],
      "metadata": {
        "id": "5rZRySOfQ2ED"
      }
    },
    {
      "cell_type": "markdown",
      "source": [
        "#### **Task: Perform TF-IDF on the above example (used in BoW), using the hints in comments**"
      ],
      "metadata": {
        "id": "DS_hXDJvN5V0"
      }
    },
    {
      "cell_type": "code",
      "source": [
        "from sklearn.feature_extraction.text import TfidfVectorizer # for TF-IDF"
      ],
      "metadata": {
        "id": "o1zb-5XuOwYQ"
      },
      "execution_count": null,
      "outputs": []
    },
    {
      "cell_type": "code",
      "source": [
        "# TF-IDF\n",
        "# Same text to be used as BoW\n",
        "\n",
        "\n",
        "# Initialize the TfidfVectorizer, which transforms text into TF-IDF\n",
        "\n",
        "\n",
        "# Fit and transform the input texts into a TF-IDF matrix\n",
        "\n",
        "\n",
        "# Print the Feature names and TF-IDF representation\n",
        "\n"
      ],
      "metadata": {
        "id": "9qR5T6Dszsct"
      },
      "execution_count": null,
      "outputs": []
    }
  ]
}